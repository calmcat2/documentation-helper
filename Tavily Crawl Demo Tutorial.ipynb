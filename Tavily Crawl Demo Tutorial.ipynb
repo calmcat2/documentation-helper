{
 "cells": [
  {
   "cell_type": "markdown",
   "metadata": {
    "vscode": {
     "languageId": "raw"
    }
   },
   "source": [
    "# 🤖 TavilyCrawl Tutorial: Intelligent Web Crawling\n",
    "\n",
    "> **📚 Part of the LangChain - Develop AI Agents with LangChain & LangGraph**  \n",
    "> [🎓 Get the full course](https://www.udemy.com/course/langchain/?referralCode=D981B8213164A3EA91AC)\n",
    "\n",
    "## What is TavilyCrawl?\n",
    "\n",
    "**TavilyCrawl** is the first intelligent web crawler that uses AI to determine which paths to explore during crawling. It combines AI-powered decision making with parallel processing capabilities.\n",
    "\n",
    "### Key Features:\n",
    "\n",
    "- **AI-Powered Path Selection**: Uses AI to determine which paths to explore\n",
    "- **Parallel Processing**: Explores hundreds of paths simultaneously  \n",
    "- **Advanced Extraction**: Extracts content from dynamically rendered pages\n",
    "- **Instruction-Driven**: Follows natural language instructions to guide exploration\n",
    "- **Targeted Content**: Returns content tailored for LLM integration and RAG systems\n",
    "\n",
    "In this tutorial, we'll demonstrate TavilyCrawl by comparing different instruction approaches on the **LangChain documentation**:\n",
    "1. 🔍 **Regular crawl without instructions** - baseline behavior\n",
    "2. ❌ **Regular crawl with poor instructions** - demonstrates what to avoid\n",
    "3. ✅ **Regular crawl with good instructions** - targeted results\n",
    "\n",
    "---"
   ]
  },
  {
   "cell_type": "raw",
   "metadata": {
    "vscode": {
     "languageId": "raw"
    }
   },
   "source": [
    "## 📦 Setup & Installation\n",
    "\n",
    "First, let's install the required packages and set up our environment.\n"
   ]
  },
  {
   "cell_type": "code",
   "execution_count": 1,
   "metadata": {},
   "outputs": [
    {
     "name": "stdout",
     "output_type": "stream",
     "text": [
      "Requirement already satisfied: langchain-tavily in /Users/edenmarco/.local/share/virtualenvs/documentation-helper-zmyxh5Q8/lib/python3.10/site-packages (0.2.7)\n",
      "Requirement already satisfied: certifi in /Users/edenmarco/.local/share/virtualenvs/documentation-helper-zmyxh5Q8/lib/python3.10/site-packages (2025.6.15)\n",
      "Requirement already satisfied: aiohttp<4.0.0,>=3.11.14 in /Users/edenmarco/.local/share/virtualenvs/documentation-helper-zmyxh5Q8/lib/python3.10/site-packages (from langchain-tavily) (3.12.13)\n",
      "Requirement already satisfied: langchain<0.4.0,>=0.3.20 in /Users/edenmarco/.local/share/virtualenvs/documentation-helper-zmyxh5Q8/lib/python3.10/site-packages (from langchain-tavily) (0.3.26)\n",
      "Requirement already satisfied: langchain-core<0.4.0,>=0.3.15 in /Users/edenmarco/.local/share/virtualenvs/documentation-helper-zmyxh5Q8/lib/python3.10/site-packages (from langchain-tavily) (0.3.68)\n",
      "Requirement already satisfied: requests<3.0.0,>=2.32.3 in /Users/edenmarco/.local/share/virtualenvs/documentation-helper-zmyxh5Q8/lib/python3.10/site-packages (from langchain-tavily) (2.32.4)\n",
      "Requirement already satisfied: aiohappyeyeballs>=2.5.0 in /Users/edenmarco/.local/share/virtualenvs/documentation-helper-zmyxh5Q8/lib/python3.10/site-packages (from aiohttp<4.0.0,>=3.11.14->langchain-tavily) (2.6.1)\n",
      "Requirement already satisfied: aiosignal>=1.1.2 in /Users/edenmarco/.local/share/virtualenvs/documentation-helper-zmyxh5Q8/lib/python3.10/site-packages (from aiohttp<4.0.0,>=3.11.14->langchain-tavily) (1.4.0)\n",
      "Requirement already satisfied: async-timeout<6.0,>=4.0 in /Users/edenmarco/.local/share/virtualenvs/documentation-helper-zmyxh5Q8/lib/python3.10/site-packages (from aiohttp<4.0.0,>=3.11.14->langchain-tavily) (4.0.3)\n",
      "Requirement already satisfied: attrs>=17.3.0 in /Users/edenmarco/.local/share/virtualenvs/documentation-helper-zmyxh5Q8/lib/python3.10/site-packages (from aiohttp<4.0.0,>=3.11.14->langchain-tavily) (25.3.0)\n",
      "Requirement already satisfied: frozenlist>=1.1.1 in /Users/edenmarco/.local/share/virtualenvs/documentation-helper-zmyxh5Q8/lib/python3.10/site-packages (from aiohttp<4.0.0,>=3.11.14->langchain-tavily) (1.7.0)\n",
      "Requirement already satisfied: multidict<7.0,>=4.5 in /Users/edenmarco/.local/share/virtualenvs/documentation-helper-zmyxh5Q8/lib/python3.10/site-packages (from aiohttp<4.0.0,>=3.11.14->langchain-tavily) (6.6.3)\n",
      "Requirement already satisfied: propcache>=0.2.0 in /Users/edenmarco/.local/share/virtualenvs/documentation-helper-zmyxh5Q8/lib/python3.10/site-packages (from aiohttp<4.0.0,>=3.11.14->langchain-tavily) (0.3.2)\n",
      "Requirement already satisfied: yarl<2.0,>=1.17.0 in /Users/edenmarco/.local/share/virtualenvs/documentation-helper-zmyxh5Q8/lib/python3.10/site-packages (from aiohttp<4.0.0,>=3.11.14->langchain-tavily) (1.20.1)\n",
      "Requirement already satisfied: langchain-text-splitters<1.0.0,>=0.3.8 in /Users/edenmarco/.local/share/virtualenvs/documentation-helper-zmyxh5Q8/lib/python3.10/site-packages (from langchain<0.4.0,>=0.3.20->langchain-tavily) (0.3.8)\n",
      "Requirement already satisfied: langsmith>=0.1.17 in /Users/edenmarco/.local/share/virtualenvs/documentation-helper-zmyxh5Q8/lib/python3.10/site-packages (from langchain<0.4.0,>=0.3.20->langchain-tavily) (0.4.4)\n",
      "Requirement already satisfied: pydantic<3.0.0,>=2.7.4 in /Users/edenmarco/.local/share/virtualenvs/documentation-helper-zmyxh5Q8/lib/python3.10/site-packages (from langchain<0.4.0,>=0.3.20->langchain-tavily) (2.11.7)\n",
      "Requirement already satisfied: SQLAlchemy<3,>=1.4 in /Users/edenmarco/.local/share/virtualenvs/documentation-helper-zmyxh5Q8/lib/python3.10/site-packages (from langchain<0.4.0,>=0.3.20->langchain-tavily) (2.0.41)\n",
      "Requirement already satisfied: PyYAML>=5.3 in /Users/edenmarco/.local/share/virtualenvs/documentation-helper-zmyxh5Q8/lib/python3.10/site-packages (from langchain<0.4.0,>=0.3.20->langchain-tavily) (6.0.2)\n",
      "Requirement already satisfied: tenacity!=8.4.0,<10.0.0,>=8.1.0 in /Users/edenmarco/.local/share/virtualenvs/documentation-helper-zmyxh5Q8/lib/python3.10/site-packages (from langchain-core<0.4.0,>=0.3.15->langchain-tavily) (9.1.2)\n",
      "Requirement already satisfied: jsonpatch<2.0,>=1.33 in /Users/edenmarco/.local/share/virtualenvs/documentation-helper-zmyxh5Q8/lib/python3.10/site-packages (from langchain-core<0.4.0,>=0.3.15->langchain-tavily) (1.33)\n",
      "Requirement already satisfied: packaging<25,>=23.2 in /Users/edenmarco/.local/share/virtualenvs/documentation-helper-zmyxh5Q8/lib/python3.10/site-packages (from langchain-core<0.4.0,>=0.3.15->langchain-tavily) (24.2)\n",
      "Requirement already satisfied: typing-extensions>=4.7 in /Users/edenmarco/.local/share/virtualenvs/documentation-helper-zmyxh5Q8/lib/python3.10/site-packages (from langchain-core<0.4.0,>=0.3.15->langchain-tavily) (4.14.1)\n",
      "Requirement already satisfied: charset_normalizer<4,>=2 in /Users/edenmarco/.local/share/virtualenvs/documentation-helper-zmyxh5Q8/lib/python3.10/site-packages (from requests<3.0.0,>=2.32.3->langchain-tavily) (3.4.2)\n",
      "Requirement already satisfied: idna<4,>=2.5 in /Users/edenmarco/.local/share/virtualenvs/documentation-helper-zmyxh5Q8/lib/python3.10/site-packages (from requests<3.0.0,>=2.32.3->langchain-tavily) (3.10)\n",
      "Requirement already satisfied: urllib3<3,>=1.21.1 in /Users/edenmarco/.local/share/virtualenvs/documentation-helper-zmyxh5Q8/lib/python3.10/site-packages (from requests<3.0.0,>=2.32.3->langchain-tavily) (2.5.0)\n",
      "Requirement already satisfied: jsonpointer>=1.9 in /Users/edenmarco/.local/share/virtualenvs/documentation-helper-zmyxh5Q8/lib/python3.10/site-packages (from jsonpatch<2.0,>=1.33->langchain-core<0.4.0,>=0.3.15->langchain-tavily) (3.0.0)\n",
      "Requirement already satisfied: httpx<1,>=0.23.0 in /Users/edenmarco/.local/share/virtualenvs/documentation-helper-zmyxh5Q8/lib/python3.10/site-packages (from langsmith>=0.1.17->langchain<0.4.0,>=0.3.20->langchain-tavily) (0.28.1)\n",
      "Requirement already satisfied: orjson<4.0.0,>=3.9.14 in /Users/edenmarco/.local/share/virtualenvs/documentation-helper-zmyxh5Q8/lib/python3.10/site-packages (from langsmith>=0.1.17->langchain<0.4.0,>=0.3.20->langchain-tavily) (3.10.18)\n",
      "Requirement already satisfied: requests-toolbelt<2.0.0,>=1.0.0 in /Users/edenmarco/.local/share/virtualenvs/documentation-helper-zmyxh5Q8/lib/python3.10/site-packages (from langsmith>=0.1.17->langchain<0.4.0,>=0.3.20->langchain-tavily) (1.0.0)\n",
      "Requirement already satisfied: zstandard<0.24.0,>=0.23.0 in /Users/edenmarco/.local/share/virtualenvs/documentation-helper-zmyxh5Q8/lib/python3.10/site-packages (from langsmith>=0.1.17->langchain<0.4.0,>=0.3.20->langchain-tavily) (0.23.0)\n",
      "Requirement already satisfied: annotated-types>=0.6.0 in /Users/edenmarco/.local/share/virtualenvs/documentation-helper-zmyxh5Q8/lib/python3.10/site-packages (from pydantic<3.0.0,>=2.7.4->langchain<0.4.0,>=0.3.20->langchain-tavily) (0.7.0)\n",
      "Requirement already satisfied: pydantic-core==2.33.2 in /Users/edenmarco/.local/share/virtualenvs/documentation-helper-zmyxh5Q8/lib/python3.10/site-packages (from pydantic<3.0.0,>=2.7.4->langchain<0.4.0,>=0.3.20->langchain-tavily) (2.33.2)\n",
      "Requirement already satisfied: typing-inspection>=0.4.0 in /Users/edenmarco/.local/share/virtualenvs/documentation-helper-zmyxh5Q8/lib/python3.10/site-packages (from pydantic<3.0.0,>=2.7.4->langchain<0.4.0,>=0.3.20->langchain-tavily) (0.4.1)\n",
      "Requirement already satisfied: anyio in /Users/edenmarco/.local/share/virtualenvs/documentation-helper-zmyxh5Q8/lib/python3.10/site-packages (from httpx<1,>=0.23.0->langsmith>=0.1.17->langchain<0.4.0,>=0.3.20->langchain-tavily) (4.9.0)\n",
      "Requirement already satisfied: httpcore==1.* in /Users/edenmarco/.local/share/virtualenvs/documentation-helper-zmyxh5Q8/lib/python3.10/site-packages (from httpx<1,>=0.23.0->langsmith>=0.1.17->langchain<0.4.0,>=0.3.20->langchain-tavily) (1.0.9)\n",
      "Requirement already satisfied: h11>=0.16 in /Users/edenmarco/.local/share/virtualenvs/documentation-helper-zmyxh5Q8/lib/python3.10/site-packages (from httpcore==1.*->httpx<1,>=0.23.0->langsmith>=0.1.17->langchain<0.4.0,>=0.3.20->langchain-tavily) (0.16.0)\n",
      "Requirement already satisfied: exceptiongroup>=1.0.2 in /Users/edenmarco/.local/share/virtualenvs/documentation-helper-zmyxh5Q8/lib/python3.10/site-packages (from anyio->httpx<1,>=0.23.0->langsmith>=0.1.17->langchain<0.4.0,>=0.3.20->langchain-tavily) (1.3.0)\n",
      "Requirement already satisfied: sniffio>=1.1 in /Users/edenmarco/.local/share/virtualenvs/documentation-helper-zmyxh5Q8/lib/python3.10/site-packages (from anyio->httpx<1,>=0.23.0->langsmith>=0.1.17->langchain<0.4.0,>=0.3.20->langchain-tavily) (1.3.1)\n",
      "\n",
      "\u001b[1m[\u001b[0m\u001b[34;49mnotice\u001b[0m\u001b[1;39;49m]\u001b[0m\u001b[39;49m A new release of pip is available: \u001b[0m\u001b[31;49m23.2.1\u001b[0m\u001b[39;49m -> \u001b[0m\u001b[32;49m25.1.1\u001b[0m\n",
      "\u001b[1m[\u001b[0m\u001b[34;49mnotice\u001b[0m\u001b[1;39;49m]\u001b[0m\u001b[39;49m To update, run: \u001b[0m\u001b[32;49mpip install --upgrade pip\u001b[0m\n",
      "Note: you may need to restart the kernel to use updated packages.\n",
      "Requirement already satisfied: rich in /Users/edenmarco/.local/share/virtualenvs/documentation-helper-zmyxh5Q8/lib/python3.10/site-packages (14.0.0)\n",
      "Requirement already satisfied: pandas in /Users/edenmarco/.local/share/virtualenvs/documentation-helper-zmyxh5Q8/lib/python3.10/site-packages (2.3.1)\n",
      "\u001b[31mERROR: Could not find a version that satisfies the requirement json (from versions: none)\u001b[0m\u001b[31m\n",
      "\u001b[0m\u001b[31mERROR: No matching distribution found for json\u001b[0m\u001b[31m\n",
      "\u001b[0m\n",
      "\u001b[1m[\u001b[0m\u001b[34;49mnotice\u001b[0m\u001b[1;39;49m]\u001b[0m\u001b[39;49m A new release of pip is available: \u001b[0m\u001b[31;49m23.2.1\u001b[0m\u001b[39;49m -> \u001b[0m\u001b[32;49m25.1.1\u001b[0m\n",
      "\u001b[1m[\u001b[0m\u001b[34;49mnotice\u001b[0m\u001b[1;39;49m]\u001b[0m\u001b[39;49m To update, run: \u001b[0m\u001b[32;49mpip install --upgrade pip\u001b[0m\n",
      "Note: you may need to restart the kernel to use updated packages.\n"
     ]
    }
   ],
   "source": [
    "# Install required packages\n",
    "%pip install langchain-tavily certifi\n",
    "\n",
    "# For pretty printing and visualization\n",
    "%pip install rich pandas json"
   ]
  },
  {
   "cell_type": "code",
   "execution_count": 2,
   "metadata": {},
   "outputs": [
    {
     "name": "stdout",
     "output_type": "stream",
     "text": [
      "✅ All imports successful!\n"
     ]
    }
   ],
   "source": [
    "import os\n",
    "import ssl\n",
    "import json\n",
    "from typing import Any, Dict, List\n",
    "\n",
    "import certifi\n",
    "from langchain_tavily import TavilyCrawl\n",
    "from rich.console import Console\n",
    "from rich.panel import Panel\n",
    "from rich.table import Table\n",
    "from rich.json import JSON\n",
    "\n",
    "# Configure SSL context\n",
    "ssl_context = ssl.create_default_context(cafile=certifi.where())\n",
    "os.environ[\"SSL_CERT_FILE\"] = certifi.where()\n",
    "os.environ[\"REQUESTS_CA_BUNDLE\"] = certifi.where()\n",
    "\n",
    "# Initialize rich console for pretty printing\n",
    "console = Console()\n",
    "\n",
    "print(\"✅ All imports successful!\")"
   ]
  },
  {
   "cell_type": "raw",
   "metadata": {
    "vscode": {
     "languageId": "raw"
    }
   },
   "source": [
    "## 🔑 API Key Setup\n",
    "\n",
    "You'll need a Tavily API key to use TavilyCrawl. Get yours at [tavily.com](https://app.tavily.com/home).\n",
    "\n",
    "Set environment variable `TAVILY_API_KEY`\n"
   ]
  },
  {
   "cell_type": "code",
   "execution_count": 3,
   "metadata": {},
   "outputs": [
    {
     "name": "stdout",
     "output_type": "stream",
     "text": [
      "✅ API key set successfully!\n"
     ]
    }
   ],
   "source": [
    "# Set your Tavily API key here\n",
    "import getpass\n",
    "\n",
    "# For Google Colab, you can use getpass for secure input\n",
    "if 'TAVILY_API_KEY' not in os.environ:\n",
    "    os.environ['TAVILY_API_KEY'] = getpass.getpass('Enter your Tavily API key: ')\n",
    "\n",
    "# Alternative: Set directly (uncomment and add your key)\n",
    "# os.environ[\"TAVILY_API_KEY\"] = \"your_tavily_api_key_here\"\n",
    "\n",
    "print(\"✅ API key set successfully!\")"
   ]
  },
  {
   "cell_type": "markdown",
   "metadata": {
    "vscode": {
     "languageId": "raw"
    }
   },
   "source": [
    "## 🚀 Initialize TavilyCrawl\n",
    "\n",
    "Let's initialize TavilyCrawl and set up our target URL for demonstration."
   ]
  },
  {
   "cell_type": "code",
   "execution_count": 4,
   "metadata": {},
   "outputs": [
    {
     "data": {
      "text/html": [
       "<pre style=\"white-space:pre;overflow-x:auto;line-height:normal;font-family:Menlo,'DejaVu Sans Mono',consolas,'Courier New',monospace\"><span style=\"color: #0000ff; text-decoration-color: #0000ff\">╭───────────────────── Demo Setup ─────────────────────╮</span>\n",
       "<span style=\"color: #0000ff; text-decoration-color: #0000ff\">│</span> 🎯 **Target Website**: https://python.langchain.com/ <span style=\"color: #0000ff; text-decoration-color: #0000ff\">│</span>\n",
       "<span style=\"color: #0000ff; text-decoration-color: #0000ff\">│</span> 🤖 **Crawler**: TavilyCrawl                          <span style=\"color: #0000ff; text-decoration-color: #0000ff\">│</span>\n",
       "<span style=\"color: #0000ff; text-decoration-color: #0000ff\">╰──────────────────────────────────────────────────────╯</span>\n",
       "</pre>\n"
      ],
      "text/plain": [
       "\u001b[94m╭─\u001b[0m\u001b[94m────────────────────\u001b[0m\u001b[94m Demo Setup \u001b[0m\u001b[94m────────────────────\u001b[0m\u001b[94m─╮\u001b[0m\n",
       "\u001b[94m│\u001b[0m 🎯 **Target Website**: https://python.langchain.com/ \u001b[94m│\u001b[0m\n",
       "\u001b[94m│\u001b[0m 🤖 **Crawler**: TavilyCrawl                          \u001b[94m│\u001b[0m\n",
       "\u001b[94m╰──────────────────────────────────────────────────────╯\u001b[0m\n"
      ]
     },
     "metadata": {},
     "output_type": "display_data"
    },
    {
     "name": "stdout",
     "output_type": "stream",
     "text": [
      "TavilyCrawl initialized successfully\n"
     ]
    }
   ],
   "source": [
    "# Initialize TavilyCrawl\n",
    "tavily_crawl = TavilyCrawl()\n",
    "\n",
    "# Target URL: LangChain Documentation\n",
    "target_url = \"https://python.langchain.com/\"\n",
    "\n",
    "console.print(Panel.fit(\n",
    "    f\"🎯 **Target Website**: {target_url}\\n🤖 **Crawler**: TavilyCrawl\",\n",
    "    title=\"Demo Setup\",\n",
    "    border_style=\"bright_blue\"\n",
    "))\n",
    "\n",
    "print(\"TavilyCrawl initialized successfully\")"
   ]
  },
  {
   "cell_type": "markdown",
   "metadata": {
    "vscode": {
     "languageId": "raw"
    }
   },
   "source": [
    "## 🔍 Demo 1: Regular Crawl Without Instructions\n",
    "\n",
    "First, let's see what happens when we use TavilyCrawl without any specific instructions. This will show us the baseline behavior on the LangChain documentation."
   ]
  },
  {
   "cell_type": "code",
   "execution_count": 9,
   "metadata": {},
   "outputs": [
    {
     "data": {
      "text/html": [
       "<pre style=\"white-space:pre;overflow-x:auto;line-height:normal;font-family:Menlo,'DejaVu Sans Mono',consolas,'Courier New',monospace\"><span style=\"color: #000080; text-decoration-color: #000080\">╭─ Demo 1: Regular Crawl Without Instructions ─╮</span>\n",
       "<span style=\"color: #000080; text-decoration-color: #000080\">│</span> 🎯 **Target**: https://python.langchain.com/ <span style=\"color: #000080; text-decoration-color: #000080\">│</span>\n",
       "<span style=\"color: #000080; text-decoration-color: #000080\">│</span> 📋 **Instructions**: None (baseline crawl)   <span style=\"color: #000080; text-decoration-color: #000080\">│</span>\n",
       "<span style=\"color: #000080; text-decoration-color: #000080\">│</span> ⚙️ **Max Depth**: 2                           <span style=\"color: #000080; text-decoration-color: #000080\">│</span>\n",
       "<span style=\"color: #000080; text-decoration-color: #000080\">│</span> 🎨 **Extract Depth**: advanced               <span style=\"color: #000080; text-decoration-color: #000080\">│</span>\n",
       "<span style=\"color: #000080; text-decoration-color: #000080\">╰──────────────────────────────────────────────╯</span>\n",
       "</pre>\n"
      ],
      "text/plain": [
       "\u001b[34m╭─\u001b[0m\u001b[34m Demo 1: Regular Crawl Without Instructions \u001b[0m\u001b[34m─╮\u001b[0m\n",
       "\u001b[34m│\u001b[0m 🎯 **Target**: https://python.langchain.com/ \u001b[34m│\u001b[0m\n",
       "\u001b[34m│\u001b[0m 📋 **Instructions**: None (baseline crawl)   \u001b[34m│\u001b[0m\n",
       "\u001b[34m│\u001b[0m ⚙️ **Max Depth**: 2                           \u001b[34m│\u001b[0m\n",
       "\u001b[34m│\u001b[0m 🎨 **Extract Depth**: advanced               \u001b[34m│\u001b[0m\n",
       "\u001b[34m╰──────────────────────────────────────────────╯\u001b[0m\n"
      ]
     },
     "metadata": {},
     "output_type": "display_data"
    },
    {
     "data": {
      "text/html": [
       "<pre style=\"white-space:pre;overflow-x:auto;line-height:normal;font-family:Menlo,'DejaVu Sans Mono',consolas,'Courier New',monospace\"><span style=\"color: #000080; text-decoration-color: #000080\">Running TavilyCrawl without instructions</span><span style=\"color: #808000; text-decoration-color: #808000\">...</span>\n",
       "</pre>\n"
      ],
      "text/plain": [
       "\u001b[34mRunning TavilyCrawl without instructions\u001b[0m\u001b[33m...\u001b[0m\n"
      ]
     },
     "metadata": {},
     "output_type": "display_data"
    },
    {
     "data": {
      "text/html": [
       "<pre style=\"white-space:pre;overflow-x:auto;line-height:normal;font-family:Menlo,'DejaVu Sans Mono',consolas,'Courier New',monospace\"><span style=\"color: #008000; text-decoration-color: #008000\">Basic crawl completed. Found </span><span style=\"color: #008080; text-decoration-color: #008080; font-weight: bold\">18</span><span style=\"color: #008000; text-decoration-color: #008000\"> pages</span>\n",
       "</pre>\n"
      ],
      "text/plain": [
       "\u001b[32mBasic crawl completed. Found \u001b[0m\u001b[1;36m18\u001b[0m\u001b[32m pages\u001b[0m\n"
      ]
     },
     "metadata": {},
     "output_type": "display_data"
    },
    {
     "data": {
      "text/html": [
       "<pre style=\"white-space:pre;overflow-x:auto;line-height:normal;font-family:Menlo,'DejaVu Sans Mono',consolas,'Courier New',monospace\">\n",
       "<span style=\"color: #008080; text-decoration-color: #008080\">📊 **Results Without Instructions**: </span><span style=\"color: #008080; text-decoration-color: #008080; font-weight: bold\">18</span><span style=\"color: #008080; text-decoration-color: #008080\"> pages</span>\n",
       "</pre>\n"
      ],
      "text/plain": [
       "\n",
       "\u001b[36m📊 **Results Without Instructions**: \u001b[0m\u001b[1;36m18\u001b[0m\u001b[36m pages\u001b[0m\n"
      ]
     },
     "metadata": {},
     "output_type": "display_data"
    },
    {
     "data": {
      "text/html": [
       "<pre style=\"white-space:pre;overflow-x:auto;line-height:normal;font-family:Menlo,'DejaVu Sans Mono',consolas,'Courier New',monospace\">   📄 Mix of all content types from LangChain docs\n",
       "</pre>\n"
      ],
      "text/plain": [
       "   📄 Mix of all content types from LangChain docs\n"
      ]
     },
     "metadata": {},
     "output_type": "display_data"
    },
    {
     "data": {
      "text/html": [
       "<pre style=\"white-space:pre;overflow-x:auto;line-height:normal;font-family:Menlo,'DejaVu Sans Mono',consolas,'Courier New',monospace\">   🔍 No filtering - everything from the crawled sections\n",
       "</pre>\n"
      ],
      "text/plain": [
       "   🔍 No filtering - everything from the crawled sections\n"
      ]
     },
     "metadata": {},
     "output_type": "display_data"
    },
    {
     "data": {
      "text/html": [
       "<pre style=\"white-space:pre;overflow-x:auto;line-height:normal;font-family:Menlo,'DejaVu Sans Mono',consolas,'Courier New',monospace\">   ⚠️  Requires manual work to find specific content\n",
       "</pre>\n"
      ],
      "text/plain": [
       "   ⚠️  Requires manual work to find specific content\n"
      ]
     },
     "metadata": {},
     "output_type": "display_data"
    }
   ],
   "source": [
    "# Demo 1: Crawl without instructions\n",
    "console.print(Panel.fit(\n",
    "    f\"🎯 **Target**: {target_url}\\n📋 **Instructions**: None (baseline crawl)\\n⚙️ **Max Depth**: 2\\n🎨 **Extract Depth**: advanced\",\n",
    "    title=\"Demo 1: Regular Crawl Without Instructions\",\n",
    "    border_style=\"blue\"\n",
    "))\n",
    "\n",
    "console.print(\"Running TavilyCrawl without instructions...\", style=\"blue\")\n",
    "\n",
    "# Basic crawl without instructions\n",
    "basic_result = tavily_crawl.invoke({\n",
    "    \"url\": target_url,\n",
    "    \"max_depth\": 1,\n",
    "    \"extract_depth\": \"advanced\"\n",
    "})\n",
    "\n",
    "basic_results = basic_result.get(\"results\", [])\n",
    "console.print(f\"Basic crawl completed. Found {len(basic_results)} pages\", style=\"green\")\n",
    "\n",
    "# Show what we got without instructions\n",
    "console.print(f\"\\n📊 **Results Without Instructions**: {len(basic_results)} pages\", style=\"cyan\")\n",
    "console.print(\"   📄 Mix of all content types from LangChain docs\")\n",
    "console.print(\"   🔍 No filtering - everything from the crawled sections\")\n",
    "console.print(\"   ⚠️  Requires manual work to find specific content\")"
   ]
  },
  {
   "cell_type": "code",
   "execution_count": 10,
   "metadata": {},
   "outputs": [
    {
     "data": {
      "text/html": [
       "<pre style=\"white-space:pre;overflow-x:auto;line-height:normal;font-family:Menlo,'DejaVu Sans Mono',consolas,'Courier New',monospace\">\n",
       "<span style=\"color: #008080; text-decoration-color: #008080\">📋 **Sample Results from Basic Crawl </span><span style=\"color: #008080; text-decoration-color: #008080; font-weight: bold\">(</span><span style=\"color: #008080; text-decoration-color: #008080\">No Filtering</span><span style=\"color: #008080; text-decoration-color: #008080; font-weight: bold\">)</span><span style=\"color: #008080; text-decoration-color: #008080\">:**</span>\n",
       "\n",
       "</pre>\n"
      ],
      "text/plain": [
       "\n",
       "\u001b[36m📋 **Sample Results from Basic Crawl \u001b[0m\u001b[1;36m(\u001b[0m\u001b[36mNo Filtering\u001b[0m\u001b[1;36m)\u001b[0m\u001b[36m:**\u001b[0m\n",
       "\n"
      ]
     },
     "metadata": {},
     "output_type": "display_data"
    },
    {
     "data": {
      "text/html": [
       "<pre style=\"white-space:pre;overflow-x:auto;line-height:normal;font-family:Menlo,'DejaVu Sans Mono',consolas,'Courier New',monospace\"><span style=\"color: #000080; text-decoration-color: #000080\">╭───────────────────────────── 📄 1. https://python.langchain.com/docs/introduction ──────────────────────────────╮</span>\n",
       "<span style=\"color: #000080; text-decoration-color: #000080\">│</span> 🔗 **URL**: https://python.langchain.com/docs/introduction                                                      <span style=\"color: #000080; text-decoration-color: #000080\">│</span>\n",
       "<span style=\"color: #000080; text-decoration-color: #000080\">│</span>                                                                                                                 <span style=\"color: #000080; text-decoration-color: #000080\">│</span>\n",
       "<span style=\"color: #000080; text-decoration-color: #000080\">│</span> 📖 **Content Preview**:                                                                                         <span style=\"color: #000080; text-decoration-color: #000080\">│</span>\n",
       "<span style=\"color: #000080; text-decoration-color: #000080\">│</span> Published Time: Thu, 10 Jul 2025 20:07:53 GMT                                                                   <span style=\"color: #000080; text-decoration-color: #000080\">│</span>\n",
       "<span style=\"color: #000080; text-decoration-color: #000080\">│</span>                                                                                                                 <span style=\"color: #000080; text-decoration-color: #000080\">│</span>\n",
       "<span style=\"color: #000080; text-decoration-color: #000080\">│</span> Introduction | 🦜️🔗 LangChain                                                                                   <span style=\"color: #000080; text-decoration-color: #000080\">│</span>\n",
       "<span style=\"color: #000080; text-decoration-color: #000080\">│</span>                                                                                                                 <span style=\"color: #000080; text-decoration-color: #000080\">│</span>\n",
       "<span style=\"color: #000080; text-decoration-color: #000080\">│</span> ===============                                                                                                 <span style=\"color: #000080; text-decoration-color: #000080\">│</span>\n",
       "<span style=\"color: #000080; text-decoration-color: #000080\">│</span>                                                                                                                 <span style=\"color: #000080; text-decoration-color: #000080\">│</span>\n",
       "<span style=\"color: #000080; text-decoration-color: #000080\">│</span> [Skip to main content](https://python.langchain.com/docs...                                                     <span style=\"color: #000080; text-decoration-color: #000080\">│</span>\n",
       "<span style=\"color: #000080; text-decoration-color: #000080\">╰─────────────────────────────────────────────────────────────────────────────────────────────────────────────────╯</span>\n",
       "</pre>\n"
      ],
      "text/plain": [
       "\u001b[34m╭─\u001b[0m\u001b[34m────────────────────────────\u001b[0m\u001b[34m 📄 1. https://python.langchain.com/docs/introduction \u001b[0m\u001b[34m─────────────────────────────\u001b[0m\u001b[34m─╮\u001b[0m\n",
       "\u001b[34m│\u001b[0m 🔗 **URL**: https://python.langchain.com/docs/introduction                                                      \u001b[34m│\u001b[0m\n",
       "\u001b[34m│\u001b[0m                                                                                                                 \u001b[34m│\u001b[0m\n",
       "\u001b[34m│\u001b[0m 📖 **Content Preview**:                                                                                         \u001b[34m│\u001b[0m\n",
       "\u001b[34m│\u001b[0m Published Time: Thu, 10 Jul 2025 20:07:53 GMT                                                                   \u001b[34m│\u001b[0m\n",
       "\u001b[34m│\u001b[0m                                                                                                                 \u001b[34m│\u001b[0m\n",
       "\u001b[34m│\u001b[0m Introduction | 🦜️🔗 LangChain                                                                                   \u001b[34m│\u001b[0m\n",
       "\u001b[34m│\u001b[0m                                                                                                                 \u001b[34m│\u001b[0m\n",
       "\u001b[34m│\u001b[0m ===============                                                                                                 \u001b[34m│\u001b[0m\n",
       "\u001b[34m│\u001b[0m                                                                                                                 \u001b[34m│\u001b[0m\n",
       "\u001b[34m│\u001b[0m [Skip to main content](https://python.langchain.com/docs...                                                     \u001b[34m│\u001b[0m\n",
       "\u001b[34m╰─────────────────────────────────────────────────────────────────────────────────────────────────────────────────╯\u001b[0m\n"
      ]
     },
     "metadata": {},
     "output_type": "display_data"
    },
    {
     "name": "stdout",
     "output_type": "stream",
     "text": [
      "\n"
     ]
    },
    {
     "data": {
      "text/html": [
       "<pre style=\"white-space:pre;overflow-x:auto;line-height:normal;font-family:Menlo,'DejaVu Sans Mono',consolas,'Courier New',monospace\"><span style=\"color: #000080; text-decoration-color: #000080\">╭─────────────────────────────── 📄 2. https://python.langchain.com/api_reference ────────────────────────────────╮</span>\n",
       "<span style=\"color: #000080; text-decoration-color: #000080\">│</span> 🔗 **URL**: https://python.langchain.com/api_reference                                                          <span style=\"color: #000080; text-decoration-color: #000080\">│</span>\n",
       "<span style=\"color: #000080; text-decoration-color: #000080\">│</span>                                                                                                                 <span style=\"color: #000080; text-decoration-color: #000080\">│</span>\n",
       "<span style=\"color: #000080; text-decoration-color: #000080\">│</span> 📖 **Content Preview**:                                                                                         <span style=\"color: #000080; text-decoration-color: #000080\">│</span>\n",
       "<span style=\"color: #000080; text-decoration-color: #000080\">│</span> LangChain Python API Reference — 🦜🔗 LangChain documentation                                                   <span style=\"color: #000080; text-decoration-color: #000080\">│</span>\n",
       "<span style=\"color: #000080; text-decoration-color: #000080\">│</span>                                                                                                                 <span style=\"color: #000080; text-decoration-color: #000080\">│</span>\n",
       "<span style=\"color: #000080; text-decoration-color: #000080\">│</span>                                                                                                                 <span style=\"color: #000080; text-decoration-color: #000080\">│</span>\n",
       "<span style=\"color: #000080; text-decoration-color: #000080\">│</span>                                                                                                                 <span style=\"color: #000080; text-decoration-color: #000080\">│</span>\n",
       "<span style=\"color: #000080; text-decoration-color: #000080\">│</span> [Skip to main content](#main-content)                                                                           <span style=\"color: #000080; text-decoration-color: #000080\">│</span>\n",
       "<span style=\"color: #000080; text-decoration-color: #000080\">│</span>                                                                                                                 <span style=\"color: #000080; text-decoration-color: #000080\">│</span>\n",
       "<span style=\"color: #000080; text-decoration-color: #000080\">│</span> Back to top                                                                                                     <span style=\"color: #000080; text-decoration-color: #000080\">│</span>\n",
       "<span style=\"color: #000080; text-decoration-color: #000080\">│</span>                                                                                                                 <span style=\"color: #000080; text-decoration-color: #000080\">│</span>\n",
       "<span style=\"color: #000080; text-decoration-color: #000080\">│</span>                                                                                                                 <span style=\"color: #000080; text-decoration-color: #000080\">│</span>\n",
       "<span style=\"color: #000080; text-decoration-color: #000080\">│</span>                                                                                                                 <span style=\"color: #000080; text-decoration-color: #000080\">│</span>\n",
       "<span style=\"color: #000080; text-decoration-color: #000080\">│</span>                                                                                                                 <span style=\"color: #000080; text-decoration-color: #000080\">│</span>\n",
       "<span style=\"color: #000080; text-decoration-color: #000080\">│</span> `Ctrl`+`K`                                                                                                      <span style=\"color: #000080; text-decoration-color: #000080\">│</span>\n",
       "<span style=\"color: #000080; text-decoration-color: #000080\">│</span>                                                                                                                 <span style=\"color: #000080; text-decoration-color: #000080\">│</span>\n",
       "<span style=\"color: #000080; text-decoration-color: #000080\">│</span> [![🦜🔗 LangChain  doc...                                                                                       <span style=\"color: #000080; text-decoration-color: #000080\">│</span>\n",
       "<span style=\"color: #000080; text-decoration-color: #000080\">╰─────────────────────────────────────────────────────────────────────────────────────────────────────────────────╯</span>\n",
       "</pre>\n"
      ],
      "text/plain": [
       "\u001b[34m╭─\u001b[0m\u001b[34m──────────────────────────────\u001b[0m\u001b[34m 📄 2. https://python.langchain.com/api_reference \u001b[0m\u001b[34m───────────────────────────────\u001b[0m\u001b[34m─╮\u001b[0m\n",
       "\u001b[34m│\u001b[0m 🔗 **URL**: https://python.langchain.com/api_reference                                                          \u001b[34m│\u001b[0m\n",
       "\u001b[34m│\u001b[0m                                                                                                                 \u001b[34m│\u001b[0m\n",
       "\u001b[34m│\u001b[0m 📖 **Content Preview**:                                                                                         \u001b[34m│\u001b[0m\n",
       "\u001b[34m│\u001b[0m LangChain Python API Reference — 🦜🔗 LangChain documentation                                                   \u001b[34m│\u001b[0m\n",
       "\u001b[34m│\u001b[0m                                                                                                                 \u001b[34m│\u001b[0m\n",
       "\u001b[34m│\u001b[0m                                                                                                                 \u001b[34m│\u001b[0m\n",
       "\u001b[34m│\u001b[0m                                                                                                                 \u001b[34m│\u001b[0m\n",
       "\u001b[34m│\u001b[0m [Skip to main content](#main-content)                                                                           \u001b[34m│\u001b[0m\n",
       "\u001b[34m│\u001b[0m                                                                                                                 \u001b[34m│\u001b[0m\n",
       "\u001b[34m│\u001b[0m Back to top                                                                                                     \u001b[34m│\u001b[0m\n",
       "\u001b[34m│\u001b[0m                                                                                                                 \u001b[34m│\u001b[0m\n",
       "\u001b[34m│\u001b[0m                                                                                                                 \u001b[34m│\u001b[0m\n",
       "\u001b[34m│\u001b[0m                                                                                                                 \u001b[34m│\u001b[0m\n",
       "\u001b[34m│\u001b[0m                                                                                                                 \u001b[34m│\u001b[0m\n",
       "\u001b[34m│\u001b[0m `Ctrl`+`K`                                                                                                      \u001b[34m│\u001b[0m\n",
       "\u001b[34m│\u001b[0m                                                                                                                 \u001b[34m│\u001b[0m\n",
       "\u001b[34m│\u001b[0m [![🦜🔗 LangChain  doc...                                                                                       \u001b[34m│\u001b[0m\n",
       "\u001b[34m╰─────────────────────────────────────────────────────────────────────────────────────────────────────────────────╯\u001b[0m\n"
      ]
     },
     "metadata": {},
     "output_type": "display_data"
    },
    {
     "name": "stdout",
     "output_type": "stream",
     "text": [
      "\n"
     ]
    },
    {
     "data": {
      "text/html": [
       "<pre style=\"white-space:pre;overflow-x:auto;line-height:normal;font-family:Menlo,'DejaVu Sans Mono',consolas,'Courier New',monospace\"><span style=\"color: #000080; text-decoration-color: #000080\">╭──────────────────────────────── 📄 3. https://python.langchain.com/docs/people ─────────────────────────────────╮</span>\n",
       "<span style=\"color: #000080; text-decoration-color: #000080\">│</span> 🔗 **URL**: https://python.langchain.com/docs/people                                                            <span style=\"color: #000080; text-decoration-color: #000080\">│</span>\n",
       "<span style=\"color: #000080; text-decoration-color: #000080\">│</span>                                                                                                                 <span style=\"color: #000080; text-decoration-color: #000080\">│</span>\n",
       "<span style=\"color: #000080; text-decoration-color: #000080\">│</span> 📖 **Content Preview**:                                                                                         <span style=\"color: #000080; text-decoration-color: #000080\">│</span>\n",
       "<span style=\"color: #000080; text-decoration-color: #000080\">│</span> Published Time: Thu, 10 Jul 2025 22:20:13 GMT                                                                   <span style=\"color: #000080; text-decoration-color: #000080\">│</span>\n",
       "<span style=\"color: #000080; text-decoration-color: #000080\">│</span>                                                                                                                 <span style=\"color: #000080; text-decoration-color: #000080\">│</span>\n",
       "<span style=\"color: #000080; text-decoration-color: #000080\">│</span> People | 🦜️🔗 LangChain                                                                                         <span style=\"color: #000080; text-decoration-color: #000080\">│</span>\n",
       "<span style=\"color: #000080; text-decoration-color: #000080\">│</span>                                                                                                                 <span style=\"color: #000080; text-decoration-color: #000080\">│</span>\n",
       "<span style=\"color: #000080; text-decoration-color: #000080\">│</span> ===============                                                                                                 <span style=\"color: #000080; text-decoration-color: #000080\">│</span>\n",
       "<span style=\"color: #000080; text-decoration-color: #000080\">│</span>                                                                                                                 <span style=\"color: #000080; text-decoration-color: #000080\">│</span>\n",
       "<span style=\"color: #000080; text-decoration-color: #000080\">│</span> [Skip to main content](https://python.langchain.com/docs/peopl...                                               <span style=\"color: #000080; text-decoration-color: #000080\">│</span>\n",
       "<span style=\"color: #000080; text-decoration-color: #000080\">╰─────────────────────────────────────────────────────────────────────────────────────────────────────────────────╯</span>\n",
       "</pre>\n"
      ],
      "text/plain": [
       "\u001b[34m╭─\u001b[0m\u001b[34m───────────────────────────────\u001b[0m\u001b[34m 📄 3. https://python.langchain.com/docs/people \u001b[0m\u001b[34m────────────────────────────────\u001b[0m\u001b[34m─╮\u001b[0m\n",
       "\u001b[34m│\u001b[0m 🔗 **URL**: https://python.langchain.com/docs/people                                                            \u001b[34m│\u001b[0m\n",
       "\u001b[34m│\u001b[0m                                                                                                                 \u001b[34m│\u001b[0m\n",
       "\u001b[34m│\u001b[0m 📖 **Content Preview**:                                                                                         \u001b[34m│\u001b[0m\n",
       "\u001b[34m│\u001b[0m Published Time: Thu, 10 Jul 2025 22:20:13 GMT                                                                   \u001b[34m│\u001b[0m\n",
       "\u001b[34m│\u001b[0m                                                                                                                 \u001b[34m│\u001b[0m\n",
       "\u001b[34m│\u001b[0m People | 🦜️🔗 LangChain                                                                                         \u001b[34m│\u001b[0m\n",
       "\u001b[34m│\u001b[0m                                                                                                                 \u001b[34m│\u001b[0m\n",
       "\u001b[34m│\u001b[0m ===============                                                                                                 \u001b[34m│\u001b[0m\n",
       "\u001b[34m│\u001b[0m                                                                                                                 \u001b[34m│\u001b[0m\n",
       "\u001b[34m│\u001b[0m [Skip to main content](https://python.langchain.com/docs/peopl...                                               \u001b[34m│\u001b[0m\n",
       "\u001b[34m╰─────────────────────────────────────────────────────────────────────────────────────────────────────────────────╯\u001b[0m\n"
      ]
     },
     "metadata": {},
     "output_type": "display_data"
    },
    {
     "name": "stdout",
     "output_type": "stream",
     "text": [
      "\n"
     ]
    },
    {
     "data": {
      "text/html": [
       "<pre style=\"white-space:pre;overflow-x:auto;line-height:normal;font-family:Menlo,'DejaVu Sans Mono',consolas,'Courier New',monospace\"><span style=\"color: #808000; text-decoration-color: #808000; font-style: italic\">...</span><span style=\"color: #008080; text-decoration-color: #008080; font-style: italic\"> and </span><span style=\"color: #008080; text-decoration-color: #008080; font-weight: bold\">15</span><span style=\"color: #008080; text-decoration-color: #008080; font-style: italic\"> more mixed results</span>\n",
       "</pre>\n"
      ],
      "text/plain": [
       "\u001b[3;33m...\u001b[0m\u001b[3;36m and \u001b[0m\u001b[1;36m15\u001b[0m\u001b[3;36m more mixed results\u001b[0m\n"
      ]
     },
     "metadata": {},
     "output_type": "display_data"
    },
    {
     "data": {
      "text/html": [
       "<pre style=\"white-space:pre;overflow-x:auto;line-height:normal;font-family:Menlo,'DejaVu Sans Mono',consolas,'Courier New',monospace\"><span style=\"color: #008080; text-decoration-color: #008080\">🔍 **Note**: Mixed content types - guides, integrations, concepts, etc.</span>\n",
       "</pre>\n"
      ],
      "text/plain": [
       "\u001b[36m🔍 **Note**: Mixed content types - guides, integrations, concepts, etc.\u001b[0m\n"
      ]
     },
     "metadata": {},
     "output_type": "display_data"
    }
   ],
   "source": [
    "# Display sample results from basic crawl\n",
    "console.print(\"\\n📋 **Sample Results from Basic Crawl (No Filtering):**\\n\", style=\"cyan\")\n",
    "\n",
    "for i, result in enumerate(basic_results[:3], 1):  # Show first 3 results\n",
    "    title = result.get(\"title\") or result.get(\"url\", \"No URL\")  # Use URL if no title\n",
    "    url = result.get(\"url\", \"No URL\")\n",
    "    content = result.get(\"raw_content\", \"No content\")[:150] + \"...\"\n",
    "    \n",
    "    panel_content = f\"\"\"🔗 **URL**: {url}\n",
    "\n",
    "📖 **Content Preview**:\n",
    "{content}\"\"\"\n",
    "    \n",
    "    console.print(Panel(\n",
    "        panel_content,\n",
    "        title=f\"📄 {i}. {title}\",\n",
    "        border_style=\"blue\"\n",
    "    ))\n",
    "    print()\n",
    "\n",
    "console.print(f\"... and {len(basic_results) - 3} more mixed results\", style=\"italic cyan\")\n",
    "console.print(\"🔍 **Note**: Mixed content types - guides, integrations, concepts, etc.\", style=\"cyan\")"
   ]
  },
  {
   "cell_type": "markdown",
   "metadata": {},
   "source": [
    "## 🔍 Understanding TavilyCrawl Result Format\n",
    "\n",
    "Let's examine the structure and fields of TavilyCrawl results to understand what data is available."
   ]
  },
  {
   "cell_type": "code",
   "execution_count": 11,
   "metadata": {},
   "outputs": [
    {
     "data": {
      "text/html": [
       "<pre style=\"white-space:pre;overflow-x:auto;line-height:normal;font-family:Menlo,'DejaVu Sans Mono',consolas,'Courier New',monospace\"><span style=\"color: #000080; text-decoration-color: #000080\">📋 **TavilyCrawl Result Structure Analysis**</span>\n",
       "\n",
       "</pre>\n"
      ],
      "text/plain": [
       "\u001b[34m📋 **TavilyCrawl Result Structure Analysis**\u001b[0m\n",
       "\n"
      ]
     },
     "metadata": {},
     "output_type": "display_data"
    },
    {
     "data": {
      "text/html": [
       "<pre style=\"white-space:pre;overflow-x:auto;line-height:normal;font-family:Menlo,'DejaVu Sans Mono',consolas,'Courier New',monospace\"><span style=\"color: #008080; text-decoration-color: #008080\">🔍 **Available Fields in Each Result:**</span>\n",
       "</pre>\n"
      ],
      "text/plain": [
       "\u001b[36m🔍 **Available Fields in Each Result:**\u001b[0m\n"
      ]
     },
     "metadata": {},
     "output_type": "display_data"
    },
    {
     "data": {
      "text/html": [
       "<pre style=\"white-space:pre;overflow-x:auto;line-height:normal;font-family:Menlo,'DejaVu Sans Mono',consolas,'Courier New',monospace\">   📄 **url** <span style=\"font-weight: bold\">(</span>str<span style=\"font-weight: bold\">)</span>: <span style=\"color: #0000ff; text-decoration-color: #0000ff; text-decoration: underline\">https://python.langchain.com/docs/introduction</span>\n",
       "</pre>\n"
      ],
      "text/plain": [
       "   📄 **url** \u001b[1m(\u001b[0mstr\u001b[1m)\u001b[0m: \u001b[4;94mhttps://python.langchain.com/docs/introduction\u001b[0m\n"
      ]
     },
     "metadata": {},
     "output_type": "display_data"
    },
    {
     "data": {
      "text/html": [
       "<pre style=\"white-space:pre;overflow-x:auto;line-height:normal;font-family:Menlo,'DejaVu Sans Mono',consolas,'Courier New',monospace\">   📄 **raw_content** <span style=\"font-weight: bold\">(</span>str<span style=\"font-weight: bold\">)</span>: Published Time: Thu, <span style=\"color: #008080; text-decoration-color: #008080; font-weight: bold\">10</span> Jul <span style=\"color: #008080; text-decoration-color: #008080; font-weight: bold\">2025</span> <span style=\"color: #00ff00; text-decoration-color: #00ff00; font-weight: bold\">20:07:53</span> GMT\n",
       "\n",
       "Introduction | 🦜️🔗 LangChain\n",
       "\n",
       "===============\n",
       "\n",
       "<span style=\"font-weight: bold\">[</span>Skip <span style=\"color: #808000; text-decoration-color: #808000\">...</span>\n",
       "</pre>\n"
      ],
      "text/plain": [
       "   📄 **raw_content** \u001b[1m(\u001b[0mstr\u001b[1m)\u001b[0m: Published Time: Thu, \u001b[1;36m10\u001b[0m Jul \u001b[1;36m2025\u001b[0m \u001b[1;92m20:07:53\u001b[0m GMT\n",
       "\n",
       "Introduction | 🦜️🔗 LangChain\n",
       "\n",
       "===============\n",
       "\n",
       "\u001b[1m[\u001b[0mSkip \u001b[33m...\u001b[0m\n"
      ]
     },
     "metadata": {},
     "output_type": "display_data"
    },
    {
     "data": {
      "text/html": [
       "<pre style=\"white-space:pre;overflow-x:auto;line-height:normal;font-family:Menlo,'DejaVu Sans Mono',consolas,'Courier New',monospace\">   📄 **images** <span style=\"font-weight: bold\">(</span>list<span style=\"font-weight: bold\">)</span>: <span style=\"font-weight: bold\">[]</span>\n",
       "</pre>\n"
      ],
      "text/plain": [
       "   📄 **images** \u001b[1m(\u001b[0mlist\u001b[1m)\u001b[0m: \u001b[1m[\u001b[0m\u001b[1m]\u001b[0m\n"
      ]
     },
     "metadata": {},
     "output_type": "display_data"
    },
    {
     "data": {
      "text/html": [
       "<pre style=\"white-space:pre;overflow-x:auto;line-height:normal;font-family:Menlo,'DejaVu Sans Mono',consolas,'Courier New',monospace\">\n",
       "<span style=\"color: #008000; text-decoration-color: #008000\">📊 **Complete Structure of Result #</span><span style=\"color: #008080; text-decoration-color: #008080; font-weight: bold\">1</span><span style=\"color: #008000; text-decoration-color: #008000\">:**</span>\n",
       "</pre>\n"
      ],
      "text/plain": [
       "\n",
       "\u001b[32m📊 **Complete Structure of Result #\u001b[0m\u001b[1;36m1\u001b[0m\u001b[32m:**\u001b[0m\n"
      ]
     },
     "metadata": {},
     "output_type": "display_data"
    },
    {
     "data": {
      "text/html": [
       "<pre style=\"white-space:pre;overflow-x:auto;line-height:normal;font-family:Menlo,'DejaVu Sans Mono',consolas,'Courier New',monospace\"><span style=\"font-weight: bold\">{</span>\n",
       "  <span style=\"color: #000080; text-decoration-color: #000080; font-weight: bold\">\"url\"</span>: <span style=\"color: #008000; text-decoration-color: #008000\">\"https://python.langchain.com/docs/introduction\"</span>,\n",
       "  <span style=\"color: #000080; text-decoration-color: #000080; font-weight: bold\">\"raw_content\"</span>: <span style=\"color: #008000; text-decoration-color: #008000\">\"Published Time: Thu, 10 Jul 2025 20:07:53 GMT\\n\\nIntroduction | 🦜️🔗 </span>\n",
       "<span style=\"color: #008000; text-decoration-color: #008000\">LangChain\\n\\n===============\\n\\n[Skip to main </span>\n",
       "<span style=\"color: #008000; text-decoration-color: #008000\">content](https://python.langchain.com/docs/introduction#__docusaurus_skipToContent_fallback)\\n\\n**Our [Building </span>\n",
       "<span style=\"color: #008000; text-decoration-color: #008000\">Ambient Agents with </span>\n",
       "<span style=\"color: #008000; text-decoration-color: #008000\">LangGraph](https://academy.langchain.com/courses/ambient-agents/?utm_medium=internal&amp;utm_source=docs&amp;utm_campaign=q</span>\n",
       "<span style=\"color: #008000; text-decoration-color: #008000\">2-2025_ambient-agents_co) course is now available on LangChain Academy!**\\n\\n[![Image 1: 🦜️🔗 </span>\n",
       "<span style=\"color: #008000; text-decoration-color: #008000\">LangChain](https://python.langchain.com/img/brand/wordmark.png)](https://python.langchain.com/)[Integrations](https</span>\n",
       "<span style=\"color: #008000; text-decoration-color: #008000\">://python.langchain.com/docs/integrations/providers/)[API </span>\n",
       "<span style=\"color: #008000; text-decoration-color: #008000\">Reference](https://python.langchain.com/api_reference/)\\n\\n[More](https://python.langchain.com/docs/introduction#)\\</span>\n",
       "<span style=\"color: #008000; text-decoration-color: #008000\">n*   [Contributing](https://python.langchain.com/docs/contributing/)\\n*   </span>\n",
       "<span style=\"color: #008000; text-decoration-color: #008000\">[People](https://python.langchain.com/docs/people/)\\n*   [Error </span>\n",
       "<span style=\"color: #008000; text-decoration-color: #008000\">reference](https://python.langchain.com/docs/troubleshooting/errors/)\\n*   \\n* * *\\n\\n*   </span>\n",
       "<span style=\"color: #008000; text-decoration-color: #008000\">[LangSmith](https://docs.smith.langchain.com/)\\n*   [LangGraph](https://langchain-ai.github.io/langgraph/)\\n*   </span>\n",
       "<span style=\"color: #008000; text-decoration-color: #008000\">[LangChain Hub](https://smith.langchain.com/hub)\\n*   [LangChain </span>\n",
       "<span style=\"color: #008000; text-decoration-color: #008000\">JS/TS](https://js.langchain.com/)\\n\\n[v0.3](https://python.langchain.com/docs/introduction#)\\n*   </span>\n",
       "<span style=\"color: #008000; text-decoration-color: #008000\">[v0.3](https://python.langchain.com/docs/introduction/)\\n*   </span>\n",
       "<span style=\"color: #008000; text-decoration-color: #008000\">[v0.2](https://python.langchain.com/v0.2/docs/introduction)\\n*   </span>\n",
       "<span style=\"color: #008000; text-decoration-color: #008000\">[v0.1](https://python.langchain.com/v0.1/docs/get_started/introduction)\\n\\n[💬](https://chat.langchain.com/)[](http</span>\n",
       "<span style=\"color: #008000; text-decoration-color: #008000\">s://github.com/langchain-ai/langchain)\\n\\nSearch K\\n\\n*   </span>\n",
       "<span style=\"color: #008000; text-decoration-color: #008000\">[Introduction](https://python.langchain.com/docs/introduction/)\\n*   </span>\n",
       "<span style=\"color: #008000; text-decoration-color: #008000\">[Tutorials](https://python.langchain.com/docs/tutorials/) \\n    *   [Build a Question Answering application over a </span>\n",
       "<span style=\"color: #008000; text-decoration-color: #008000\">Graph Database](https://python.langchain.com/docs/tutorials/graph/)\\n    *   </span>\n",
       "<span style=\"color: #008000; text-decoration-color: #008000\">[Tutorials](https://python.langchain.com/docs/tutorials/)\\n    *   [Build a simple LLM application with chat models</span>\n",
       "<span style=\"color: #008000; text-decoration-color: #008000\">and prompt templates](https://python.langchain.com/docs/tutorials/llm_chain/)\\n    *   [Build a </span>\n",
       "<span style=\"color: #008000; text-decoration-color: #008000\">Chatbot](https://python.langchain.com/docs/tutorials/chatbot/)\\n    *   [Build a Retrieval Augmented Generation </span>\n",
       "<span style=\"color: #008000; text-decoration-color: #008000\">(RAG) App: Part 2](https://python.langchain.com/docs/tutorials/qa_chat_history/)\\n    *   [Build an Extraction </span>\n",
       "<span style=\"color: #008000; text-decoration-color: #008000\">Chain](https://python.langchain.com/docs/tutorials/extraction/)\\n    *   [Build an </span>\n",
       "<span style=\"color: #008000; text-decoration-color: #008000\">Agent](https://python.langchain.com/docs/tutorials/agents/)\\n    *   </span>\n",
       "<span style=\"color: #008000; text-decoration-color: #008000\">[Tagging](https://python.langchain.com/docs/tutorials/classification/)\\n    *   [Build a Retrieval Augmented </span>\n",
       "<span style=\"color: #008000; text-decoration-color: #008000\">Generation (RAG) App: Part 1](https://python.langchain.com/docs/tutorials/rag/)\\n    *   [Build a semantic search </span>\n",
       "<span style=\"color: #008000; text-decoration-color: #008000\">engine](https://python.langchain.com/docs/tutorials/retrievers/)\\n    *   [Build a Question/Answering system over </span>\n",
       "<span style=\"color: #008000; text-decoration-color: #008000\">SQL data](https://python.langchain.com/docs/tutorials/sql_qa/)\\n    *   [Summarize </span>\n",
       "<span style=\"color: #008000; text-decoration-color: #008000\">Text](https://python.langchain.com/docs/tutorials/summarization/)\\n\\n*   [How-to </span>\n",
       "<span style=\"color: #008000; text-decoration-color: #008000\">guides](https://python.langchain.com/docs/how_to/) \\n    *   [How-to </span>\n",
       "<span style=\"color: #008000; text-decoration-color: #008000\">guides](https://python.langchain.com/docs/how_to/)\\n    *   [How to use tools in a </span>\n",
       "<span style=\"color: #008000; text-decoration-color: #008000\">chain](https://python.langchain.com/docs/how_to/tools_chain/)\\n    *   [How to use a vectorstore as a </span>\n",
       "<span style=\"color: #008000; text-decoration-color: #008000\">retriever](https://python.langchain.com/docs/how_to/vectorstore_retriever/)\\n    *   [How to add memory to </span>\n",
       "<span style=\"color: #008000; text-decoration-color: #008000\">chatbots](https://python.langchain.com/docs/how_to/chatbots_memory/)\\n    *   [How to use example </span>\n",
       "<span style=\"color: #008000; text-decoration-color: #008000\">selectors](https://python.langchain.com/docs/how_to/example_selectors/)\\n    *   [How to add a semantic layer over </span>\n",
       "<span style=\"color: #008000; text-decoration-color: #008000\">graph database](https://python.langchain.com/docs/how_to/graph_semantic/)\\n    *   [How to invoke runnables in </span>\n",
       "<span style=\"color: #008000; text-decoration-color: #008000\">parallel](https://python.langchain.com/docs/how_to/parallel/)\\n    *   [How to stream chat model </span>\n",
       "<span style=\"color: #008000; text-decoration-color: #008000\">responses](https://python.langchain.com/docs/how_to/chat_streaming/)\\n    *   [How to add default invocation args </span>\n",
       "<span style=\"color: #008000; text-decoration-color: #008000\">to a Runnable](https://python.langchain.com/docs/how_to/binding/)\\n    *   [How to add retrieval to </span>\n",
       "<span style=\"color: #008000; text-decoration-color: #008000\">chatbots](https://python.langchain.com/docs/how_to/chatbots_retrieval/)\\n    *   [How to use few shot examples in </span>\n",
       "<span style=\"color: #008000; text-decoration-color: #008000\">chat models](https://python.langchain.com/docs/how_to/few_shot_examples_chat/)\\n    *   [How to do tool/function </span>\n",
       "<span style=\"color: #008000; text-decoration-color: #008000\">calling](https://python.langchain.com/docs/how_to/function_calling/)\\n    *   [How to install LangChain </span>\n",
       "<span style=\"color: #008000; text-decoration-color: #008000\">packages](https://python.langchain.com/docs/how_to/installation/)\\n    *   [How to add examples to the prompt for </span>\n",
       "<span style=\"color: #008000; text-decoration-color: #008000\">query analysis](https://python.langchain.com/docs/how_to/query_few_shot/)\\n    *   [How to use few shot </span>\n",
       "<span style=\"color: #008000; text-decoration-color: #008000\">examples](https://python.langchain.com/docs/how_to/few_shot_examples/)\\n    *   [How to run custom </span>\n",
       "<span style=\"color: #008000; text-decoration-color: #008000\">functions](https://python.langchain.com/docs/how_to/functions/)\\n    *   [How to use output parsers to parse an LLM</span>\n",
       "<span style=\"color: #008000; text-decoration-color: #008000\">response into structured format](https://python.langchain.com/docs/how_to/output_parser_structured/)\\n    *   [How </span>\n",
       "<span style=\"color: #008000; text-decoration-color: #008000\">to handle cases where no queries are generated](https://python.langchain.com/docs/how_to/query_no_queries/)\\n    * </span>\n",
       "<span style=\"color: #008000; text-decoration-color: #008000\">[How to route between sub-chains](https://python.langchain.com/docs/how_to/routing/)\\n    *   [How to return </span>\n",
       "<span style=\"color: #008000; text-decoration-color: #008000\">structured data from a model](https://python.langchain.com/docs/how_to/structured_output/)\\n    *   [How to </span>\n",
       "<span style=\"color: #008000; text-decoration-color: #008000\">summarize text through parallelization](https://python.langchain.com/docs/how_to/summarize_map_reduce/)\\n    *   </span>\n",
       "<span style=\"color: #008000; text-decoration-color: #008000\">[How to summarize text through iterative refinement](https://python.langchain.com/docs/how_to/summarize_refine/)\\n </span>\n",
       "<span style=\"color: #008000; text-decoration-color: #008000\">*   [How to summarize text in a single LLM call](https://python.langchain.com/docs/how_to/summarize_stuff/)\\n    * </span>\n",
       "<span style=\"color: #008000; text-decoration-color: #008000\">[How to use toolkits](https://python.langchain.com/docs/how_to/toolkits/)\\n    *   [How to add ad-hoc tool calling </span>\n",
       "<span style=\"color: #008000; text-decoration-color: #008000\">capability to LLMs and Chat Models](https://python.langchain.com/docs/how_to/tools_prompting/)\\n    *   [Build an </span>\n",
       "<span style=\"color: #008000; text-decoration-color: #008000\">Agent with AgentExecutor (Legacy)](https://python.langchain.com/docs/how_to/agent_executor/)\\n    *   [How to </span>\n",
       "<span style=\"color: #008000; text-decoration-color: #008000\">construct knowledge graphs](https://python.langchain.com/docs/how_to/graph_constructing/)\\n    *   [How to </span>\n",
       "<span style=\"color: #008000; text-decoration-color: #008000\">partially format prompt templates](https://python.langchain.com/docs/how_to/prompts_partial/)\\n    *   [How to </span>\n",
       "<span style=\"color: #008000; text-decoration-color: #008000\">handle multiple queries when doing query </span>\n",
       "<span style=\"color: #008000; text-decoration-color: #008000\">analysis](https://python.langchain.com/docs/how_to/query_multiple_queries/)\\n    *   [How to use built-in tools and</span>\n",
       "<span style=\"color: #008000; text-decoration-color: #008000\">toolkits](https://python.langchain.com/docs/how_to/tools_builtin/)\\n    *   [How to pass through arguments from one</span>\n",
       "<span style=\"color: #008000; text-decoration-color: #008000\">step to the next](https://python.langchain.com/docs/how_to/passthrough/)\\n    *   [How to compose prompts </span>\n",
       "<span style=\"color: #008000; text-decoration-color: #008000\">together](https://python.langchain.com/docs/how_to/prompts_composition/)\\n    *   [How to handle multiple </span>\n",
       "<span style=\"color: #008000; text-decoration-color: #008000\">retrievers when doing query analysis](https://python.langchain.com/docs/how_to/query_multiple_retrievers/)\\n    *  </span>\n",
       "<span style=\"color: #008000; text-decoration-color: #008000\">[How to add values to a chain's state](https://python.langchain.com/docs/how_to/assign/)\\n    *   [How to construct</span>\n",
       "<span style=\"color: #008000; text-decoration-color: #008000\">filters for query analysis](https://python.langchain.com/docs/how_to/query_constructing_filters/)\\n    *   [How to </span>\n",
       "<span style=\"color: #008000; text-decoration-color: #008000\">configure runtime chain internals](https://python.langchain.com/docs/how_to/configure/)\\n    *   [How deal with </span>\n",
       "<span style=\"color: #008000; text-decoration-color: #008000\">high cardinality categoricals when doing query </span>\n",
       "<span style=\"color: #008000; text-decoration-color: #008000\">analysis](https://python.langchain.com/docs/how_to/query_high_cardinality/)\\n    *   [Custom Document </span>\n",
       "<span style=\"color: #008000; text-decoration-color: #008000\">Loader](https://python.langchain.com/docs/how_to/document_loader_custom/)\\n    *   [How to use the </span>\n",
       "<span style=\"color: #008000; text-decoration-color: #008000\">MultiQueryRetriever](https://python.langchain.com/docs/how_to/MultiQueryRetriever/)\\n    *   [How to add scores to </span>\n",
       "<span style=\"color: #008000; text-decoration-color: #008000\">retriever results](https://python.langchain.com/docs/how_to/add_scores_retriever/)\\n    *   </span>\n",
       "<span style=\"color: #008000; text-decoration-color: #008000\">[Caching](https://python.langchain.com/docs/how_to/caching_embeddings/)\\n    *   [How to use callbacks in async </span>\n",
       "<span style=\"color: #008000; text-decoration-color: #008000\">environments](https://python.langchain.com/docs/how_to/callbacks_async/)\\n    *   [How to attach callbacks to a </span>\n",
       "<span style=\"color: #008000; text-decoration-color: #008000\">runnable](https://python.langchain.com/docs/how_to/callbacks_attach/)\\n    *   [How to propagate callbacks </span>\n",
       "<span style=\"color: #008000; text-decoration-color: #008000\">constructor](https://python.langchain.com/docs/how_to/callbacks_constructor/)\\n    *   [How to dispatch custom </span>\n",
       "<span style=\"color: #008000; text-decoration-color: #008000\">callback events](https://python.langchain.com/docs/how_to/callbacks_custom_events/)\\n    *   [How to pass callbacks</span>\n",
       "<span style=\"color: #008000; text-decoration-color: #008000\">in at runtime](https://python.langchain.com/docs/how_to/callbacks_runtime/)\\n    *   [How to split by </span>\n",
       "<span style=\"color: #008000; text-decoration-color: #008000\">character](https://python.langchain.com/docs/how_to/character_text_splitter/)\\n    *   [How to cache chat model </span>\n",
       "<span style=\"color: #008000; text-decoration-color: #008000\">responses](https://python.langchain.com/docs/how_to/chat_model_caching/)\\n    *   [How to handle rate </span>\n",
       "<span style=\"color: #008000; text-decoration-color: #008000\">limits](https://python.langchain.com/docs/how_to/chat_model_rate_limiting/)\\n    *   [How to init any model in one </span>\n",
       "<span style=\"color: #008000; text-decoration-color: #008000\">line](https://python.langchain.com/docs/how_to/chat_models_universal_init/)\\n    *   [How to track token usage in </span>\n",
       "<span style=\"color: #008000; text-decoration-color: #008000\">ChatModels](https://python.langchain.com/docs/how_to/chat_token_usage_tracking/)\\n    *   [How to add tools to </span>\n",
       "<span style=\"color: #008000; text-decoration-color: #008000\">chatbots](https://python.langchain.com/docs/how_to/chatbots_tools/)\\n    *   [How to split </span>\n",
       "<span style=\"color: #008000; text-decoration-color: #008000\">code](https://python.langchain.com/docs/how_to/code_splitter/)\\n    *   [How to do retrieval with contextual </span>\n",
       "<span style=\"color: #008000; text-decoration-color: #008000\">compression](https://python.langchain.com/docs/how_to/contextual_compression/)\\n    *   [How to convert Runnables </span>\n",
       "<span style=\"color: #008000; text-decoration-color: #008000\">to Tools](https://python.langchain.com/docs/how_to/convert_runnable_to_tool/)\\n    *   [How to create custom </span>\n",
       "<span style=\"color: #008000; text-decoration-color: #008000\">callback handlers](https://python.langchain.com/docs/how_to/custom_callbacks/)\\n    *   [How to create a custom </span>\n",
       "<span style=\"color: #008000; text-decoration-color: #008000\">chat model class](https://python.langchain.com/docs/how_to/custom_chat_model/)\\n    *   [Custom </span>\n",
       "<span style=\"color: #008000; text-decoration-color: #008000\">Embeddings](https://python.langchain.com/docs/how_to/custom_embeddings/)\\n    *   [How to create a custom LLM </span>\n",
       "<span style=\"color: #008000; text-decoration-color: #008000\">class](https://python.langchain.com/docs/how_to/custom_llm/)\\n    *   [Custom </span>\n",
       "<span style=\"color: #008000; text-decoration-color: #008000\">Retriever](https://python.langchain.com/docs/how_to/custom_retriever/)\\n    *   [How to create </span>\n",
       "<span style=\"color: #008000; text-decoration-color: #008000\">tools](https://python.langchain.com/docs/how_to/custom_tools/)\\n    *   [How to debug your LLM </span>\n",
       "<span style=\"color: #008000; text-decoration-color: #008000\">apps](https://python.langchain.com/docs/how_to/debugging/)\\n    *   [How to load </span>\n",
       "<span style=\"color: #008000; text-decoration-color: #008000\">CSVs](https://python.langchain.com/docs/how_to/document_loader_csv/)\\n    *   [How to load documents from a </span>\n",
       "<span style=\"color: #008000; text-decoration-color: #008000\">directory](https://python.langchain.com/docs/how_to/document_loader_directory/)\\n    *   [How to load </span>\n",
       "<span style=\"color: #008000; text-decoration-color: #008000\">HTML](https://python.langchain.com/docs/how_to/document_loader_html/)\\n    *   [How to load </span>\n",
       "<span style=\"color: #008000; text-decoration-color: #008000\">JSON](https://python.langchain.com/docs/how_to/document_loader_json/)\\n    *   [How to load </span>\n",
       "<span style=\"color: #008000; text-decoration-color: #008000\">Markdown](https://python.langchain.com/docs/how_to/document_loader_markdown/)\\n    *   [How to load Microsoft </span>\n",
       "<span style=\"color: #008000; text-decoration-color: #008000\">Office files](https://python.langchain.com/docs/how_to/document_loader_office_file/)\\n    *   [How to load </span>\n",
       "<span style=\"color: #008000; text-decoration-color: #008000\">PDFs](https://python.langchain.com/docs/how_to/document_loader_pdf/)\\n    *   [How to load web </span>\n",
       "<span style=\"color: #008000; text-decoration-color: #008000\">pages](https://python.langchain.com/docs/how_to/document_loader_web/)\\n    *   [How to create a dynamic </span>\n",
       "<span style=\"color: #008000; text-decoration-color: #008000\">(self-constructing) chain](https://python.langchain.com/docs/how_to/dynamic_chain/)\\n    *   [Text embedding </span>\n",
       "<span style=\"color: #008000; text-decoration-color: #008000\">models](https://python.langchain.com/docs/how_to/embed_text/)\\n    *   [How to combine results from multiple </span>\n",
       "<span style=\"color: #008000; text-decoration-color: #008000\">retrievers](https://python.langchain.com/docs/how_to/ensemble_retriever/)\\n    *   [How to select examples from a </span>\n",
       "<span style=\"color: #008000; text-decoration-color: #008000\">LangSmith dataset](https://python.langchain.com/docs/how_to/example_selectors_langsmith/)\\n    *   [How to select </span>\n",
       "<span style=\"color: #008000; text-decoration-color: #008000\">examples by length](https://python.langchain.com/docs/how_to/example_selectors_length_based/)\\n    *   [How to </span>\n",
       "<span style=\"color: #008000; text-decoration-color: #008000\">select examples by maximal marginal relevance </span>\n",
       "<span style=\"color: #008000; text-decoration-color: #008000\">(MMR)](https://python.langchain.com/docs/how_to/example_selectors_mmr/)\\n    *   [How to select examples by n-gram </span>\n",
       "<span style=\"color: #008000; text-decoration-color: #008000\">overlap](https://python.langchain.com/docs/how_to/example_selectors_ngram/)\\n    *   [How to select examples by </span>\n",
       "<span style=\"color: #008000; text-decoration-color: #008000\">similarity](https://python.langchain.com/docs/how_to/example_selectors_similarity/)\\n    *   [How to use reference </span>\n",
       "<span style=\"color: #008000; text-decoration-color: #008000\">examples when doing extraction](https://python.langchain.com/docs/how_to/extraction_examples/)\\n    *   [How to </span>\n",
       "<span style=\"color: #008000; text-decoration-color: #008000\">handle long text when doing extraction](https://python.langchain.com/docs/how_to/extraction_long_text/)\\n    *   </span>\n",
       "<span style=\"color: #008000; text-decoration-color: #008000\">[How to use prompting alone (no tool calling) to do </span>\n",
       "<span style=\"color: #008000; text-decoration-color: #008000\">extraction](https://python.langchain.com/docs/how_to/extraction_parse/)\\n    *   [How to add fallbacks to a </span>\n",
       "<span style=\"color: #008000; text-decoration-color: #008000\">runnable](https://python.langchain.com/docs/how_to/fallbacks/)\\n    *   [How to filter </span>\n",
       "<span style=\"color: #008000; text-decoration-color: #008000\">messages](https://python.langchain.com/docs/how_to/filter_messages/)\\n    *   [Hybrid </span>\n",
       "<span style=\"color: #008000; text-decoration-color: #008000\">Search](https://python.langchain.com/docs/how_to/hybrid/)\\n    *   [How to use the LangChain indexing </span>\n",
       "<span style=\"color: #008000; text-decoration-color: #008000\">API](https://python.langchain.com/docs/how_to/indexing/)\\n    *   [How to inspect </span>\n",
       "<span style=\"color: #008000; text-decoration-color: #008000\">runnables](https://python.langchain.com/docs/how_to/inspect/)\\n    *   [LangChain Expression Language </span>\n",
       "<span style=\"color: #008000; text-decoration-color: #008000\">Cheatsheet](https://python.langchain.com/docs/how_to/lcel_cheatsheet/)\\n    *   [How to cache LLM </span>\n",
       "<span style=\"color: #008000; text-decoration-color: #008000\">responses](https://python.langchain.com/docs/how_to/llm_caching/)\\n    *   [How to track token usage for </span>\n",
       "<span style=\"color: #008000; text-decoration-color: #008000\">LLMs](https://python.langchain.com/docs/how_to/llm_token_usage_tracking/)\\n    *   [Run models </span>\n",
       "<span style=\"color: #008000; text-decoration-color: #008000\">locally](https://python.langchain.com/docs/how_to/local_llms/)\\n    *   [How to get log </span>\n",
       "<span style=\"color: #008000; text-decoration-color: #008000\">probabilities](https://python.langchain.com/docs/how_to/logprobs/)\\n    *   [How to reorder retrieved results to </span>\n",
       "<span style=\"color: #008000; text-decoration-color: #008000\">mitigate the \\\"lost in the middle\\\" effect](https://python.langchain.com/docs/how_to/long_context_reorder/)\\n    * </span>\n",
       "<span style=\"color: #008000; text-decoration-color: #008000\">[How to split Markdown by Headers](https://python.langchain.com/docs/how_to/markdown_header_metadata_splitter/)\\n  </span>\n",
       "<span style=\"color: #008000; text-decoration-color: #008000\">*   [How to merge consecutive messages of the same </span>\n",
       "<span style=\"color: #008000; text-decoration-color: #008000\">type](https://python.langchain.com/docs/how_to/merge_message_runs/)\\n    *   [How to add message </span>\n",
       "<span style=\"color: #008000; text-decoration-color: #008000\">history](https://python.langchain.com/docs/how_to/message_history/)\\n    *   [How to migrate from legacy LangChain </span>\n",
       "<span style=\"color: #008000; text-decoration-color: #008000\">agents to LangGraph](https://python.langchain.com/docs/how_to/migrate_agent/)\\n    *   [How to retrieve using </span>\n",
       "<span style=\"color: #008000; text-decoration-color: #008000\">multiple vectors per document](https://python.langchain.com/docs/how_to/multi_vector/)\\n    *   [How to pass </span>\n",
       "<span style=\"color: #008000; text-decoration-color: #008000\">multimodal data to models](https://python.langchain.com/docs/how_to/multimodal_inputs/)\\n    *   [How to use </span>\n",
       "<span style=\"color: #008000; text-decoration-color: #008000\">multimodal prompts](https://python.langchain.com/docs/how_to/multimodal_prompts/)\\n    *   [How to create a custom </span>\n",
       "<span style=\"color: #008000; text-decoration-color: #008000\">Output Parser](https://python.langchain.com/docs/how_to/output_parser_custom/)\\n    *   [How to use the </span>\n",
       "<span style=\"color: #008000; text-decoration-color: #008000\">output-fixing parser](https://python.langchain.com/docs/how_to/output_parser_fixing/)\\n    *   [How to parse JSON </span>\n",
       "<span style=\"color: #008000; text-decoration-color: #008000\">output](https://python.langchain.com/docs/how_to/output_parser_json/)\\n    *   [How to retry when a parsing error </span>\n",
       "<span style=\"color: #008000; text-decoration-color: #008000\">occurs](https://python.langchain.com/docs/how_to/output_parser_retry/)\\n    *   [How to parse text from message </span>\n",
       "<span style=\"color: #008000; text-decoration-color: #008000\">objects](https://python.langchain.com/docs/how_to/output_parser_string/)\\n    *   [How to parse XML </span>\n",
       "<span style=\"color: #008000; text-decoration-color: #008000\">output](https://python.langchain.com/docs/how_to/output_parser_xml/)\\n    *   [How to parse YAML </span>\n",
       "<span style=\"color: #008000; text-decoration-color: #008000\">output](https://python.langchain.com/docs/how_to/output_parser_yaml/)\\n    *   [How to use the Parent Document </span>\n",
       "<span style=\"color: #008000; text-decoration-color: #008000\">Retriever](https://python.langchain.com/docs/how_to/parent_document_retriever/)\\n    *   [How to use LangChain with</span>\n",
       "<span style=\"color: #008000; text-decoration-color: #008000\">different Pydantic versions](https://python.langchain.com/docs/how_to/pydantic_compatibility/)\\n    *   [How to add</span>\n",
       "<span style=\"color: #008000; text-decoration-color: #008000\">chat history](https://python.langchain.com/docs/how_to/qa_chat_history_how_to/)\\n    *   [How to get a RAG </span>\n",
       "<span style=\"color: #008000; text-decoration-color: #008000\">application to add citations](https://python.langchain.com/docs/how_to/qa_citations/)\\n    *   [How to do per-user </span>\n",
       "<span style=\"color: #008000; text-decoration-color: #008000\">retrieval](https://python.langchain.com/docs/how_to/qa_per_user/)\\n    *   [How to get your RAG application to </span>\n",
       "<span style=\"color: #008000; text-decoration-color: #008000\">return sources](https://python.langchain.com/docs/how_to/qa_sources/)\\n    *   [How to stream results from your RAG</span>\n",
       "<span style=\"color: #008000; text-decoration-color: #008000\">application](https://python.langchain.com/docs/how_to/qa_streaming/)\\n    *   [How to split JSON </span>\n",
       "<span style=\"color: #008000; text-decoration-color: #008000\">data](https://python.langchain.com/docs/how_to/recursive_json_splitter/)\\n    *   [How to recursively split text by</span>\n",
       "<span style=\"color: #008000; text-decoration-color: #008000\">characters](https://python.langchain.com/docs/how_to/recursive_text_splitter/)\\n    *   [Response </span>\n",
       "<span style=\"color: #008000; text-decoration-color: #008000\">metadata](https://python.langchain.com/docs/how_to/response_metadata/)\\n    *   [How to pass runtime secrets to </span>\n",
       "<span style=\"color: #008000; text-decoration-color: #008000\">runnables](https://python.langchain.com/docs/how_to/runnable_runtime_secrets/)\\n    *   [How to do </span>\n",
       "<span style=\"color: #008000; text-decoration-color: #008000\">\\\"self-querying\\\" retrieval](https://python.langchain.com/docs/how_to/self_query/)\\n    *   [How to split text </span>\n",
       "<span style=\"color: #008000; text-decoration-color: #008000\">based on semantic similarity](https://python.langchain.com/docs/how_to/semantic-chunker/)\\n    *   [How to chain </span>\n",
       "<span style=\"color: #008000; text-decoration-color: #008000\">runnables](https://python.langchain.com/docs/how_to/sequence/)\\n    *   [How to save and load LangChain </span>\n",
       "<span style=\"color: #008000; text-decoration-color: #008000\">objects](https://python.langchain.com/docs/how_to/serialization/)\\n    *   [How to split text by </span>\n",
       "<span style=\"color: #008000; text-decoration-color: #008000\">tokens](https://python.langchain.com/docs/how_to/split_by_token/)\\n    *   [How to split </span>\n",
       "<span style=\"color: #008000; text-decoration-color: #008000\">HTML](https://python.langchain.com/docs/how_to/split_html/)\\n    *   [How to do question answering over </span>\n",
       "<span style=\"color: #008000; text-decoration-color: #008000\">CSVs](https://python.langchain.com/docs/how_to/sql_csv/)\\n    *   [How to deal with large databases when doing SQL </span>\n",
       "<span style=\"color: #008000; text-decoration-color: #008000\">question-answering](https://python.langchain.com/docs/how_to/sql_large_db/)\\n    *   [How to better prompt when </span>\n",
       "<span style=\"color: #008000; text-decoration-color: #008000\">doing SQL question-answering](https://python.langchain.com/docs/how_to/sql_prompting/)\\n    *   [How to do query </span>\n",
       "<span style=\"color: #008000; text-decoration-color: #008000\">validation as part of SQL question-answering](https://python.langchain.com/docs/how_to/sql_query_checking/)\\n    * </span>\n",
       "<span style=\"color: #008000; text-decoration-color: #008000\">[How to stream runnables](https://python.langchain.com/docs/how_to/streaming/)\\n    *   [How to stream responses </span>\n",
       "<span style=\"color: #008000; text-decoration-color: #008000\">from an LLM](https://python.langchain.com/docs/how_to/streaming_llm/)\\n    *   [How to use a time-weighted vector </span>\n",
       "<span style=\"color: #008000; text-decoration-color: #008000\">store retriever](https://python.langchain.com/docs/how_to/time_weighted_vectorstore/)\\n    *   [How to return </span>\n",
       "<span style=\"color: #008000; text-decoration-color: #008000\">artifacts from a tool](https://python.langchain.com/docs/how_to/tool_artifacts/)\\n    *   [How to use chat models </span>\n",
       "<span style=\"color: #008000; text-decoration-color: #008000\">to call tools](https://python.langchain.com/docs/how_to/tool_calling/)\\n    *   [How to disable parallel tool </span>\n",
       "<span style=\"color: #008000; text-decoration-color: #008000\">calling](https://python.langchain.com/docs/how_to/tool_calling_parallel/)\\n    *   [How to force models to call a </span>\n",
       "<span style=\"color: #008000; text-decoration-color: #008000\">tool](https://python.langchain.com/docs/how_to/tool_choice/)\\n    *   [How to access the RunnableConfig from a </span>\n",
       "<span style=\"color: #008000; text-decoration-color: #008000\">tool](https://python.langchain.com/docs/how_to/tool_configure/)\\n    *   [How to pass tool outputs to chat </span>\n",
       "<span style=\"color: #008000; text-decoration-color: #008000\">models](https://python.langchain.com/docs/how_to/tool_results_pass_to_model/)\\n    *   [How to pass run time values</span>\n",
       "<span style=\"color: #008000; text-decoration-color: #008000\">to tools](https://python.langchain.com/docs/how_to/tool_runtime/)\\n    *   [How to stream events from a </span>\n",
       "<span style=\"color: #008000; text-decoration-color: #008000\">tool](https://python.langchain.com/docs/how_to/tool_stream_events/)\\n    *   [How to stream tool </span>\n",
       "<span style=\"color: #008000; text-decoration-color: #008000\">calls](https://python.langchain.com/docs/how_to/tool_streaming/)\\n    *   [How to convert tools to OpenAI </span>\n",
       "<span style=\"color: #008000; text-decoration-color: #008000\">Functions](https://python.langchain.com/docs/how_to/tools_as_openai_functions/)\\n    *   [How to handle tool </span>\n",
       "<span style=\"color: #008000; text-decoration-color: #008000\">errors](https://python.langchain.com/docs/how_to/tools_error/)\\n    *   [How to use few-shot prompting with tool </span>\n",
       "<span style=\"color: #008000; text-decoration-color: #008000\">calling](https://python.langchain.com/docs/how_to/tools_few_shot/)\\n    *   [How to add a human-in-the-loop for </span>\n",
       "<span style=\"color: #008000; text-decoration-color: #008000\">tools](https://python.langchain.com/docs/how_to/tools_human/)\\n    *   [How to bind model-specific </span>\n",
       "<span style=\"color: #008000; text-decoration-color: #008000\">tools](https://python.langchain.com/docs/how_to/tools_model_specific/)\\n    *   [How to trim </span>\n",
       "<span style=\"color: #008000; text-decoration-color: #008000\">messages](https://python.langchain.com/docs/how_to/trim_messages/)\\n    *   [How to create and query vector </span>\n",
       "<span style=\"color: #008000; text-decoration-color: #008000\">stores](https://python.langchain.com/docs/how_to/vectorstores/)\\n\\n*   [Conceptual </span>\n",
       "<span style=\"color: #008000; text-decoration-color: #008000\">guide](https://python.langchain.com/docs/concepts/) \\n    *   </span>\n",
       "<span style=\"color: #008000; text-decoration-color: #008000\">[Agents](https://python.langchain.com/docs/concepts/agents/)\\n    *   </span>\n",
       "<span style=\"color: #008000; text-decoration-color: #008000\">[Architecture](https://python.langchain.com/docs/concepts/architecture/)\\n    *   [Async programming with </span>\n",
       "<span style=\"color: #008000; text-decoration-color: #008000\">langchain](https://python.langchain.com/docs/concepts/async/)\\n    *   </span>\n",
       "<span style=\"color: #008000; text-decoration-color: #008000\">[Callbacks](https://python.langchain.com/docs/concepts/callbacks/)\\n    *   [Chat </span>\n",
       "<span style=\"color: #008000; text-decoration-color: #008000\">history](https://python.langchain.com/docs/concepts/chat_history/)\\n    *   [Chat </span>\n",
       "<span style=\"color: #008000; text-decoration-color: #008000\">models](https://python.langchain.com/docs/concepts/chat_models/)\\n    *   [Document </span>\n",
       "<span style=\"color: #008000; text-decoration-color: #008000\">loaders](https://python.langchain.com/docs/concepts/document_loaders/)\\n    *   [Embedding </span>\n",
       "<span style=\"color: #008000; text-decoration-color: #008000\">models](https://python.langchain.com/docs/concepts/embedding_models/)\\n    *   </span>\n",
       "<span style=\"color: #008000; text-decoration-color: #008000\">[Evaluation](https://python.langchain.com/docs/concepts/evaluation/)\\n    *   [Example </span>\n",
       "<span style=\"color: #008000; text-decoration-color: #008000\">selectors](https://python.langchain.com/docs/concepts/example_selectors/)\\n    *   [Few-shot </span>\n",
       "<span style=\"color: #008000; text-decoration-color: #008000\">prompting](https://python.langchain.com/docs/concepts/few_shot_prompting/)\\n    *   [Conceptual </span>\n",
       "<span style=\"color: #008000; text-decoration-color: #008000\">guide](https://python.langchain.com/docs/concepts/)\\n    *   [Key-value </span>\n",
       "<span style=\"color: #008000; text-decoration-color: #008000\">stores](https://python.langchain.com/docs/concepts/key_value_stores/)\\n    *   [LangChain Expression Language </span>\n",
       "<span style=\"color: #008000; text-decoration-color: #008000\">(LCEL)](https://python.langchain.com/docs/concepts/lcel/)\\n    *   </span>\n",
       "<span style=\"color: #008000; text-decoration-color: #008000\">[Messages](https://python.langchain.com/docs/concepts/messages/)\\n    *   </span>\n",
       "<span style=\"color: #008000; text-decoration-color: #008000\">[Multimodality](https://python.langchain.com/docs/concepts/multimodality/)\\n    *   [Output </span>\n",
       "<span style=\"color: #008000; text-decoration-color: #008000\">parsers](https://python.langchain.com/docs/concepts/output_parsers/)\\n    *   [Prompt </span>\n",
       "<span style=\"color: #008000; text-decoration-color: #008000\">Templates](https://python.langchain.com/docs/concepts/prompt_templates/)\\n    *   [Retrieval augmented generation </span>\n",
       "<span style=\"color: #008000; text-decoration-color: #008000\">(RAG)](https://python.langchain.com/docs/concepts/rag/)\\n    *   </span>\n",
       "<span style=\"color: #008000; text-decoration-color: #008000\">[Retrieval](https://python.langchain.com/docs/concepts/retrieval/)\\n    *   </span>\n",
       "<span style=\"color: #008000; text-decoration-color: #008000\">[Retrievers](https://python.langchain.com/docs/concepts/retrievers/)\\n    *   [Runnable </span>\n",
       "<span style=\"color: #008000; text-decoration-color: #008000\">interface](https://python.langchain.com/docs/concepts/runnables/)\\n    *   </span>\n",
       "<span style=\"color: #008000; text-decoration-color: #008000\">[Streaming](https://python.langchain.com/docs/concepts/streaming/)\\n    *   [Structured </span>\n",
       "<span style=\"color: #008000; text-decoration-color: #008000\">outputs](https://python.langchain.com/docs/concepts/structured_outputs/)\\n    *   </span>\n",
       "<span style=\"color: #008000; text-decoration-color: #008000\">[Testing](https://python.langchain.com/docs/concepts/testing/)\\n    *   [String-in, string-out </span>\n",
       "<span style=\"color: #008000; text-decoration-color: #008000\">llms](https://python.langchain.com/docs/concepts/text_llms/)\\n    *   [Text </span>\n",
       "<span style=\"color: #008000; text-decoration-color: #008000\">splitters](https://python.langchain.com/docs/concepts/text_splitters/)\\n    *   </span>\n",
       "<span style=\"color: #008000; text-decoration-color: #008000\">[Tokens](https://python.langchain.com/docs/concepts/tokens/)\\n    *   [Tool </span>\n",
       "<span style=\"color: #008000; text-decoration-color: #008000\">calling](https://python.langchain.com/docs/concepts/tool_calling/)\\n    *   </span>\n",
       "<span style=\"color: #008000; text-decoration-color: #008000\">[Tools](https://python.langchain.com/docs/concepts/tools/)\\n    *   </span>\n",
       "<span style=\"color: #008000; text-decoration-color: #008000\">[Tracing](https://python.langchain.com/docs/concepts/tracing/)\\n    *   [Vector </span>\n",
       "<span style=\"color: #008000; text-decoration-color: #008000\">stores](https://python.langchain.com/docs/concepts/vectorstores/)\\n    *   [Why </span>\n",
       "<span style=\"color: #008000; text-decoration-color: #008000\">LangChain?](https://python.langchain.com/docs/concepts/why_langchain/)\\n\\n*   Ecosystem \\n    *   [🦜🛠️ </span>\n",
       "<span style=\"color: #008000; text-decoration-color: #008000\">LangSmith](https://docs.smith.langchain.com/)\\n    *   [🦜🕸️ </span>\n",
       "<span style=\"color: #008000; text-decoration-color: #008000\">LangGraph](https://langchain-ai.github.io/langgraph/)\\n\\n*   Versions \\n    *   </span>\n",
       "<span style=\"color: #008000; text-decoration-color: #008000\">[v0.3](https://python.langchain.com/docs/versions/v0_3/)\\n    *   </span>\n",
       "<span style=\"color: #008000; text-decoration-color: #008000\">[v0.2](https://python.langchain.com/docs/introduction#) \\n    *   [Pydantic </span>\n",
       "<span style=\"color: #008000; text-decoration-color: #008000\">compatibility](https://python.langchain.com/docs/how_to/pydantic_compatibility/)\\n    *   [Migrating from v0.0 </span>\n",
       "<span style=\"color: #008000; text-decoration-color: #008000\">chains](https://python.langchain.com/docs/versions/migrating_chains/) \\n        *   [How to migrate from v0.0 </span>\n",
       "<span style=\"color: #008000; text-decoration-color: #008000\">chains](https://python.langchain.com/docs/versions/migrating_chains/)\\n        *   [Migrating from </span>\n",
       "<span style=\"color: #008000; text-decoration-color: #008000\">ConstitutionalChain](https://python.langchain.com/docs/versions/migrating_chains/constitutional_chain/)\\n        * </span>\n",
       "<span style=\"color: #008000; text-decoration-color: #008000\">[Migrating from </span>\n",
       "<span style=\"color: #008000; text-decoration-color: #008000\">ConversationalChain](https://python.langchain.com/docs/versions/migrating_chains/conversation_chain/)\\n        *   </span>\n",
       "<span style=\"color: #008000; text-decoration-color: #008000\">[Migrating from </span>\n",
       "<span style=\"color: #008000; text-decoration-color: #008000\">ConversationalRetrievalChain](https://python.langchain.com/docs/versions/migrating_chains/conversation_retrieval_ch</span>\n",
       "<span style=\"color: #008000; text-decoration-color: #008000\">ain/)\\n        *   [Migrating from </span>\n",
       "<span style=\"color: #008000; text-decoration-color: #008000\">LLMChain](https://python.langchain.com/docs/versions/migrating_chains/llm_chain/)\\n        *   [Migrating from </span>\n",
       "<span style=\"color: #008000; text-decoration-color: #008000\">LLMMathChain](https://python.langchain.com/docs/versions/migrating_chains/llm_math_chain/)\\n        *   [Migrating </span>\n",
       "<span style=\"color: #008000; text-decoration-color: #008000\">from LLMRouterChain](https://python.langchain.com/docs/versions/migrating_chains/llm_router_chain/)\\n        *   </span>\n",
       "<span style=\"color: #008000; text-decoration-color: #008000\">[Migrating from </span>\n",
       "<span style=\"color: #008000; text-decoration-color: #008000\">MapReduceDocumentsChain](https://python.langchain.com/docs/versions/migrating_chains/map_reduce_chain/)\\n        * </span>\n",
       "<span style=\"color: #008000; text-decoration-color: #008000\">[Migrating from </span>\n",
       "<span style=\"color: #008000; text-decoration-color: #008000\">MapRerankDocumentsChain](https://python.langchain.com/docs/versions/migrating_chains/map_rerank_docs_chain/)\\n     </span>\n",
       "<span style=\"color: #008000; text-decoration-color: #008000\">*   [Migrating from </span>\n",
       "<span style=\"color: #008000; text-decoration-color: #008000\">MultiPromptChain](https://python.langchain.com/docs/versions/migrating_chains/multi_prompt_chain/)\\n        *   </span>\n",
       "<span style=\"color: #008000; text-decoration-color: #008000\">[Migrating from </span>\n",
       "<span style=\"color: #008000; text-decoration-color: #008000\">RefineDocumentsChain](https://python.langchain.com/docs/versions/migrating_chains/refine_docs_chain/)\\n        *   </span>\n",
       "<span style=\"color: #008000; text-decoration-color: #008000\">[Migrating from RetrievalQA](https://python.langchain.com/docs/versions/migrating_chains/retrieval_qa/)\\n        * </span>\n",
       "<span style=\"color: #008000; text-decoration-color: #008000\">[Migrating from </span>\n",
       "<span style=\"color: #008000; text-decoration-color: #008000\">StuffDocumentsChain](https://python.langchain.com/docs/versions/migrating_chains/stuff_docs_chain/)\\n\\n    *   </span>\n",
       "<span style=\"color: #008000; text-decoration-color: #008000\">[Upgrading to LangGraph memory](https://python.langchain.com/docs/versions/migrating_memory/) \\n        *   [How to</span>\n",
       "<span style=\"color: #008000; text-decoration-color: #008000\">migrate to LangGraph memory](https://python.langchain.com/docs/versions/migrating_memory/)\\n        *   [How to use</span>\n",
       "<span style=\"color: #008000; text-decoration-color: #008000\">BaseChatMessageHistory with LangGraph](https://python.langchain.com/docs/versions/migrating_memory/chat_history/)\\n</span>\n",
       "<span style=\"color: #008000; text-decoration-color: #008000\">*   [Migrating off ConversationBufferMemory or </span>\n",
       "<span style=\"color: #008000; text-decoration-color: #008000\">ConversationStringBufferMemory](https://python.langchain.com/docs/versions/migrating_memory/conversation_buffer_mem</span>\n",
       "<span style=\"color: #008000; text-decoration-color: #008000\">ory/)\\n        *   [Migrating off ConversationBufferWindowMemory or </span>\n",
       "<span style=\"color: #008000; text-decoration-color: #008000\">ConversationTokenBufferMemory](https://python.langchain.com/docs/versions/migrating_memory/conversation_buffer_wind</span>\n",
       "<span style=\"color: #008000; text-decoration-color: #008000\">ow_memory/)\\n        *   [Migrating off ConversationSummaryMemory or </span>\n",
       "<span style=\"color: #008000; text-decoration-color: #008000\">ConversationSummaryBufferMemory](https://python.langchain.com/docs/versions/migrating_memory/conversation_summary_m</span>\n",
       "<span style=\"color: #008000; text-decoration-color: #008000\">emory/)\\n        *   [A Long-Term Memory </span>\n",
       "<span style=\"color: #008000; text-decoration-color: #008000\">Agent](https://python.langchain.com/docs/versions/migrating_memory/long_term_memory_agent/)\\n\\n    *   [Release </span>\n",
       "<span style=\"color: #008000; text-decoration-color: #008000\">policy](https://python.langchain.com/docs/versions/release_policy/)\\n\\n*   [Security </span>\n",
       "<span style=\"color: #008000; text-decoration-color: #008000\">Policy](https://python.langchain.com/docs/security/)\\n\\n*   [](https://python.langchain.com/)\\n*   </span>\n",
       "<span style=\"color: #008000; text-decoration-color: #008000\">Introduction\\n\\nOn this page\\n\\n[![Image 2: Open on </span>\n",
       "<span style=\"color: #008000; text-decoration-color: #008000\">GitHub](https://img.shields.io/badge/Open%20on%20GitHub-grey?logo=github&amp;logoColor=white)](https://github.com/langc</span>\n",
       "<span style=\"color: #008000; text-decoration-color: #008000\">hain-ai/langchain/blob/master/docs/docs/introduction.mdx)\\n\\nIntroduction\\n============\\n\\n**LangChain** is a </span>\n",
       "<span style=\"color: #008000; text-decoration-color: #008000\">framework for developing applications powered by large language models (LLMs).\\n\\nLangChain simplifies every stage </span>\n",
       "<span style=\"color: #008000; text-decoration-color: #008000\">of the LLM application lifecycle:\\n\\n*   **Development**: Build your applications using LangChain's open-source </span>\n",
       "<span style=\"color: #008000; text-decoration-color: #008000\">[components](https://python.langchain.com/docs/concepts/) and [third-party </span>\n",
       "<span style=\"color: #008000; text-decoration-color: #008000\">integrations](https://python.langchain.com/docs/integrations/providers/). Use </span>\n",
       "<span style=\"color: #008000; text-decoration-color: #008000\">[LangGraph](https://python.langchain.com/docs/concepts/architecture/#langgraph) to build stateful agents with </span>\n",
       "<span style=\"color: #008000; text-decoration-color: #008000\">first-class streaming and human-in-the-loop support.\\n*   **Productionization**: Use </span>\n",
       "<span style=\"color: #008000; text-decoration-color: #008000\">[LangSmith](https://docs.smith.langchain.com/) to inspect, monitor and evaluate your applications, so that you can </span>\n",
       "<span style=\"color: #008000; text-decoration-color: #008000\">continuously optimize and deploy with confidence.\\n*   **Deployment**: Turn your LangGraph applications into </span>\n",
       "<span style=\"color: #008000; text-decoration-color: #008000\">production-ready APIs and Assistants with [LangGraph </span>\n",
       "<span style=\"color: #008000; text-decoration-color: #008000\">Platform](https://langchain-ai.github.io/langgraph/cloud/).\\n\\n![Image 3: Diagram outlining the hierarchical </span>\n",
       "<span style=\"color: #008000; text-decoration-color: #008000\">organization of the LangChain framework, displaying the interconnected parts across multiple </span>\n",
       "<span style=\"color: #008000; text-decoration-color: #008000\">layers.](https://python.langchain.com/svg/langchain_stack_112024.svg)\\nLangChain implements a standard interface </span>\n",
       "<span style=\"color: #008000; text-decoration-color: #008000\">for large language models and related technologies, such as embedding models and vector stores, and integrates with</span>\n",
       "<span style=\"color: #008000; text-decoration-color: #008000\">hundreds of providers. See the [integrations](https://python.langchain.com/docs/integrations/providers/) page for </span>\n",
       "<span style=\"color: #008000; text-decoration-color: #008000\">more.\\n\\nSelect [chat model](https://python.langchain.com/docs/integrations/chat/):\\n\\nGoogle Gemini▾\\n\\n*   </span>\n",
       "<span style=\"color: #008000; text-decoration-color: #008000\">[OpenAI](https://python.langchain.com/docs/introduction#)\\n*   </span>\n",
       "<span style=\"color: #008000; text-decoration-color: #008000\">[Anthropic](https://python.langchain.com/docs/introduction#)\\n*   </span>\n",
       "<span style=\"color: #008000; text-decoration-color: #008000\">[Azure](https://python.langchain.com/docs/introduction#)\\n*   [Google </span>\n",
       "<span style=\"color: #008000; text-decoration-color: #008000\">Gemini](https://python.langchain.com/docs/introduction#)\\n*   [Google </span>\n",
       "<span style=\"color: #008000; text-decoration-color: #008000\">Vertex](https://python.langchain.com/docs/introduction#)\\n*   </span>\n",
       "<span style=\"color: #008000; text-decoration-color: #008000\">[AWS](https://python.langchain.com/docs/introduction#)\\n*   </span>\n",
       "<span style=\"color: #008000; text-decoration-color: #008000\">[Groq](https://python.langchain.com/docs/introduction#)\\n*   </span>\n",
       "<span style=\"color: #008000; text-decoration-color: #008000\">[Cohere](https://python.langchain.com/docs/introduction#)\\n*   </span>\n",
       "<span style=\"color: #008000; text-decoration-color: #008000\">[NVIDIA](https://python.langchain.com/docs/introduction#)\\n*   [Fireworks </span>\n",
       "<span style=\"color: #008000; text-decoration-color: #008000\">AI](https://python.langchain.com/docs/introduction#)\\n*   [Mistral </span>\n",
       "<span style=\"color: #008000; text-decoration-color: #008000\">AI](https://python.langchain.com/docs/introduction#)\\n*   [Together </span>\n",
       "<span style=\"color: #008000; text-decoration-color: #008000\">AI](https://python.langchain.com/docs/introduction#)\\n*   [IBM </span>\n",
       "<span style=\"color: #008000; text-decoration-color: #008000\">watsonx](https://python.langchain.com/docs/introduction#)\\n*   </span>\n",
       "<span style=\"color: #008000; text-decoration-color: #008000\">[Databricks](https://python.langchain.com/docs/introduction#)\\n*   </span>\n",
       "<span style=\"color: #008000; text-decoration-color: #008000\">[xAI](https://python.langchain.com/docs/introduction#)\\n*   </span>\n",
       "<span style=\"color: #008000; text-decoration-color: #008000\">[Perplexity](https://python.langchain.com/docs/introduction#)\\n\\n`pip install -qU </span>\n",
       "<span style=\"color: #008000; text-decoration-color: #008000\">\\\"langchain[google-genai]\\\"`\\n\\n`import getpassimport osif not os.environ.get(\\\"GOOGLE_API_KEY\\\"):  </span>\n",
       "<span style=\"color: #008000; text-decoration-color: #008000\">os.environ[\\\"GOOGLE_API_KEY\\\"] = getpass.getpass(\\\"Enter API key for Google Gemini: \\\")from langchain.chat_models </span>\n",
       "<span style=\"color: #008000; text-decoration-color: #008000\">import init_chat_modelmodel = init_chat_model(\\\"gemini-2.0-flash\\\", </span>\n",
       "<span style=\"color: #008000; text-decoration-color: #008000\">model_provider=\\\"google_genai\\\")`\\n\\n`model.invoke(\\\"Hello, world!\\\")`\\n\\nnote\\n\\nThese docs focus on the Python </span>\n",
       "<span style=\"color: #008000; text-decoration-color: #008000\">LangChain library. [Head here](https://js.langchain.com/) for docs on the JavaScript LangChain </span>\n",
       "<span style=\"color: #008000; text-decoration-color: #008000\">library.\\n\\nArchitecture[​](https://python.langchain.com/docs/introduction#architecture \\\"Direct link to </span>\n",
       "<span style=\"color: #008000; text-decoration-color: #008000\">Architecture\\\")\\n--------------------------------------------------------------------------------------------------</span>\n",
       "<span style=\"color: #008000; text-decoration-color: #008000\">--------\\n\\nThe LangChain framework consists of multiple open-source libraries. Read more in the </span>\n",
       "<span style=\"color: #008000; text-decoration-color: #008000\">[Architecture](https://python.langchain.com/docs/concepts/architecture/) page.\\n\\n*   **`langchain-core`**: Base </span>\n",
       "<span style=\"color: #008000; text-decoration-color: #008000\">abstractions for chat models and other components.\\n*   **Integration packages** (e.g. `langchain-openai`, </span>\n",
       "<span style=\"color: #008000; text-decoration-color: #008000\">`langchain-anthropic`, etc.): Important integrations have been split into lightweight packages that are </span>\n",
       "<span style=\"color: #008000; text-decoration-color: #008000\">co-maintained by the LangChain team and the integration developers.\\n*   **`langchain`**: Chains, agents, and </span>\n",
       "<span style=\"color: #008000; text-decoration-color: #008000\">retrieval strategies that make up an application's cognitive architecture.\\n*   **`langchain-community`**: </span>\n",
       "<span style=\"color: #008000; text-decoration-color: #008000\">Third-party integrations that are community maintained.\\n*   **`langgraph`**: Orchestration framework for combining</span>\n",
       "<span style=\"color: #008000; text-decoration-color: #008000\">LangChain components into production-ready applications with persistence, streaming, and other key features. See </span>\n",
       "<span style=\"color: #008000; text-decoration-color: #008000\">[LangGraph </span>\n",
       "<span style=\"color: #008000; text-decoration-color: #008000\">documentation](https://langchain-ai.github.io/langgraph/).\\n\\nGuides[​](https://python.langchain.com/docs/introducti</span>\n",
       "<span style=\"color: #008000; text-decoration-color: #008000\">on#guides \\\"Direct link to </span>\n",
       "<span style=\"color: #008000; text-decoration-color: #008000\">Guides\\\")\\n----------------------------------------------------------------------------------------\\n\\n### </span>\n",
       "<span style=\"color: #008000; text-decoration-color: #008000\">[Tutorials](https://python.langchain.com/docs/tutorials/)[​](https://python.langchain.com/docs/introduction#tutorial</span>\n",
       "<span style=\"color: #008000; text-decoration-color: #008000\">s \\\"Direct link to tutorials\\\")\\n\\nIf you're looking to build something specific or are more of a hands-on learner,</span>\n",
       "<span style=\"color: #008000; text-decoration-color: #008000\">check out our [tutorials section](https://python.langchain.com/docs/tutorials/). This is the best place to get </span>\n",
       "<span style=\"color: #008000; text-decoration-color: #008000\">started.\\n\\nThese are the best ones to get started with:\\n\\n*   [Build a Simple LLM </span>\n",
       "<span style=\"color: #008000; text-decoration-color: #008000\">Application](https://python.langchain.com/docs/tutorials/llm_chain/)\\n*   [Build a </span>\n",
       "<span style=\"color: #008000; text-decoration-color: #008000\">Chatbot](https://python.langchain.com/docs/tutorials/chatbot/)\\n*   [Build an </span>\n",
       "<span style=\"color: #008000; text-decoration-color: #008000\">Agent](https://python.langchain.com/docs/tutorials/agents/)\\n*   [Introduction to </span>\n",
       "<span style=\"color: #008000; text-decoration-color: #008000\">LangGraph](https://langchain-ai.github.io/langgraph/tutorials/introduction/)\\n\\nExplore the full list of LangChain </span>\n",
       "<span style=\"color: #008000; text-decoration-color: #008000\">tutorials [here](https://python.langchain.com/docs/tutorials/), and check out other [LangGraph tutorials </span>\n",
       "<span style=\"color: #008000; text-decoration-color: #008000\">here](https://langchain-ai.github.io/langgraph/tutorials/). To learn more about LangGraph, check out our first </span>\n",
       "<span style=\"color: #008000; text-decoration-color: #008000\">LangChain Academy course, _Introduction to LangGraph_, available </span>\n",
       "<span style=\"color: #008000; text-decoration-color: #008000\">[here](https://academy.langchain.com/courses/intro-to-langgraph).\\n\\n### [How-to </span>\n",
       "<span style=\"color: #008000; text-decoration-color: #008000\">guides](https://python.langchain.com/docs/how_to/)[​](https://python.langchain.com/docs/introduction#how-to-guides </span>\n",
       "<span style=\"color: #008000; text-decoration-color: #008000\">\\\"Direct link to how-to-guides\\\")\\n\\n[Here](https://python.langchain.com/docs/how_to/) you’ll find short answers to</span>\n",
       "<span style=\"color: #008000; text-decoration-color: #008000\">“How do I….?” types of questions. These how-to guides don’t cover topics in depth – you’ll find that material in </span>\n",
       "<span style=\"color: #008000; text-decoration-color: #008000\">the [Tutorials](https://python.langchain.com/docs/tutorials/) and the [API </span>\n",
       "<span style=\"color: #008000; text-decoration-color: #008000\">Reference](https://python.langchain.com/api_reference/). However, these guides will help you quickly accomplish </span>\n",
       "<span style=\"color: #008000; text-decoration-color: #008000\">common tasks using [chat models](https://python.langchain.com/docs/how_to/#chat-models), [vector </span>\n",
       "<span style=\"color: #008000; text-decoration-color: #008000\">stores](https://python.langchain.com/docs/how_to/#vector-stores), and other common LangChain components.\\n\\nCheck </span>\n",
       "<span style=\"color: #008000; text-decoration-color: #008000\">out [LangGraph-specific how-tos here](https://langchain-ai.github.io/langgraph/how-tos/).\\n\\n### [Conceptual </span>\n",
       "<span style=\"color: #008000; text-decoration-color: #008000\">guide](https://python.langchain.com/docs/concepts/)[​](https://python.langchain.com/docs/introduction#conceptual-gui</span>\n",
       "<span style=\"color: #008000; text-decoration-color: #008000\">de \\\"Direct link to conceptual-guide\\\")\\n\\nIntroductions to all the key parts of LangChain you’ll need to know! </span>\n",
       "<span style=\"color: #008000; text-decoration-color: #008000\">[Here](https://python.langchain.com/docs/concepts/) you'll find high level explanations of all LangChain </span>\n",
       "<span style=\"color: #008000; text-decoration-color: #008000\">concepts.\\n\\nFor a deeper dive into LangGraph concepts, check out [this </span>\n",
       "<span style=\"color: #008000; text-decoration-color: #008000\">page](https://langchain-ai.github.io/langgraph/concepts/).\\n\\n### </span>\n",
       "<span style=\"color: #008000; text-decoration-color: #008000\">[Integrations](https://python.langchain.com/docs/integrations/providers/)[​](https://python.langchain.com/docs/intro</span>\n",
       "<span style=\"color: #008000; text-decoration-color: #008000\">duction#integrations \\\"Direct link to integrations\\\")\\n\\nLangChain is part of a rich ecosystem of tools that </span>\n",
       "<span style=\"color: #008000; text-decoration-color: #008000\">integrate with our framework and build on top of it. If you're looking to get up and running quickly with [chat </span>\n",
       "<span style=\"color: #008000; text-decoration-color: #008000\">models](https://python.langchain.com/docs/integrations/chat/), [vector </span>\n",
       "<span style=\"color: #008000; text-decoration-color: #008000\">stores](https://python.langchain.com/docs/integrations/vectorstores/), or other LangChain components from a </span>\n",
       "<span style=\"color: #008000; text-decoration-color: #008000\">specific provider, check out our growing list of </span>\n",
       "<span style=\"color: #008000; text-decoration-color: #008000\">[integrations](https://python.langchain.com/docs/integrations/providers/).\\n\\n### [API </span>\n",
       "<span style=\"color: #008000; text-decoration-color: #008000\">reference](https://python.langchain.com/api_reference/)[​](https://python.langchain.com/docs/introduction#api-refere</span>\n",
       "<span style=\"color: #008000; text-decoration-color: #008000\">nce \\\"Direct link to api-reference\\\")\\n\\nHead to the reference section for full documentation of all classes and </span>\n",
       "<span style=\"color: #008000; text-decoration-color: #008000\">methods in the LangChain Python packages.\\n\\nEcosystem[​](https://python.langchain.com/docs/introduction#ecosystem </span>\n",
       "<span style=\"color: #008000; text-decoration-color: #008000\">\\\"Direct link to </span>\n",
       "<span style=\"color: #008000; text-decoration-color: #008000\">Ecosystem\\\")\\n-------------------------------------------------------------------------------------------------\\n\\n</span>\n",
       "<span style=\"color: #008000; text-decoration-color: #008000\">### [🦜🛠️ </span>\n",
       "<span style=\"color: #008000; text-decoration-color: #008000\">LangSmith](https://docs.smith.langchain.com/)[​](https://python.langchain.com/docs/introduction#%EF%B8%8F-langsmith</span>\n",
       "<span style=\"color: #008000; text-decoration-color: #008000\">\\\"Direct link to ️-langsmith\\\")\\n\\nTrace and evaluate your language model applications and intelligent agents to </span>\n",
       "<span style=\"color: #008000; text-decoration-color: #008000\">help you move from prototype to production.\\n\\n### [🦜🕸️ </span>\n",
       "<span style=\"color: #008000; text-decoration-color: #008000\">LangGraph](https://langchain-ai.github.io/langgraph)[​](https://python.langchain.com/docs/introduction#%EF%B8%8F-lan</span>\n",
       "<span style=\"color: #008000; text-decoration-color: #008000\">ggraph \\\"Direct link to ️-langgraph\\\")\\n\\nBuild stateful, multi-actor applications with LLMs. Integrates smoothly </span>\n",
       "<span style=\"color: #008000; text-decoration-color: #008000\">with LangChain, but can be used without it. LangGraph powers production-grade agents, trusted by Linkedin, Uber, </span>\n",
       "<span style=\"color: #008000; text-decoration-color: #008000\">Klarna, GitLab, and many more.\\n\\nAdditional </span>\n",
       "<span style=\"color: #008000; text-decoration-color: #008000\">resources[​](https://python.langchain.com/docs/introduction#additional-resources \\\"Direct link to Additional </span>\n",
       "<span style=\"color: #008000; text-decoration-color: #008000\">resources\\\")\\n-----------------------------------------------------------------------------------------------------</span>\n",
       "<span style=\"color: #008000; text-decoration-color: #008000\">-----------------------------\\n\\n### </span>\n",
       "<span style=\"color: #008000; text-decoration-color: #008000\">[Versions](https://python.langchain.com/docs/versions/v0_3/)[​](https://python.langchain.com/docs/introduction#versi</span>\n",
       "<span style=\"color: #008000; text-decoration-color: #008000\">ons \\\"Direct link to versions\\\")\\n\\nSee what changed in v0.3, learn how to migrate legacy code, read up on our </span>\n",
       "<span style=\"color: #008000; text-decoration-color: #008000\">versioning policies, and more.\\n\\n### </span>\n",
       "<span style=\"color: #008000; text-decoration-color: #008000\">[Security](https://python.langchain.com/docs/security/)[​](https://python.langchain.com/docs/introduction#security </span>\n",
       "<span style=\"color: #008000; text-decoration-color: #008000\">\\\"Direct link to security\\\")\\n\\nRead up on [security](https://python.langchain.com/docs/security/) best practices </span>\n",
       "<span style=\"color: #008000; text-decoration-color: #008000\">to make sure you're developing safely with LangChain.\\n\\n### </span>\n",
       "<span style=\"color: #008000; text-decoration-color: #008000\">[Contributing](https://python.langchain.com/docs/contributing/)[​](https://python.langchain.com/docs/introduction#co</span>\n",
       "<span style=\"color: #008000; text-decoration-color: #008000\">ntributing \\\"Direct link to contributing\\\")\\n\\nCheck out the developer's guide for guidelines on contributing and </span>\n",
       "<span style=\"color: #008000; text-decoration-color: #008000\">help getting your dev environment set up.\\n\\n[Edit this </span>\n",
       "<span style=\"color: #008000; text-decoration-color: #008000\">page](https://github.com/langchain-ai/langchain/edit/master/docs/docs/introduction.mdx)\\n\\n[Next </span>\n",
       "<span style=\"color: #008000; text-decoration-color: #008000\">Tutorials](https://python.langchain.com/docs/tutorials/)\\n\\n*   </span>\n",
       "<span style=\"color: #008000; text-decoration-color: #008000\">[Architecture](https://python.langchain.com/docs/introduction#architecture)\\n*   </span>\n",
       "<span style=\"color: #008000; text-decoration-color: #008000\">[Guides](https://python.langchain.com/docs/introduction#guides)\\n    *   </span>\n",
       "<span style=\"color: #008000; text-decoration-color: #008000\">[Tutorials](https://python.langchain.com/docs/introduction#tutorials)\\n    *   [How-to </span>\n",
       "<span style=\"color: #008000; text-decoration-color: #008000\">guides](https://python.langchain.com/docs/introduction#how-to-guides)\\n    *   [Conceptual </span>\n",
       "<span style=\"color: #008000; text-decoration-color: #008000\">guide](https://python.langchain.com/docs/introduction#conceptual-guide)\\n    *   </span>\n",
       "<span style=\"color: #008000; text-decoration-color: #008000\">[Integrations](https://python.langchain.com/docs/introduction#integrations)\\n    *   [API </span>\n",
       "<span style=\"color: #008000; text-decoration-color: #008000\">reference](https://python.langchain.com/docs/introduction#api-reference)\\n\\n*   </span>\n",
       "<span style=\"color: #008000; text-decoration-color: #008000\">[Ecosystem](https://python.langchain.com/docs/introduction#ecosystem)\\n    *   [🦜🛠️ </span>\n",
       "<span style=\"color: #008000; text-decoration-color: #008000\">LangSmith](https://python.langchain.com/docs/introduction#%EF%B8%8F-langsmith)\\n    *   [🦜🕸️ </span>\n",
       "<span style=\"color: #008000; text-decoration-color: #008000\">LangGraph](https://python.langchain.com/docs/introduction#%EF%B8%8F-langgraph)\\n\\n*   [Additional </span>\n",
       "<span style=\"color: #008000; text-decoration-color: #008000\">resources](https://python.langchain.com/docs/introduction#additional-resources)\\n    *   </span>\n",
       "<span style=\"color: #008000; text-decoration-color: #008000\">[Versions](https://python.langchain.com/docs/introduction#versions)\\n    *   </span>\n",
       "<span style=\"color: #008000; text-decoration-color: #008000\">[Security](https://python.langchain.com/docs/introduction#security)\\n    *   </span>\n",
       "<span style=\"color: #008000; text-decoration-color: #008000\">[Contributing](https://python.langchain.com/docs/introduction#contributing)\\n\\nCommunity\\n\\n*   [LangChain </span>\n",
       "<span style=\"color: #008000; text-decoration-color: #008000\">Forum](https://forum.langchain.com/)\\n*   [Twitter](https://twitter.com/LangChainAI)\\n\\nGitHub\\n\\n*   </span>\n",
       "<span style=\"color: #008000; text-decoration-color: #008000\">[Organization](https://github.com/langchain-ai)\\n*   [Python](https://github.com/langchain-ai/langchain)\\n*   </span>\n",
       "<span style=\"color: #008000; text-decoration-color: #008000\">[JS/TS](https://github.com/langchain-ai/langchainjs)\\n\\nMore\\n\\n*   [Homepage](https://langchain.com/)\\n*   </span>\n",
       "<span style=\"color: #008000; text-decoration-color: #008000\">[Blog](https://blog.langchain.dev/)\\n*   [YouTube](https://www.youtube.com/@LangChain)\\n\\nCopyright © 2025 </span>\n",
       "<span style=\"color: #008000; text-decoration-color: #008000\">LangChain, Inc.\\n\"</span>,\n",
       "  <span style=\"color: #000080; text-decoration-color: #000080; font-weight: bold\">\"images\"</span>: <span style=\"font-weight: bold\">[]</span>\n",
       "<span style=\"font-weight: bold\">}</span>\n",
       "</pre>\n"
      ],
      "text/plain": [
       "\u001b[1m{\u001b[0m\n",
       "  \u001b[1;34m\"url\"\u001b[0m: \u001b[32m\"https://python.langchain.com/docs/introduction\"\u001b[0m,\n",
       "  \u001b[1;34m\"raw_content\"\u001b[0m: \u001b[32m\"Published Time: Thu, 10 Jul 2025 20:07:53 GMT\\n\\nIntroduction | 🦜️🔗 \u001b[0m\n",
       "\u001b[32mLangChain\\n\\n===============\\n\\n[Skip to main \u001b[0m\n",
       "\u001b[32mcontent](https://python.langchain.com/docs/introduction#__docusaurus_skipToContent_fallback)\\n\\n**Our [Building \u001b[0m\n",
       "\u001b[32mAmbient Agents with \u001b[0m\n",
       "\u001b[32mLangGraph](https://academy.langchain.com/courses/ambient-agents/?utm_medium=internal&utm_source=docs&utm_campaign=q\u001b[0m\n",
       "\u001b[32m2-2025_ambient-agents_co) course is now available on LangChain Academy!**\\n\\n[![Image 1: 🦜️🔗 \u001b[0m\n",
       "\u001b[32mLangChain](https://python.langchain.com/img/brand/wordmark.png)](https://python.langchain.com/)[Integrations](https\u001b[0m\n",
       "\u001b[32m://python.langchain.com/docs/integrations/providers/)[API \u001b[0m\n",
       "\u001b[32mReference](https://python.langchain.com/api_reference/)\\n\\n[More](https://python.langchain.com/docs/introduction#)\\\u001b[0m\n",
       "\u001b[32mn*   [Contributing](https://python.langchain.com/docs/contributing/)\\n*   \u001b[0m\n",
       "\u001b[32m[People](https://python.langchain.com/docs/people/)\\n*   [Error \u001b[0m\n",
       "\u001b[32mreference](https://python.langchain.com/docs/troubleshooting/errors/)\\n*   \\n* * *\\n\\n*   \u001b[0m\n",
       "\u001b[32m[LangSmith](https://docs.smith.langchain.com/)\\n*   [LangGraph](https://langchain-ai.github.io/langgraph/)\\n*   \u001b[0m\n",
       "\u001b[32m[LangChain Hub](https://smith.langchain.com/hub)\\n*   [LangChain \u001b[0m\n",
       "\u001b[32mJS/TS](https://js.langchain.com/)\\n\\n[v0.3](https://python.langchain.com/docs/introduction#)\\n*   \u001b[0m\n",
       "\u001b[32m[v0.3](https://python.langchain.com/docs/introduction/)\\n*   \u001b[0m\n",
       "\u001b[32m[v0.2](https://python.langchain.com/v0.2/docs/introduction)\\n*   \u001b[0m\n",
       "\u001b[32m[v0.1](https://python.langchain.com/v0.1/docs/get_started/introduction)\\n\\n[💬](https://chat.langchain.com/)[](http\u001b[0m\n",
       "\u001b[32ms://github.com/langchain-ai/langchain)\\n\\nSearch K\\n\\n*   \u001b[0m\n",
       "\u001b[32m[Introduction](https://python.langchain.com/docs/introduction/)\\n*   \u001b[0m\n",
       "\u001b[32m[Tutorials](https://python.langchain.com/docs/tutorials/) \\n    *   [Build a Question Answering application over a \u001b[0m\n",
       "\u001b[32mGraph Database](https://python.langchain.com/docs/tutorials/graph/)\\n    *   \u001b[0m\n",
       "\u001b[32m[Tutorials](https://python.langchain.com/docs/tutorials/)\\n    *   [Build a simple LLM application with chat models\u001b[0m\n",
       "\u001b[32mand prompt templates](https://python.langchain.com/docs/tutorials/llm_chain/)\\n    *   [Build a \u001b[0m\n",
       "\u001b[32mChatbot](https://python.langchain.com/docs/tutorials/chatbot/)\\n    *   [Build a Retrieval Augmented Generation \u001b[0m\n",
       "\u001b[32m(RAG) App: Part 2](https://python.langchain.com/docs/tutorials/qa_chat_history/)\\n    *   [Build an Extraction \u001b[0m\n",
       "\u001b[32mChain](https://python.langchain.com/docs/tutorials/extraction/)\\n    *   [Build an \u001b[0m\n",
       "\u001b[32mAgent](https://python.langchain.com/docs/tutorials/agents/)\\n    *   \u001b[0m\n",
       "\u001b[32m[Tagging](https://python.langchain.com/docs/tutorials/classification/)\\n    *   [Build a Retrieval Augmented \u001b[0m\n",
       "\u001b[32mGeneration (RAG) App: Part 1](https://python.langchain.com/docs/tutorials/rag/)\\n    *   [Build a semantic search \u001b[0m\n",
       "\u001b[32mengine](https://python.langchain.com/docs/tutorials/retrievers/)\\n    *   [Build a Question/Answering system over \u001b[0m\n",
       "\u001b[32mSQL data](https://python.langchain.com/docs/tutorials/sql_qa/)\\n    *   [Summarize \u001b[0m\n",
       "\u001b[32mText](https://python.langchain.com/docs/tutorials/summarization/)\\n\\n*   [How-to \u001b[0m\n",
       "\u001b[32mguides](https://python.langchain.com/docs/how_to/) \\n    *   [How-to \u001b[0m\n",
       "\u001b[32mguides](https://python.langchain.com/docs/how_to/)\\n    *   [How to use tools in a \u001b[0m\n",
       "\u001b[32mchain](https://python.langchain.com/docs/how_to/tools_chain/)\\n    *   [How to use a vectorstore as a \u001b[0m\n",
       "\u001b[32mretriever](https://python.langchain.com/docs/how_to/vectorstore_retriever/)\\n    *   [How to add memory to \u001b[0m\n",
       "\u001b[32mchatbots](https://python.langchain.com/docs/how_to/chatbots_memory/)\\n    *   [How to use example \u001b[0m\n",
       "\u001b[32mselectors](https://python.langchain.com/docs/how_to/example_selectors/)\\n    *   [How to add a semantic layer over \u001b[0m\n",
       "\u001b[32mgraph database](https://python.langchain.com/docs/how_to/graph_semantic/)\\n    *   [How to invoke runnables in \u001b[0m\n",
       "\u001b[32mparallel](https://python.langchain.com/docs/how_to/parallel/)\\n    *   [How to stream chat model \u001b[0m\n",
       "\u001b[32mresponses](https://python.langchain.com/docs/how_to/chat_streaming/)\\n    *   [How to add default invocation args \u001b[0m\n",
       "\u001b[32mto a Runnable](https://python.langchain.com/docs/how_to/binding/)\\n    *   [How to add retrieval to \u001b[0m\n",
       "\u001b[32mchatbots](https://python.langchain.com/docs/how_to/chatbots_retrieval/)\\n    *   [How to use few shot examples in \u001b[0m\n",
       "\u001b[32mchat models](https://python.langchain.com/docs/how_to/few_shot_examples_chat/)\\n    *   [How to do tool/function \u001b[0m\n",
       "\u001b[32mcalling](https://python.langchain.com/docs/how_to/function_calling/)\\n    *   [How to install LangChain \u001b[0m\n",
       "\u001b[32mpackages](https://python.langchain.com/docs/how_to/installation/)\\n    *   [How to add examples to the prompt for \u001b[0m\n",
       "\u001b[32mquery analysis](https://python.langchain.com/docs/how_to/query_few_shot/)\\n    *   [How to use few shot \u001b[0m\n",
       "\u001b[32mexamples](https://python.langchain.com/docs/how_to/few_shot_examples/)\\n    *   [How to run custom \u001b[0m\n",
       "\u001b[32mfunctions](https://python.langchain.com/docs/how_to/functions/)\\n    *   [How to use output parsers to parse an LLM\u001b[0m\n",
       "\u001b[32mresponse into structured format](https://python.langchain.com/docs/how_to/output_parser_structured/)\\n    *   [How \u001b[0m\n",
       "\u001b[32mto handle cases where no queries are generated](https://python.langchain.com/docs/how_to/query_no_queries/)\\n    * \u001b[0m\n",
       "\u001b[32m[How to route between sub-chains](https://python.langchain.com/docs/how_to/routing/)\\n    *   [How to return \u001b[0m\n",
       "\u001b[32mstructured data from a model](https://python.langchain.com/docs/how_to/structured_output/)\\n    *   [How to \u001b[0m\n",
       "\u001b[32msummarize text through parallelization](https://python.langchain.com/docs/how_to/summarize_map_reduce/)\\n    *   \u001b[0m\n",
       "\u001b[32m[How to summarize text through iterative refinement](https://python.langchain.com/docs/how_to/summarize_refine/)\\n \u001b[0m\n",
       "\u001b[32m*   [How to summarize text in a single LLM call](https://python.langchain.com/docs/how_to/summarize_stuff/)\\n    * \u001b[0m\n",
       "\u001b[32m[How to use toolkits](https://python.langchain.com/docs/how_to/toolkits/)\\n    *   [How to add ad-hoc tool calling \u001b[0m\n",
       "\u001b[32mcapability to LLMs and Chat Models](https://python.langchain.com/docs/how_to/tools_prompting/)\\n    *   [Build an \u001b[0m\n",
       "\u001b[32mAgent with AgentExecutor (Legacy)](https://python.langchain.com/docs/how_to/agent_executor/)\\n    *   [How to \u001b[0m\n",
       "\u001b[32mconstruct knowledge graphs](https://python.langchain.com/docs/how_to/graph_constructing/)\\n    *   [How to \u001b[0m\n",
       "\u001b[32mpartially format prompt templates](https://python.langchain.com/docs/how_to/prompts_partial/)\\n    *   [How to \u001b[0m\n",
       "\u001b[32mhandle multiple queries when doing query \u001b[0m\n",
       "\u001b[32manalysis](https://python.langchain.com/docs/how_to/query_multiple_queries/)\\n    *   [How to use built-in tools and\u001b[0m\n",
       "\u001b[32mtoolkits](https://python.langchain.com/docs/how_to/tools_builtin/)\\n    *   [How to pass through arguments from one\u001b[0m\n",
       "\u001b[32mstep to the next](https://python.langchain.com/docs/how_to/passthrough/)\\n    *   [How to compose prompts \u001b[0m\n",
       "\u001b[32mtogether](https://python.langchain.com/docs/how_to/prompts_composition/)\\n    *   [How to handle multiple \u001b[0m\n",
       "\u001b[32mretrievers when doing query analysis](https://python.langchain.com/docs/how_to/query_multiple_retrievers/)\\n    *  \u001b[0m\n",
       "\u001b[32m[How to add values to a chain's state](https://python.langchain.com/docs/how_to/assign/)\\n    *   [How to construct\u001b[0m\n",
       "\u001b[32mfilters for query analysis](https://python.langchain.com/docs/how_to/query_constructing_filters/)\\n    *   [How to \u001b[0m\n",
       "\u001b[32mconfigure runtime chain internals](https://python.langchain.com/docs/how_to/configure/)\\n    *   [How deal with \u001b[0m\n",
       "\u001b[32mhigh cardinality categoricals when doing query \u001b[0m\n",
       "\u001b[32manalysis](https://python.langchain.com/docs/how_to/query_high_cardinality/)\\n    *   [Custom Document \u001b[0m\n",
       "\u001b[32mLoader](https://python.langchain.com/docs/how_to/document_loader_custom/)\\n    *   [How to use the \u001b[0m\n",
       "\u001b[32mMultiQueryRetriever](https://python.langchain.com/docs/how_to/MultiQueryRetriever/)\\n    *   [How to add scores to \u001b[0m\n",
       "\u001b[32mretriever results](https://python.langchain.com/docs/how_to/add_scores_retriever/)\\n    *   \u001b[0m\n",
       "\u001b[32m[Caching](https://python.langchain.com/docs/how_to/caching_embeddings/)\\n    *   [How to use callbacks in async \u001b[0m\n",
       "\u001b[32menvironments](https://python.langchain.com/docs/how_to/callbacks_async/)\\n    *   [How to attach callbacks to a \u001b[0m\n",
       "\u001b[32mrunnable](https://python.langchain.com/docs/how_to/callbacks_attach/)\\n    *   [How to propagate callbacks \u001b[0m\n",
       "\u001b[32mconstructor](https://python.langchain.com/docs/how_to/callbacks_constructor/)\\n    *   [How to dispatch custom \u001b[0m\n",
       "\u001b[32mcallback events](https://python.langchain.com/docs/how_to/callbacks_custom_events/)\\n    *   [How to pass callbacks\u001b[0m\n",
       "\u001b[32min at runtime](https://python.langchain.com/docs/how_to/callbacks_runtime/)\\n    *   [How to split by \u001b[0m\n",
       "\u001b[32mcharacter](https://python.langchain.com/docs/how_to/character_text_splitter/)\\n    *   [How to cache chat model \u001b[0m\n",
       "\u001b[32mresponses](https://python.langchain.com/docs/how_to/chat_model_caching/)\\n    *   [How to handle rate \u001b[0m\n",
       "\u001b[32mlimits](https://python.langchain.com/docs/how_to/chat_model_rate_limiting/)\\n    *   [How to init any model in one \u001b[0m\n",
       "\u001b[32mline](https://python.langchain.com/docs/how_to/chat_models_universal_init/)\\n    *   [How to track token usage in \u001b[0m\n",
       "\u001b[32mChatModels](https://python.langchain.com/docs/how_to/chat_token_usage_tracking/)\\n    *   [How to add tools to \u001b[0m\n",
       "\u001b[32mchatbots](https://python.langchain.com/docs/how_to/chatbots_tools/)\\n    *   [How to split \u001b[0m\n",
       "\u001b[32mcode](https://python.langchain.com/docs/how_to/code_splitter/)\\n    *   [How to do retrieval with contextual \u001b[0m\n",
       "\u001b[32mcompression](https://python.langchain.com/docs/how_to/contextual_compression/)\\n    *   [How to convert Runnables \u001b[0m\n",
       "\u001b[32mto Tools](https://python.langchain.com/docs/how_to/convert_runnable_to_tool/)\\n    *   [How to create custom \u001b[0m\n",
       "\u001b[32mcallback handlers](https://python.langchain.com/docs/how_to/custom_callbacks/)\\n    *   [How to create a custom \u001b[0m\n",
       "\u001b[32mchat model class](https://python.langchain.com/docs/how_to/custom_chat_model/)\\n    *   [Custom \u001b[0m\n",
       "\u001b[32mEmbeddings](https://python.langchain.com/docs/how_to/custom_embeddings/)\\n    *   [How to create a custom LLM \u001b[0m\n",
       "\u001b[32mclass](https://python.langchain.com/docs/how_to/custom_llm/)\\n    *   [Custom \u001b[0m\n",
       "\u001b[32mRetriever](https://python.langchain.com/docs/how_to/custom_retriever/)\\n    *   [How to create \u001b[0m\n",
       "\u001b[32mtools](https://python.langchain.com/docs/how_to/custom_tools/)\\n    *   [How to debug your LLM \u001b[0m\n",
       "\u001b[32mapps](https://python.langchain.com/docs/how_to/debugging/)\\n    *   [How to load \u001b[0m\n",
       "\u001b[32mCSVs](https://python.langchain.com/docs/how_to/document_loader_csv/)\\n    *   [How to load documents from a \u001b[0m\n",
       "\u001b[32mdirectory](https://python.langchain.com/docs/how_to/document_loader_directory/)\\n    *   [How to load \u001b[0m\n",
       "\u001b[32mHTML](https://python.langchain.com/docs/how_to/document_loader_html/)\\n    *   [How to load \u001b[0m\n",
       "\u001b[32mJSON](https://python.langchain.com/docs/how_to/document_loader_json/)\\n    *   [How to load \u001b[0m\n",
       "\u001b[32mMarkdown](https://python.langchain.com/docs/how_to/document_loader_markdown/)\\n    *   [How to load Microsoft \u001b[0m\n",
       "\u001b[32mOffice files](https://python.langchain.com/docs/how_to/document_loader_office_file/)\\n    *   [How to load \u001b[0m\n",
       "\u001b[32mPDFs](https://python.langchain.com/docs/how_to/document_loader_pdf/)\\n    *   [How to load web \u001b[0m\n",
       "\u001b[32mpages](https://python.langchain.com/docs/how_to/document_loader_web/)\\n    *   [How to create a dynamic \u001b[0m\n",
       "\u001b[32m(self-constructing) chain](https://python.langchain.com/docs/how_to/dynamic_chain/)\\n    *   [Text embedding \u001b[0m\n",
       "\u001b[32mmodels](https://python.langchain.com/docs/how_to/embed_text/)\\n    *   [How to combine results from multiple \u001b[0m\n",
       "\u001b[32mretrievers](https://python.langchain.com/docs/how_to/ensemble_retriever/)\\n    *   [How to select examples from a \u001b[0m\n",
       "\u001b[32mLangSmith dataset](https://python.langchain.com/docs/how_to/example_selectors_langsmith/)\\n    *   [How to select \u001b[0m\n",
       "\u001b[32mexamples by length](https://python.langchain.com/docs/how_to/example_selectors_length_based/)\\n    *   [How to \u001b[0m\n",
       "\u001b[32mselect examples by maximal marginal relevance \u001b[0m\n",
       "\u001b[32m(MMR)](https://python.langchain.com/docs/how_to/example_selectors_mmr/)\\n    *   [How to select examples by n-gram \u001b[0m\n",
       "\u001b[32moverlap](https://python.langchain.com/docs/how_to/example_selectors_ngram/)\\n    *   [How to select examples by \u001b[0m\n",
       "\u001b[32msimilarity](https://python.langchain.com/docs/how_to/example_selectors_similarity/)\\n    *   [How to use reference \u001b[0m\n",
       "\u001b[32mexamples when doing extraction](https://python.langchain.com/docs/how_to/extraction_examples/)\\n    *   [How to \u001b[0m\n",
       "\u001b[32mhandle long text when doing extraction](https://python.langchain.com/docs/how_to/extraction_long_text/)\\n    *   \u001b[0m\n",
       "\u001b[32m[How to use prompting alone (no tool calling) to do \u001b[0m\n",
       "\u001b[32mextraction](https://python.langchain.com/docs/how_to/extraction_parse/)\\n    *   [How to add fallbacks to a \u001b[0m\n",
       "\u001b[32mrunnable](https://python.langchain.com/docs/how_to/fallbacks/)\\n    *   [How to filter \u001b[0m\n",
       "\u001b[32mmessages](https://python.langchain.com/docs/how_to/filter_messages/)\\n    *   [Hybrid \u001b[0m\n",
       "\u001b[32mSearch](https://python.langchain.com/docs/how_to/hybrid/)\\n    *   [How to use the LangChain indexing \u001b[0m\n",
       "\u001b[32mAPI](https://python.langchain.com/docs/how_to/indexing/)\\n    *   [How to inspect \u001b[0m\n",
       "\u001b[32mrunnables](https://python.langchain.com/docs/how_to/inspect/)\\n    *   [LangChain Expression Language \u001b[0m\n",
       "\u001b[32mCheatsheet](https://python.langchain.com/docs/how_to/lcel_cheatsheet/)\\n    *   [How to cache LLM \u001b[0m\n",
       "\u001b[32mresponses](https://python.langchain.com/docs/how_to/llm_caching/)\\n    *   [How to track token usage for \u001b[0m\n",
       "\u001b[32mLLMs](https://python.langchain.com/docs/how_to/llm_token_usage_tracking/)\\n    *   [Run models \u001b[0m\n",
       "\u001b[32mlocally](https://python.langchain.com/docs/how_to/local_llms/)\\n    *   [How to get log \u001b[0m\n",
       "\u001b[32mprobabilities](https://python.langchain.com/docs/how_to/logprobs/)\\n    *   [How to reorder retrieved results to \u001b[0m\n",
       "\u001b[32mmitigate the \\\"lost in the middle\\\" effect](https://python.langchain.com/docs/how_to/long_context_reorder/)\\n    * \u001b[0m\n",
       "\u001b[32m[How to split Markdown by Headers](https://python.langchain.com/docs/how_to/markdown_header_metadata_splitter/)\\n  \u001b[0m\n",
       "\u001b[32m*   [How to merge consecutive messages of the same \u001b[0m\n",
       "\u001b[32mtype](https://python.langchain.com/docs/how_to/merge_message_runs/)\\n    *   [How to add message \u001b[0m\n",
       "\u001b[32mhistory](https://python.langchain.com/docs/how_to/message_history/)\\n    *   [How to migrate from legacy LangChain \u001b[0m\n",
       "\u001b[32magents to LangGraph](https://python.langchain.com/docs/how_to/migrate_agent/)\\n    *   [How to retrieve using \u001b[0m\n",
       "\u001b[32mmultiple vectors per document](https://python.langchain.com/docs/how_to/multi_vector/)\\n    *   [How to pass \u001b[0m\n",
       "\u001b[32mmultimodal data to models](https://python.langchain.com/docs/how_to/multimodal_inputs/)\\n    *   [How to use \u001b[0m\n",
       "\u001b[32mmultimodal prompts](https://python.langchain.com/docs/how_to/multimodal_prompts/)\\n    *   [How to create a custom \u001b[0m\n",
       "\u001b[32mOutput Parser](https://python.langchain.com/docs/how_to/output_parser_custom/)\\n    *   [How to use the \u001b[0m\n",
       "\u001b[32moutput-fixing parser](https://python.langchain.com/docs/how_to/output_parser_fixing/)\\n    *   [How to parse JSON \u001b[0m\n",
       "\u001b[32moutput](https://python.langchain.com/docs/how_to/output_parser_json/)\\n    *   [How to retry when a parsing error \u001b[0m\n",
       "\u001b[32moccurs](https://python.langchain.com/docs/how_to/output_parser_retry/)\\n    *   [How to parse text from message \u001b[0m\n",
       "\u001b[32mobjects](https://python.langchain.com/docs/how_to/output_parser_string/)\\n    *   [How to parse XML \u001b[0m\n",
       "\u001b[32moutput](https://python.langchain.com/docs/how_to/output_parser_xml/)\\n    *   [How to parse YAML \u001b[0m\n",
       "\u001b[32moutput](https://python.langchain.com/docs/how_to/output_parser_yaml/)\\n    *   [How to use the Parent Document \u001b[0m\n",
       "\u001b[32mRetriever](https://python.langchain.com/docs/how_to/parent_document_retriever/)\\n    *   [How to use LangChain with\u001b[0m\n",
       "\u001b[32mdifferent Pydantic versions](https://python.langchain.com/docs/how_to/pydantic_compatibility/)\\n    *   [How to add\u001b[0m\n",
       "\u001b[32mchat history](https://python.langchain.com/docs/how_to/qa_chat_history_how_to/)\\n    *   [How to get a RAG \u001b[0m\n",
       "\u001b[32mapplication to add citations](https://python.langchain.com/docs/how_to/qa_citations/)\\n    *   [How to do per-user \u001b[0m\n",
       "\u001b[32mretrieval](https://python.langchain.com/docs/how_to/qa_per_user/)\\n    *   [How to get your RAG application to \u001b[0m\n",
       "\u001b[32mreturn sources](https://python.langchain.com/docs/how_to/qa_sources/)\\n    *   [How to stream results from your RAG\u001b[0m\n",
       "\u001b[32mapplication](https://python.langchain.com/docs/how_to/qa_streaming/)\\n    *   [How to split JSON \u001b[0m\n",
       "\u001b[32mdata](https://python.langchain.com/docs/how_to/recursive_json_splitter/)\\n    *   [How to recursively split text by\u001b[0m\n",
       "\u001b[32mcharacters](https://python.langchain.com/docs/how_to/recursive_text_splitter/)\\n    *   [Response \u001b[0m\n",
       "\u001b[32mmetadata](https://python.langchain.com/docs/how_to/response_metadata/)\\n    *   [How to pass runtime secrets to \u001b[0m\n",
       "\u001b[32mrunnables](https://python.langchain.com/docs/how_to/runnable_runtime_secrets/)\\n    *   [How to do \u001b[0m\n",
       "\u001b[32m\\\"self-querying\\\" retrieval](https://python.langchain.com/docs/how_to/self_query/)\\n    *   [How to split text \u001b[0m\n",
       "\u001b[32mbased on semantic similarity](https://python.langchain.com/docs/how_to/semantic-chunker/)\\n    *   [How to chain \u001b[0m\n",
       "\u001b[32mrunnables](https://python.langchain.com/docs/how_to/sequence/)\\n    *   [How to save and load LangChain \u001b[0m\n",
       "\u001b[32mobjects](https://python.langchain.com/docs/how_to/serialization/)\\n    *   [How to split text by \u001b[0m\n",
       "\u001b[32mtokens](https://python.langchain.com/docs/how_to/split_by_token/)\\n    *   [How to split \u001b[0m\n",
       "\u001b[32mHTML](https://python.langchain.com/docs/how_to/split_html/)\\n    *   [How to do question answering over \u001b[0m\n",
       "\u001b[32mCSVs](https://python.langchain.com/docs/how_to/sql_csv/)\\n    *   [How to deal with large databases when doing SQL \u001b[0m\n",
       "\u001b[32mquestion-answering](https://python.langchain.com/docs/how_to/sql_large_db/)\\n    *   [How to better prompt when \u001b[0m\n",
       "\u001b[32mdoing SQL question-answering](https://python.langchain.com/docs/how_to/sql_prompting/)\\n    *   [How to do query \u001b[0m\n",
       "\u001b[32mvalidation as part of SQL question-answering](https://python.langchain.com/docs/how_to/sql_query_checking/)\\n    * \u001b[0m\n",
       "\u001b[32m[How to stream runnables](https://python.langchain.com/docs/how_to/streaming/)\\n    *   [How to stream responses \u001b[0m\n",
       "\u001b[32mfrom an LLM](https://python.langchain.com/docs/how_to/streaming_llm/)\\n    *   [How to use a time-weighted vector \u001b[0m\n",
       "\u001b[32mstore retriever](https://python.langchain.com/docs/how_to/time_weighted_vectorstore/)\\n    *   [How to return \u001b[0m\n",
       "\u001b[32martifacts from a tool](https://python.langchain.com/docs/how_to/tool_artifacts/)\\n    *   [How to use chat models \u001b[0m\n",
       "\u001b[32mto call tools](https://python.langchain.com/docs/how_to/tool_calling/)\\n    *   [How to disable parallel tool \u001b[0m\n",
       "\u001b[32mcalling](https://python.langchain.com/docs/how_to/tool_calling_parallel/)\\n    *   [How to force models to call a \u001b[0m\n",
       "\u001b[32mtool](https://python.langchain.com/docs/how_to/tool_choice/)\\n    *   [How to access the RunnableConfig from a \u001b[0m\n",
       "\u001b[32mtool](https://python.langchain.com/docs/how_to/tool_configure/)\\n    *   [How to pass tool outputs to chat \u001b[0m\n",
       "\u001b[32mmodels](https://python.langchain.com/docs/how_to/tool_results_pass_to_model/)\\n    *   [How to pass run time values\u001b[0m\n",
       "\u001b[32mto tools](https://python.langchain.com/docs/how_to/tool_runtime/)\\n    *   [How to stream events from a \u001b[0m\n",
       "\u001b[32mtool](https://python.langchain.com/docs/how_to/tool_stream_events/)\\n    *   [How to stream tool \u001b[0m\n",
       "\u001b[32mcalls](https://python.langchain.com/docs/how_to/tool_streaming/)\\n    *   [How to convert tools to OpenAI \u001b[0m\n",
       "\u001b[32mFunctions](https://python.langchain.com/docs/how_to/tools_as_openai_functions/)\\n    *   [How to handle tool \u001b[0m\n",
       "\u001b[32merrors](https://python.langchain.com/docs/how_to/tools_error/)\\n    *   [How to use few-shot prompting with tool \u001b[0m\n",
       "\u001b[32mcalling](https://python.langchain.com/docs/how_to/tools_few_shot/)\\n    *   [How to add a human-in-the-loop for \u001b[0m\n",
       "\u001b[32mtools](https://python.langchain.com/docs/how_to/tools_human/)\\n    *   [How to bind model-specific \u001b[0m\n",
       "\u001b[32mtools](https://python.langchain.com/docs/how_to/tools_model_specific/)\\n    *   [How to trim \u001b[0m\n",
       "\u001b[32mmessages](https://python.langchain.com/docs/how_to/trim_messages/)\\n    *   [How to create and query vector \u001b[0m\n",
       "\u001b[32mstores](https://python.langchain.com/docs/how_to/vectorstores/)\\n\\n*   [Conceptual \u001b[0m\n",
       "\u001b[32mguide](https://python.langchain.com/docs/concepts/) \\n    *   \u001b[0m\n",
       "\u001b[32m[Agents](https://python.langchain.com/docs/concepts/agents/)\\n    *   \u001b[0m\n",
       "\u001b[32m[Architecture](https://python.langchain.com/docs/concepts/architecture/)\\n    *   [Async programming with \u001b[0m\n",
       "\u001b[32mlangchain](https://python.langchain.com/docs/concepts/async/)\\n    *   \u001b[0m\n",
       "\u001b[32m[Callbacks](https://python.langchain.com/docs/concepts/callbacks/)\\n    *   [Chat \u001b[0m\n",
       "\u001b[32mhistory](https://python.langchain.com/docs/concepts/chat_history/)\\n    *   [Chat \u001b[0m\n",
       "\u001b[32mmodels](https://python.langchain.com/docs/concepts/chat_models/)\\n    *   [Document \u001b[0m\n",
       "\u001b[32mloaders](https://python.langchain.com/docs/concepts/document_loaders/)\\n    *   [Embedding \u001b[0m\n",
       "\u001b[32mmodels](https://python.langchain.com/docs/concepts/embedding_models/)\\n    *   \u001b[0m\n",
       "\u001b[32m[Evaluation](https://python.langchain.com/docs/concepts/evaluation/)\\n    *   [Example \u001b[0m\n",
       "\u001b[32mselectors](https://python.langchain.com/docs/concepts/example_selectors/)\\n    *   [Few-shot \u001b[0m\n",
       "\u001b[32mprompting](https://python.langchain.com/docs/concepts/few_shot_prompting/)\\n    *   [Conceptual \u001b[0m\n",
       "\u001b[32mguide](https://python.langchain.com/docs/concepts/)\\n    *   [Key-value \u001b[0m\n",
       "\u001b[32mstores](https://python.langchain.com/docs/concepts/key_value_stores/)\\n    *   [LangChain Expression Language \u001b[0m\n",
       "\u001b[32m(LCEL)](https://python.langchain.com/docs/concepts/lcel/)\\n    *   \u001b[0m\n",
       "\u001b[32m[Messages](https://python.langchain.com/docs/concepts/messages/)\\n    *   \u001b[0m\n",
       "\u001b[32m[Multimodality](https://python.langchain.com/docs/concepts/multimodality/)\\n    *   [Output \u001b[0m\n",
       "\u001b[32mparsers](https://python.langchain.com/docs/concepts/output_parsers/)\\n    *   [Prompt \u001b[0m\n",
       "\u001b[32mTemplates](https://python.langchain.com/docs/concepts/prompt_templates/)\\n    *   [Retrieval augmented generation \u001b[0m\n",
       "\u001b[32m(RAG)](https://python.langchain.com/docs/concepts/rag/)\\n    *   \u001b[0m\n",
       "\u001b[32m[Retrieval](https://python.langchain.com/docs/concepts/retrieval/)\\n    *   \u001b[0m\n",
       "\u001b[32m[Retrievers](https://python.langchain.com/docs/concepts/retrievers/)\\n    *   [Runnable \u001b[0m\n",
       "\u001b[32minterface](https://python.langchain.com/docs/concepts/runnables/)\\n    *   \u001b[0m\n",
       "\u001b[32m[Streaming](https://python.langchain.com/docs/concepts/streaming/)\\n    *   [Structured \u001b[0m\n",
       "\u001b[32moutputs](https://python.langchain.com/docs/concepts/structured_outputs/)\\n    *   \u001b[0m\n",
       "\u001b[32m[Testing](https://python.langchain.com/docs/concepts/testing/)\\n    *   [String-in, string-out \u001b[0m\n",
       "\u001b[32mllms](https://python.langchain.com/docs/concepts/text_llms/)\\n    *   [Text \u001b[0m\n",
       "\u001b[32msplitters](https://python.langchain.com/docs/concepts/text_splitters/)\\n    *   \u001b[0m\n",
       "\u001b[32m[Tokens](https://python.langchain.com/docs/concepts/tokens/)\\n    *   [Tool \u001b[0m\n",
       "\u001b[32mcalling](https://python.langchain.com/docs/concepts/tool_calling/)\\n    *   \u001b[0m\n",
       "\u001b[32m[Tools](https://python.langchain.com/docs/concepts/tools/)\\n    *   \u001b[0m\n",
       "\u001b[32m[Tracing](https://python.langchain.com/docs/concepts/tracing/)\\n    *   [Vector \u001b[0m\n",
       "\u001b[32mstores](https://python.langchain.com/docs/concepts/vectorstores/)\\n    *   [Why \u001b[0m\n",
       "\u001b[32mLangChain?](https://python.langchain.com/docs/concepts/why_langchain/)\\n\\n*   Ecosystem \\n    *   [🦜🛠️ \u001b[0m\n",
       "\u001b[32mLangSmith](https://docs.smith.langchain.com/)\\n    *   [🦜🕸️ \u001b[0m\n",
       "\u001b[32mLangGraph](https://langchain-ai.github.io/langgraph/)\\n\\n*   Versions \\n    *   \u001b[0m\n",
       "\u001b[32m[v0.3](https://python.langchain.com/docs/versions/v0_3/)\\n    *   \u001b[0m\n",
       "\u001b[32m[v0.2](https://python.langchain.com/docs/introduction#) \\n    *   [Pydantic \u001b[0m\n",
       "\u001b[32mcompatibility](https://python.langchain.com/docs/how_to/pydantic_compatibility/)\\n    *   [Migrating from v0.0 \u001b[0m\n",
       "\u001b[32mchains](https://python.langchain.com/docs/versions/migrating_chains/) \\n        *   [How to migrate from v0.0 \u001b[0m\n",
       "\u001b[32mchains](https://python.langchain.com/docs/versions/migrating_chains/)\\n        *   [Migrating from \u001b[0m\n",
       "\u001b[32mConstitutionalChain](https://python.langchain.com/docs/versions/migrating_chains/constitutional_chain/)\\n        * \u001b[0m\n",
       "\u001b[32m[Migrating from \u001b[0m\n",
       "\u001b[32mConversationalChain](https://python.langchain.com/docs/versions/migrating_chains/conversation_chain/)\\n        *   \u001b[0m\n",
       "\u001b[32m[Migrating from \u001b[0m\n",
       "\u001b[32mConversationalRetrievalChain](https://python.langchain.com/docs/versions/migrating_chains/conversation_retrieval_ch\u001b[0m\n",
       "\u001b[32main/)\\n        *   [Migrating from \u001b[0m\n",
       "\u001b[32mLLMChain](https://python.langchain.com/docs/versions/migrating_chains/llm_chain/)\\n        *   [Migrating from \u001b[0m\n",
       "\u001b[32mLLMMathChain](https://python.langchain.com/docs/versions/migrating_chains/llm_math_chain/)\\n        *   [Migrating \u001b[0m\n",
       "\u001b[32mfrom LLMRouterChain](https://python.langchain.com/docs/versions/migrating_chains/llm_router_chain/)\\n        *   \u001b[0m\n",
       "\u001b[32m[Migrating from \u001b[0m\n",
       "\u001b[32mMapReduceDocumentsChain](https://python.langchain.com/docs/versions/migrating_chains/map_reduce_chain/)\\n        * \u001b[0m\n",
       "\u001b[32m[Migrating from \u001b[0m\n",
       "\u001b[32mMapRerankDocumentsChain](https://python.langchain.com/docs/versions/migrating_chains/map_rerank_docs_chain/)\\n     \u001b[0m\n",
       "\u001b[32m*   [Migrating from \u001b[0m\n",
       "\u001b[32mMultiPromptChain](https://python.langchain.com/docs/versions/migrating_chains/multi_prompt_chain/)\\n        *   \u001b[0m\n",
       "\u001b[32m[Migrating from \u001b[0m\n",
       "\u001b[32mRefineDocumentsChain](https://python.langchain.com/docs/versions/migrating_chains/refine_docs_chain/)\\n        *   \u001b[0m\n",
       "\u001b[32m[Migrating from RetrievalQA](https://python.langchain.com/docs/versions/migrating_chains/retrieval_qa/)\\n        * \u001b[0m\n",
       "\u001b[32m[Migrating from \u001b[0m\n",
       "\u001b[32mStuffDocumentsChain](https://python.langchain.com/docs/versions/migrating_chains/stuff_docs_chain/)\\n\\n    *   \u001b[0m\n",
       "\u001b[32m[Upgrading to LangGraph memory](https://python.langchain.com/docs/versions/migrating_memory/) \\n        *   [How to\u001b[0m\n",
       "\u001b[32mmigrate to LangGraph memory](https://python.langchain.com/docs/versions/migrating_memory/)\\n        *   [How to use\u001b[0m\n",
       "\u001b[32mBaseChatMessageHistory with LangGraph](https://python.langchain.com/docs/versions/migrating_memory/chat_history/)\\n\u001b[0m\n",
       "\u001b[32m*   [Migrating off ConversationBufferMemory or \u001b[0m\n",
       "\u001b[32mConversationStringBufferMemory](https://python.langchain.com/docs/versions/migrating_memory/conversation_buffer_mem\u001b[0m\n",
       "\u001b[32mory/)\\n        *   [Migrating off ConversationBufferWindowMemory or \u001b[0m\n",
       "\u001b[32mConversationTokenBufferMemory](https://python.langchain.com/docs/versions/migrating_memory/conversation_buffer_wind\u001b[0m\n",
       "\u001b[32mow_memory/)\\n        *   [Migrating off ConversationSummaryMemory or \u001b[0m\n",
       "\u001b[32mConversationSummaryBufferMemory](https://python.langchain.com/docs/versions/migrating_memory/conversation_summary_m\u001b[0m\n",
       "\u001b[32memory/)\\n        *   [A Long-Term Memory \u001b[0m\n",
       "\u001b[32mAgent](https://python.langchain.com/docs/versions/migrating_memory/long_term_memory_agent/)\\n\\n    *   [Release \u001b[0m\n",
       "\u001b[32mpolicy](https://python.langchain.com/docs/versions/release_policy/)\\n\\n*   [Security \u001b[0m\n",
       "\u001b[32mPolicy](https://python.langchain.com/docs/security/)\\n\\n*   [](https://python.langchain.com/)\\n*   \u001b[0m\n",
       "\u001b[32mIntroduction\\n\\nOn this page\\n\\n[![Image 2: Open on \u001b[0m\n",
       "\u001b[32mGitHub](https://img.shields.io/badge/Open%20on%20GitHub-grey?logo=github&logoColor=white)](https://github.com/langc\u001b[0m\n",
       "\u001b[32mhain-ai/langchain/blob/master/docs/docs/introduction.mdx)\\n\\nIntroduction\\n============\\n\\n**LangChain** is a \u001b[0m\n",
       "\u001b[32mframework for developing applications powered by large language models (LLMs).\\n\\nLangChain simplifies every stage \u001b[0m\n",
       "\u001b[32mof the LLM application lifecycle:\\n\\n*   **Development**: Build your applications using LangChain's open-source \u001b[0m\n",
       "\u001b[32m[components](https://python.langchain.com/docs/concepts/) and [third-party \u001b[0m\n",
       "\u001b[32mintegrations](https://python.langchain.com/docs/integrations/providers/). Use \u001b[0m\n",
       "\u001b[32m[LangGraph](https://python.langchain.com/docs/concepts/architecture/#langgraph) to build stateful agents with \u001b[0m\n",
       "\u001b[32mfirst-class streaming and human-in-the-loop support.\\n*   **Productionization**: Use \u001b[0m\n",
       "\u001b[32m[LangSmith](https://docs.smith.langchain.com/) to inspect, monitor and evaluate your applications, so that you can \u001b[0m\n",
       "\u001b[32mcontinuously optimize and deploy with confidence.\\n*   **Deployment**: Turn your LangGraph applications into \u001b[0m\n",
       "\u001b[32mproduction-ready APIs and Assistants with [LangGraph \u001b[0m\n",
       "\u001b[32mPlatform](https://langchain-ai.github.io/langgraph/cloud/).\\n\\n![Image 3: Diagram outlining the hierarchical \u001b[0m\n",
       "\u001b[32morganization of the LangChain framework, displaying the interconnected parts across multiple \u001b[0m\n",
       "\u001b[32mlayers.](https://python.langchain.com/svg/langchain_stack_112024.svg)\\nLangChain implements a standard interface \u001b[0m\n",
       "\u001b[32mfor large language models and related technologies, such as embedding models and vector stores, and integrates with\u001b[0m\n",
       "\u001b[32mhundreds of providers. See the [integrations](https://python.langchain.com/docs/integrations/providers/) page for \u001b[0m\n",
       "\u001b[32mmore.\\n\\nSelect [chat model](https://python.langchain.com/docs/integrations/chat/):\\n\\nGoogle Gemini▾\\n\\n*   \u001b[0m\n",
       "\u001b[32m[OpenAI](https://python.langchain.com/docs/introduction#)\\n*   \u001b[0m\n",
       "\u001b[32m[Anthropic](https://python.langchain.com/docs/introduction#)\\n*   \u001b[0m\n",
       "\u001b[32m[Azure](https://python.langchain.com/docs/introduction#)\\n*   [Google \u001b[0m\n",
       "\u001b[32mGemini](https://python.langchain.com/docs/introduction#)\\n*   [Google \u001b[0m\n",
       "\u001b[32mVertex](https://python.langchain.com/docs/introduction#)\\n*   \u001b[0m\n",
       "\u001b[32m[AWS](https://python.langchain.com/docs/introduction#)\\n*   \u001b[0m\n",
       "\u001b[32m[Groq](https://python.langchain.com/docs/introduction#)\\n*   \u001b[0m\n",
       "\u001b[32m[Cohere](https://python.langchain.com/docs/introduction#)\\n*   \u001b[0m\n",
       "\u001b[32m[NVIDIA](https://python.langchain.com/docs/introduction#)\\n*   [Fireworks \u001b[0m\n",
       "\u001b[32mAI](https://python.langchain.com/docs/introduction#)\\n*   [Mistral \u001b[0m\n",
       "\u001b[32mAI](https://python.langchain.com/docs/introduction#)\\n*   [Together \u001b[0m\n",
       "\u001b[32mAI](https://python.langchain.com/docs/introduction#)\\n*   [IBM \u001b[0m\n",
       "\u001b[32mwatsonx](https://python.langchain.com/docs/introduction#)\\n*   \u001b[0m\n",
       "\u001b[32m[Databricks](https://python.langchain.com/docs/introduction#)\\n*   \u001b[0m\n",
       "\u001b[32m[xAI](https://python.langchain.com/docs/introduction#)\\n*   \u001b[0m\n",
       "\u001b[32m[Perplexity](https://python.langchain.com/docs/introduction#)\\n\\n`pip install -qU \u001b[0m\n",
       "\u001b[32m\\\"langchain[google-genai]\\\"`\\n\\n`import getpassimport osif not os.environ.get(\\\"GOOGLE_API_KEY\\\"):  \u001b[0m\n",
       "\u001b[32mos.environ[\\\"GOOGLE_API_KEY\\\"] = getpass.getpass(\\\"Enter API key for Google Gemini: \\\")from langchain.chat_models \u001b[0m\n",
       "\u001b[32mimport init_chat_modelmodel = init_chat_model(\\\"gemini-2.0-flash\\\", \u001b[0m\n",
       "\u001b[32mmodel_provider=\\\"google_genai\\\")`\\n\\n`model.invoke(\\\"Hello, world!\\\")`\\n\\nnote\\n\\nThese docs focus on the Python \u001b[0m\n",
       "\u001b[32mLangChain library. [Head here](https://js.langchain.com/) for docs on the JavaScript LangChain \u001b[0m\n",
       "\u001b[32mlibrary.\\n\\nArchitecture[​](https://python.langchain.com/docs/introduction#architecture \\\"Direct link to \u001b[0m\n",
       "\u001b[32mArchitecture\\\")\\n--------------------------------------------------------------------------------------------------\u001b[0m\n",
       "\u001b[32m--------\\n\\nThe LangChain framework consists of multiple open-source libraries. Read more in the \u001b[0m\n",
       "\u001b[32m[Architecture](https://python.langchain.com/docs/concepts/architecture/) page.\\n\\n*   **`langchain-core`**: Base \u001b[0m\n",
       "\u001b[32mabstractions for chat models and other components.\\n*   **Integration packages** (e.g. `langchain-openai`, \u001b[0m\n",
       "\u001b[32m`langchain-anthropic`, etc.): Important integrations have been split into lightweight packages that are \u001b[0m\n",
       "\u001b[32mco-maintained by the LangChain team and the integration developers.\\n*   **`langchain`**: Chains, agents, and \u001b[0m\n",
       "\u001b[32mretrieval strategies that make up an application's cognitive architecture.\\n*   **`langchain-community`**: \u001b[0m\n",
       "\u001b[32mThird-party integrations that are community maintained.\\n*   **`langgraph`**: Orchestration framework for combining\u001b[0m\n",
       "\u001b[32mLangChain components into production-ready applications with persistence, streaming, and other key features. See \u001b[0m\n",
       "\u001b[32m[LangGraph \u001b[0m\n",
       "\u001b[32mdocumentation](https://langchain-ai.github.io/langgraph/).\\n\\nGuides[​](https://python.langchain.com/docs/introducti\u001b[0m\n",
       "\u001b[32mon#guides \\\"Direct link to \u001b[0m\n",
       "\u001b[32mGuides\\\")\\n----------------------------------------------------------------------------------------\\n\\n### \u001b[0m\n",
       "\u001b[32m[Tutorials](https://python.langchain.com/docs/tutorials/)[​](https://python.langchain.com/docs/introduction#tutorial\u001b[0m\n",
       "\u001b[32ms \\\"Direct link to tutorials\\\")\\n\\nIf you're looking to build something specific or are more of a hands-on learner,\u001b[0m\n",
       "\u001b[32mcheck out our [tutorials section](https://python.langchain.com/docs/tutorials/). This is the best place to get \u001b[0m\n",
       "\u001b[32mstarted.\\n\\nThese are the best ones to get started with:\\n\\n*   [Build a Simple LLM \u001b[0m\n",
       "\u001b[32mApplication](https://python.langchain.com/docs/tutorials/llm_chain/)\\n*   [Build a \u001b[0m\n",
       "\u001b[32mChatbot](https://python.langchain.com/docs/tutorials/chatbot/)\\n*   [Build an \u001b[0m\n",
       "\u001b[32mAgent](https://python.langchain.com/docs/tutorials/agents/)\\n*   [Introduction to \u001b[0m\n",
       "\u001b[32mLangGraph](https://langchain-ai.github.io/langgraph/tutorials/introduction/)\\n\\nExplore the full list of LangChain \u001b[0m\n",
       "\u001b[32mtutorials [here](https://python.langchain.com/docs/tutorials/), and check out other [LangGraph tutorials \u001b[0m\n",
       "\u001b[32mhere](https://langchain-ai.github.io/langgraph/tutorials/). To learn more about LangGraph, check out our first \u001b[0m\n",
       "\u001b[32mLangChain Academy course, _Introduction to LangGraph_, available \u001b[0m\n",
       "\u001b[32m[here](https://academy.langchain.com/courses/intro-to-langgraph).\\n\\n### [How-to \u001b[0m\n",
       "\u001b[32mguides](https://python.langchain.com/docs/how_to/)[​](https://python.langchain.com/docs/introduction#how-to-guides \u001b[0m\n",
       "\u001b[32m\\\"Direct link to how-to-guides\\\")\\n\\n[Here](https://python.langchain.com/docs/how_to/) you’ll find short answers to\u001b[0m\n",
       "\u001b[32m“How do I….?” types of questions. These how-to guides don’t cover topics in depth – you’ll find that material in \u001b[0m\n",
       "\u001b[32mthe [Tutorials](https://python.langchain.com/docs/tutorials/) and the [API \u001b[0m\n",
       "\u001b[32mReference](https://python.langchain.com/api_reference/). However, these guides will help you quickly accomplish \u001b[0m\n",
       "\u001b[32mcommon tasks using [chat models](https://python.langchain.com/docs/how_to/#chat-models), [vector \u001b[0m\n",
       "\u001b[32mstores](https://python.langchain.com/docs/how_to/#vector-stores), and other common LangChain components.\\n\\nCheck \u001b[0m\n",
       "\u001b[32mout [LangGraph-specific how-tos here](https://langchain-ai.github.io/langgraph/how-tos/).\\n\\n### [Conceptual \u001b[0m\n",
       "\u001b[32mguide](https://python.langchain.com/docs/concepts/)[​](https://python.langchain.com/docs/introduction#conceptual-gui\u001b[0m\n",
       "\u001b[32mde \\\"Direct link to conceptual-guide\\\")\\n\\nIntroductions to all the key parts of LangChain you’ll need to know! \u001b[0m\n",
       "\u001b[32m[Here](https://python.langchain.com/docs/concepts/) you'll find high level explanations of all LangChain \u001b[0m\n",
       "\u001b[32mconcepts.\\n\\nFor a deeper dive into LangGraph concepts, check out [this \u001b[0m\n",
       "\u001b[32mpage](https://langchain-ai.github.io/langgraph/concepts/).\\n\\n### \u001b[0m\n",
       "\u001b[32m[Integrations](https://python.langchain.com/docs/integrations/providers/)[​](https://python.langchain.com/docs/intro\u001b[0m\n",
       "\u001b[32mduction#integrations \\\"Direct link to integrations\\\")\\n\\nLangChain is part of a rich ecosystem of tools that \u001b[0m\n",
       "\u001b[32mintegrate with our framework and build on top of it. If you're looking to get up and running quickly with [chat \u001b[0m\n",
       "\u001b[32mmodels](https://python.langchain.com/docs/integrations/chat/), [vector \u001b[0m\n",
       "\u001b[32mstores](https://python.langchain.com/docs/integrations/vectorstores/), or other LangChain components from a \u001b[0m\n",
       "\u001b[32mspecific provider, check out our growing list of \u001b[0m\n",
       "\u001b[32m[integrations](https://python.langchain.com/docs/integrations/providers/).\\n\\n### [API \u001b[0m\n",
       "\u001b[32mreference](https://python.langchain.com/api_reference/)[​](https://python.langchain.com/docs/introduction#api-refere\u001b[0m\n",
       "\u001b[32mnce \\\"Direct link to api-reference\\\")\\n\\nHead to the reference section for full documentation of all classes and \u001b[0m\n",
       "\u001b[32mmethods in the LangChain Python packages.\\n\\nEcosystem[​](https://python.langchain.com/docs/introduction#ecosystem \u001b[0m\n",
       "\u001b[32m\\\"Direct link to \u001b[0m\n",
       "\u001b[32mEcosystem\\\")\\n-------------------------------------------------------------------------------------------------\\n\\n\u001b[0m\n",
       "\u001b[32m### [🦜🛠️ \u001b[0m\n",
       "\u001b[32mLangSmith](https://docs.smith.langchain.com/)[​](https://python.langchain.com/docs/introduction#%EF%B8%8F-langsmith\u001b[0m\n",
       "\u001b[32m\\\"Direct link to ️-langsmith\\\")\\n\\nTrace and evaluate your language model applications and intelligent agents to \u001b[0m\n",
       "\u001b[32mhelp you move from prototype to production.\\n\\n### [🦜🕸️ \u001b[0m\n",
       "\u001b[32mLangGraph](https://langchain-ai.github.io/langgraph)[​](https://python.langchain.com/docs/introduction#%EF%B8%8F-lan\u001b[0m\n",
       "\u001b[32mggraph \\\"Direct link to ️-langgraph\\\")\\n\\nBuild stateful, multi-actor applications with LLMs. Integrates smoothly \u001b[0m\n",
       "\u001b[32mwith LangChain, but can be used without it. LangGraph powers production-grade agents, trusted by Linkedin, Uber, \u001b[0m\n",
       "\u001b[32mKlarna, GitLab, and many more.\\n\\nAdditional \u001b[0m\n",
       "\u001b[32mresources[​](https://python.langchain.com/docs/introduction#additional-resources \\\"Direct link to Additional \u001b[0m\n",
       "\u001b[32mresources\\\")\\n-----------------------------------------------------------------------------------------------------\u001b[0m\n",
       "\u001b[32m-----------------------------\\n\\n### \u001b[0m\n",
       "\u001b[32m[Versions](https://python.langchain.com/docs/versions/v0_3/)[​](https://python.langchain.com/docs/introduction#versi\u001b[0m\n",
       "\u001b[32mons \\\"Direct link to versions\\\")\\n\\nSee what changed in v0.3, learn how to migrate legacy code, read up on our \u001b[0m\n",
       "\u001b[32mversioning policies, and more.\\n\\n### \u001b[0m\n",
       "\u001b[32m[Security](https://python.langchain.com/docs/security/)[​](https://python.langchain.com/docs/introduction#security \u001b[0m\n",
       "\u001b[32m\\\"Direct link to security\\\")\\n\\nRead up on [security](https://python.langchain.com/docs/security/) best practices \u001b[0m\n",
       "\u001b[32mto make sure you're developing safely with LangChain.\\n\\n### \u001b[0m\n",
       "\u001b[32m[Contributing](https://python.langchain.com/docs/contributing/)[​](https://python.langchain.com/docs/introduction#co\u001b[0m\n",
       "\u001b[32mntributing \\\"Direct link to contributing\\\")\\n\\nCheck out the developer's guide for guidelines on contributing and \u001b[0m\n",
       "\u001b[32mhelp getting your dev environment set up.\\n\\n[Edit this \u001b[0m\n",
       "\u001b[32mpage](https://github.com/langchain-ai/langchain/edit/master/docs/docs/introduction.mdx)\\n\\n[Next \u001b[0m\n",
       "\u001b[32mTutorials](https://python.langchain.com/docs/tutorials/)\\n\\n*   \u001b[0m\n",
       "\u001b[32m[Architecture](https://python.langchain.com/docs/introduction#architecture)\\n*   \u001b[0m\n",
       "\u001b[32m[Guides](https://python.langchain.com/docs/introduction#guides)\\n    *   \u001b[0m\n",
       "\u001b[32m[Tutorials](https://python.langchain.com/docs/introduction#tutorials)\\n    *   [How-to \u001b[0m\n",
       "\u001b[32mguides](https://python.langchain.com/docs/introduction#how-to-guides)\\n    *   [Conceptual \u001b[0m\n",
       "\u001b[32mguide](https://python.langchain.com/docs/introduction#conceptual-guide)\\n    *   \u001b[0m\n",
       "\u001b[32m[Integrations](https://python.langchain.com/docs/introduction#integrations)\\n    *   [API \u001b[0m\n",
       "\u001b[32mreference](https://python.langchain.com/docs/introduction#api-reference)\\n\\n*   \u001b[0m\n",
       "\u001b[32m[Ecosystem](https://python.langchain.com/docs/introduction#ecosystem)\\n    *   [🦜🛠️ \u001b[0m\n",
       "\u001b[32mLangSmith](https://python.langchain.com/docs/introduction#%EF%B8%8F-langsmith)\\n    *   [🦜🕸️ \u001b[0m\n",
       "\u001b[32mLangGraph](https://python.langchain.com/docs/introduction#%EF%B8%8F-langgraph)\\n\\n*   [Additional \u001b[0m\n",
       "\u001b[32mresources](https://python.langchain.com/docs/introduction#additional-resources)\\n    *   \u001b[0m\n",
       "\u001b[32m[Versions](https://python.langchain.com/docs/introduction#versions)\\n    *   \u001b[0m\n",
       "\u001b[32m[Security](https://python.langchain.com/docs/introduction#security)\\n    *   \u001b[0m\n",
       "\u001b[32m[Contributing](https://python.langchain.com/docs/introduction#contributing)\\n\\nCommunity\\n\\n*   [LangChain \u001b[0m\n",
       "\u001b[32mForum](https://forum.langchain.com/)\\n*   [Twitter](https://twitter.com/LangChainAI)\\n\\nGitHub\\n\\n*   \u001b[0m\n",
       "\u001b[32m[Organization](https://github.com/langchain-ai)\\n*   [Python](https://github.com/langchain-ai/langchain)\\n*   \u001b[0m\n",
       "\u001b[32m[JS/TS](https://github.com/langchain-ai/langchainjs)\\n\\nMore\\n\\n*   [Homepage](https://langchain.com/)\\n*   \u001b[0m\n",
       "\u001b[32m[Blog](https://blog.langchain.dev/)\\n*   [YouTube](https://www.youtube.com/@LangChain)\\n\\nCopyright © 2025 \u001b[0m\n",
       "\u001b[32mLangChain, Inc.\\n\"\u001b[0m,\n",
       "  \u001b[1;34m\"images\"\u001b[0m: \u001b[1m[\u001b[0m\u001b[1m]\u001b[0m\n",
       "\u001b[1m}\u001b[0m\n"
      ]
     },
     "metadata": {},
     "output_type": "display_data"
    }
   ],
   "source": [
    "# Examine the structure of TavilyCrawl results\n",
    "console.print(\"📋 **TavilyCrawl Result Structure Analysis**\\n\", style=\"blue\")\n",
    "\n",
    "# Let's examine a single result from our basic crawl\n",
    "if basic_results:\n",
    "    sample_result = basic_results[0]\n",
    "    \n",
    "    console.print(\"🔍 **Available Fields in Each Result:**\", style=\"cyan\")\n",
    "    for field, value in sample_result.items():\n",
    "        field_type = type(value).__name__\n",
    "        value_preview = str(value)[:100] + \"...\" if len(str(value)) > 100 else str(value)\n",
    "        console.print(f\"   📄 **{field}** ({field_type}): {value_preview}\")\n",
    "    \n",
    "    console.print(f\"\\n📊 **Complete Structure of Result #1:**\", style=\"green\")\n",
    "    # Display the full structure as formatted JSON\n",
    "    result_json = JSON.from_data(sample_result)\n",
    "    console.print(result_json)\n",
    "    \n",
    "else:\n",
    "    console.print(\"⚠️ No results available for structure analysis\", style=\"red\")"
   ]
  },
  {
   "cell_type": "markdown",
   "metadata": {},
   "source": [
    "## ❌ Demo 2: Regular Crawl With Bad Instructions\n",
    "\n",
    "Let's first see what happens when we use poor instructions. This demonstrates what to avoid when working with TavilyCrawl."
   ]
  },
  {
   "cell_type": "markdown",
   "metadata": {},
   "source": []
  },
  {
   "cell_type": "markdown",
   "metadata": {},
   "source": [
    "# Demo 2: Crawl with poor instructions"
   ]
  },
  {
   "cell_type": "code",
   "execution_count": 12,
   "metadata": {},
   "outputs": [
    {
     "data": {
      "text/html": [
       "<pre style=\"white-space:pre;overflow-x:auto;line-height:normal;font-family:Menlo,'DejaVu Sans Mono',consolas,'Courier New',monospace\"><span style=\"color: #800000; text-decoration-color: #800000\">╭──────── Demo 2: Regular Crawl With Poor Instructions ─────────╮</span>\n",
       "<span style=\"color: #800000; text-decoration-color: #800000\">│</span> 🎯 **Target**: https://python.langchain.com/ (same as Demo 1) <span style=\"color: #800000; text-decoration-color: #800000\">│</span>\n",
       "<span style=\"color: #800000; text-decoration-color: #800000\">│</span> 📋 **Instructions**: What is LangChain and how does it work?  <span style=\"color: #800000; text-decoration-color: #800000\">│</span>\n",
       "<span style=\"color: #800000; text-decoration-color: #800000\">│</span> ⚠️ **Type**: Poor (asks a question instead of guiding crawl)   <span style=\"color: #800000; text-decoration-color: #800000\">│</span>\n",
       "<span style=\"color: #800000; text-decoration-color: #800000\">│</span> ⚙️ **Max Depth**: 2                                            <span style=\"color: #800000; text-decoration-color: #800000\">│</span>\n",
       "<span style=\"color: #800000; text-decoration-color: #800000\">│</span> 🎨 **Extract Depth**: advanced                                <span style=\"color: #800000; text-decoration-color: #800000\">│</span>\n",
       "<span style=\"color: #800000; text-decoration-color: #800000\">╰───────────────────────────────────────────────────────────────╯</span>\n",
       "</pre>\n"
      ],
      "text/plain": [
       "\u001b[31m╭─\u001b[0m\u001b[31m───────\u001b[0m\u001b[31m Demo 2: Regular Crawl With Poor Instructions \u001b[0m\u001b[31m────────\u001b[0m\u001b[31m─╮\u001b[0m\n",
       "\u001b[31m│\u001b[0m 🎯 **Target**: https://python.langchain.com/ (same as Demo 1) \u001b[31m│\u001b[0m\n",
       "\u001b[31m│\u001b[0m 📋 **Instructions**: What is LangChain and how does it work?  \u001b[31m│\u001b[0m\n",
       "\u001b[31m│\u001b[0m ⚠️ **Type**: Poor (asks a question instead of guiding crawl)   \u001b[31m│\u001b[0m\n",
       "\u001b[31m│\u001b[0m ⚙️ **Max Depth**: 2                                            \u001b[31m│\u001b[0m\n",
       "\u001b[31m│\u001b[0m 🎨 **Extract Depth**: advanced                                \u001b[31m│\u001b[0m\n",
       "\u001b[31m╰───────────────────────────────────────────────────────────────╯\u001b[0m\n"
      ]
     },
     "metadata": {},
     "output_type": "display_data"
    },
    {
     "data": {
      "text/html": [
       "<pre style=\"white-space:pre;overflow-x:auto;line-height:normal;font-family:Menlo,'DejaVu Sans Mono',consolas,'Courier New',monospace\"><span style=\"color: #800000; text-decoration-color: #800000\">Starting crawl with poor instructions</span><span style=\"color: #808000; text-decoration-color: #808000\">...</span>\n",
       "</pre>\n"
      ],
      "text/plain": [
       "\u001b[31mStarting crawl with poor instructions\u001b[0m\u001b[33m...\u001b[0m\n"
      ]
     },
     "metadata": {},
     "output_type": "display_data"
    },
    {
     "data": {
      "text/html": [
       "<pre style=\"white-space:pre;overflow-x:auto;line-height:normal;font-family:Menlo,'DejaVu Sans Mono',consolas,'Courier New',monospace\"><span style=\"font-style: italic\">This demonstrates an ineffective instruction pattern</span>\n",
       "</pre>\n"
      ],
      "text/plain": [
       "\u001b[3mThis demonstrates an ineffective instruction pattern\u001b[0m\n"
      ]
     },
     "metadata": {},
     "output_type": "display_data"
    }
   ],
   "source": [
    "bad_instructions = \"What is LangChain and how does it work?\"\n",
    "\n",
    "console.print(Panel.fit(\n",
    "    f\"🎯 **Target**: {target_url} (same as Demo 1)\\n📋 **Instructions**: {bad_instructions}\\n⚠️ **Type**: Poor (asks a question instead of guiding crawl)\\n⚙️ **Max Depth**: 2\\n🎨 **Extract Depth**: advanced\",\n",
    "    title=\"Demo 2: Regular Crawl With Poor Instructions\", \n",
    "    border_style=\"red\"\n",
    "))\n",
    "\n",
    "console.print(\"Starting crawl with poor instructions...\", style=\"red\")\n",
    "console.print(\"This demonstrates an ineffective instruction pattern\", style=\"italic\")"
   ]
  },
  {
   "cell_type": "code",
   "execution_count": 13,
   "metadata": {},
   "outputs": [
    {
     "data": {
      "text/html": [
       "<pre style=\"white-space:pre;overflow-x:auto;line-height:normal;font-family:Menlo,'DejaVu Sans Mono',consolas,'Courier New',monospace\"><span style=\"color: #808000; text-decoration-color: #808000\">Crawl with poor instructions completed</span>\n",
       "</pre>\n"
      ],
      "text/plain": [
       "\u001b[33mCrawl with poor instructions completed\u001b[0m\n"
      ]
     },
     "metadata": {},
     "output_type": "display_data"
    },
    {
     "data": {
      "text/html": [
       "<pre style=\"white-space:pre;overflow-x:auto;line-height:normal;font-family:Menlo,'DejaVu Sans Mono',consolas,'Courier New',monospace\">\n",
       "<span style=\"color: #800000; text-decoration-color: #800000\">❌ **Why These Instructions Are Ineffective:**</span>\n",
       "</pre>\n"
      ],
      "text/plain": [
       "\n",
       "\u001b[31m❌ **Why These Instructions Are Ineffective:**\u001b[0m\n"
      ]
     },
     "metadata": {},
     "output_type": "display_data"
    },
    {
     "data": {
      "text/html": [
       "<pre style=\"white-space:pre;overflow-x:auto;line-height:normal;font-family:Menlo,'DejaVu Sans Mono',consolas,'Courier New',monospace\">   📊 Results found: <span style=\"color: #008080; text-decoration-color: #008080; font-weight: bold\">13</span> pages\n",
       "</pre>\n"
      ],
      "text/plain": [
       "   📊 Results found: \u001b[1;36m13\u001b[0m pages\n"
      ]
     },
     "metadata": {},
     "output_type": "display_data"
    },
    {
     "data": {
      "text/html": [
       "<pre style=\"white-space:pre;overflow-x:auto;line-height:normal;font-family:Menlo,'DejaVu Sans Mono',consolas,'Courier New',monospace\">   🤔 Instructions ask a question instead of guiding the crawler\n",
       "</pre>\n"
      ],
      "text/plain": [
       "   🤔 Instructions ask a question instead of guiding the crawler\n"
      ]
     },
     "metadata": {},
     "output_type": "display_data"
    },
    {
     "data": {
      "text/html": [
       "<pre style=\"white-space:pre;overflow-x:auto;line-height:normal;font-family:Menlo,'DejaVu Sans Mono',consolas,'Courier New',monospace\">   🎯 Crawl doesn't answer questions - it finds pages that might contain answers\n",
       "</pre>\n"
      ],
      "text/plain": [
       "   🎯 Crawl doesn't answer questions - it finds pages that might contain answers\n"
      ]
     },
     "metadata": {},
     "output_type": "display_data"
    },
    {
     "data": {
      "text/html": [
       "<pre style=\"white-space:pre;overflow-x:auto;line-height:normal;font-family:Menlo,'DejaVu Sans Mono',consolas,'Courier New',monospace\">   ⚠️  Results may be unfocused or too broad\n",
       "</pre>\n"
      ],
      "text/plain": [
       "   ⚠️  Results may be unfocused or too broad\n"
      ]
     },
     "metadata": {},
     "output_type": "display_data"
    }
   ],
   "source": [
    "# Execute the crawl with poor instructions\n",
    "bad_result = tavily_crawl.invoke({\n",
    "    \"url\": target_url,\n",
    "    \"instructions\": bad_instructions,\n",
    "    \"max_depth\": 2,\n",
    "    \"extract_depth\": \"advanced\"\n",
    "})\n",
    "\n",
    "console.print(\"Crawl with poor instructions completed\", style=\"yellow\")\n",
    "\n",
    "# Show what happens with poor instructions\n",
    "bad_results = bad_result.get(\"results\", [])\n",
    "\n",
    "console.print(f\"\\n❌ **Why These Instructions Are Ineffective:**\", style=\"red\")\n",
    "console.print(f\"   📊 Results found: {len(bad_results)} pages\")\n",
    "console.print(\"   🤔 Instructions ask a question instead of guiding the crawler\")\n",
    "console.print(\"   🎯 Crawl doesn't answer questions - it finds pages that might contain answers\")\n",
    "console.print(\"   ⚠️  Results may be unfocused or too broad\")"
   ]
  },
  {
   "cell_type": "code",
   "execution_count": 14,
   "metadata": {},
   "outputs": [
    {
     "data": {
      "text/html": [
       "<pre style=\"white-space:pre;overflow-x:auto;line-height:normal;font-family:Menlo,'DejaVu Sans Mono',consolas,'Courier New',monospace\">\n",
       "<span style=\"color: #800000; text-decoration-color: #800000\">❌ **Results from Poor Instructions:**</span>\n",
       "\n",
       "</pre>\n"
      ],
      "text/plain": [
       "\n",
       "\u001b[31m❌ **Results from Poor Instructions:**\u001b[0m\n",
       "\n"
      ]
     },
     "metadata": {},
     "output_type": "display_data"
    },
    {
     "data": {
      "text/html": [
       "<pre style=\"white-space:pre;overflow-x:auto;line-height:normal;font-family:Menlo,'DejaVu Sans Mono',consolas,'Courier New',monospace\"><span style=\"color: #800000; text-decoration-color: #800000\">╭─────────────────────────────── 📄 1. https://python.langchain.com/docs/concepts ────────────────────────────────╮</span>\n",
       "<span style=\"color: #800000; text-decoration-color: #800000\">│</span> 🔗 **URL**: https://python.langchain.com/docs/concepts                                                          <span style=\"color: #800000; text-decoration-color: #800000\">│</span>\n",
       "<span style=\"color: #800000; text-decoration-color: #800000\">│</span>                                                                                                                 <span style=\"color: #800000; text-decoration-color: #800000\">│</span>\n",
       "<span style=\"color: #800000; text-decoration-color: #800000\">│</span> 📖 **Content Preview**:                                                                                         <span style=\"color: #800000; text-decoration-color: #800000\">│</span>\n",
       "<span style=\"color: #800000; text-decoration-color: #800000\">│</span> Conceptual guide | 🦜️🔗 LangChain                                                                               <span style=\"color: #800000; text-decoration-color: #800000\">│</span>\n",
       "<span style=\"color: #800000; text-decoration-color: #800000\">│</span>                                                                                                                 <span style=\"color: #800000; text-decoration-color: #800000\">│</span>\n",
       "<span style=\"color: #800000; text-decoration-color: #800000\">│</span> ===============                                                                                                 <span style=\"color: #800000; text-decoration-color: #800000\">│</span>\n",
       "<span style=\"color: #800000; text-decoration-color: #800000\">│</span>                                                                                                                 <span style=\"color: #800000; text-decoration-color: #800000\">│</span>\n",
       "<span style=\"color: #800000; text-decoration-color: #800000\">│</span> [Skip to main content](https://python.langchain.com/docs/concepts#__docusaurus_skipToContent_fallba...          <span style=\"color: #800000; text-decoration-color: #800000\">│</span>\n",
       "<span style=\"color: #800000; text-decoration-color: #800000\">╰─────────────────────────────────────────────────────────────────────────────────────────────────────────────────╯</span>\n",
       "</pre>\n"
      ],
      "text/plain": [
       "\u001b[31m╭─\u001b[0m\u001b[31m──────────────────────────────\u001b[0m\u001b[31m 📄 1. https://python.langchain.com/docs/concepts \u001b[0m\u001b[31m───────────────────────────────\u001b[0m\u001b[31m─╮\u001b[0m\n",
       "\u001b[31m│\u001b[0m 🔗 **URL**: https://python.langchain.com/docs/concepts                                                          \u001b[31m│\u001b[0m\n",
       "\u001b[31m│\u001b[0m                                                                                                                 \u001b[31m│\u001b[0m\n",
       "\u001b[31m│\u001b[0m 📖 **Content Preview**:                                                                                         \u001b[31m│\u001b[0m\n",
       "\u001b[31m│\u001b[0m Conceptual guide | 🦜️🔗 LangChain                                                                               \u001b[31m│\u001b[0m\n",
       "\u001b[31m│\u001b[0m                                                                                                                 \u001b[31m│\u001b[0m\n",
       "\u001b[31m│\u001b[0m ===============                                                                                                 \u001b[31m│\u001b[0m\n",
       "\u001b[31m│\u001b[0m                                                                                                                 \u001b[31m│\u001b[0m\n",
       "\u001b[31m│\u001b[0m [Skip to main content](https://python.langchain.com/docs/concepts#__docusaurus_skipToContent_fallba...          \u001b[31m│\u001b[0m\n",
       "\u001b[31m╰─────────────────────────────────────────────────────────────────────────────────────────────────────────────────╯\u001b[0m\n"
      ]
     },
     "metadata": {},
     "output_type": "display_data"
    },
    {
     "name": "stdout",
     "output_type": "stream",
     "text": [
      "\n"
     ]
    },
    {
     "data": {
      "text/html": [
       "<pre style=\"white-space:pre;overflow-x:auto;line-height:normal;font-family:Menlo,'DejaVu Sans Mono',consolas,'Courier New',monospace\"><span style=\"color: #800000; text-decoration-color: #800000\">╭─────────────────────────────── 📄 2. https://python.langchain.com/docs/tutorials ───────────────────────────────╮</span>\n",
       "<span style=\"color: #800000; text-decoration-color: #800000\">│</span> 🔗 **URL**: https://python.langchain.com/docs/tutorials                                                         <span style=\"color: #800000; text-decoration-color: #800000\">│</span>\n",
       "<span style=\"color: #800000; text-decoration-color: #800000\">│</span>                                                                                                                 <span style=\"color: #800000; text-decoration-color: #800000\">│</span>\n",
       "<span style=\"color: #800000; text-decoration-color: #800000\">│</span> 📖 **Content Preview**:                                                                                         <span style=\"color: #800000; text-decoration-color: #800000\">│</span>\n",
       "<span style=\"color: #800000; text-decoration-color: #800000\">│</span> Published Time: Fri, 11 Jul 2025 15:13:33 GMT                                                                   <span style=\"color: #800000; text-decoration-color: #800000\">│</span>\n",
       "<span style=\"color: #800000; text-decoration-color: #800000\">│</span>                                                                                                                 <span style=\"color: #800000; text-decoration-color: #800000\">│</span>\n",
       "<span style=\"color: #800000; text-decoration-color: #800000\">│</span> Tutorials | 🦜️🔗 LangChain                                                                                      <span style=\"color: #800000; text-decoration-color: #800000\">│</span>\n",
       "<span style=\"color: #800000; text-decoration-color: #800000\">│</span>                                                                                                                 <span style=\"color: #800000; text-decoration-color: #800000\">│</span>\n",
       "<span style=\"color: #800000; text-decoration-color: #800000\">│</span> ===============                                                                                                 <span style=\"color: #800000; text-decoration-color: #800000\">│</span>\n",
       "<span style=\"color: #800000; text-decoration-color: #800000\">│</span>                                                                                                                 <span style=\"color: #800000; text-decoration-color: #800000\">│</span>\n",
       "<span style=\"color: #800000; text-decoration-color: #800000\">│</span> [Skip to main content](https://python.langchain.com/docs/tu...                                                  <span style=\"color: #800000; text-decoration-color: #800000\">│</span>\n",
       "<span style=\"color: #800000; text-decoration-color: #800000\">╰─────────────────────────────────────────────────────────────────────────────────────────────────────────────────╯</span>\n",
       "</pre>\n"
      ],
      "text/plain": [
       "\u001b[31m╭─\u001b[0m\u001b[31m──────────────────────────────\u001b[0m\u001b[31m 📄 2. https://python.langchain.com/docs/tutorials \u001b[0m\u001b[31m──────────────────────────────\u001b[0m\u001b[31m─╮\u001b[0m\n",
       "\u001b[31m│\u001b[0m 🔗 **URL**: https://python.langchain.com/docs/tutorials                                                         \u001b[31m│\u001b[0m\n",
       "\u001b[31m│\u001b[0m                                                                                                                 \u001b[31m│\u001b[0m\n",
       "\u001b[31m│\u001b[0m 📖 **Content Preview**:                                                                                         \u001b[31m│\u001b[0m\n",
       "\u001b[31m│\u001b[0m Published Time: Fri, 11 Jul 2025 15:13:33 GMT                                                                   \u001b[31m│\u001b[0m\n",
       "\u001b[31m│\u001b[0m                                                                                                                 \u001b[31m│\u001b[0m\n",
       "\u001b[31m│\u001b[0m Tutorials | 🦜️🔗 LangChain                                                                                      \u001b[31m│\u001b[0m\n",
       "\u001b[31m│\u001b[0m                                                                                                                 \u001b[31m│\u001b[0m\n",
       "\u001b[31m│\u001b[0m ===============                                                                                                 \u001b[31m│\u001b[0m\n",
       "\u001b[31m│\u001b[0m                                                                                                                 \u001b[31m│\u001b[0m\n",
       "\u001b[31m│\u001b[0m [Skip to main content](https://python.langchain.com/docs/tu...                                                  \u001b[31m│\u001b[0m\n",
       "\u001b[31m╰─────────────────────────────────────────────────────────────────────────────────────────────────────────────────╯\u001b[0m\n"
      ]
     },
     "metadata": {},
     "output_type": "display_data"
    },
    {
     "name": "stdout",
     "output_type": "stream",
     "text": [
      "\n"
     ]
    },
    {
     "data": {
      "text/html": [
       "<pre style=\"white-space:pre;overflow-x:auto;line-height:normal;font-family:Menlo,'DejaVu Sans Mono',consolas,'Courier New',monospace\"><span style=\"color: #800000; text-decoration-color: #800000\">╭──────────────────────────── 📄 3. https://python.langchain.com/docs/concepts/agents ────────────────────────────╮</span>\n",
       "<span style=\"color: #800000; text-decoration-color: #800000\">│</span> 🔗 **URL**: https://python.langchain.com/docs/concepts/agents                                                   <span style=\"color: #800000; text-decoration-color: #800000\">│</span>\n",
       "<span style=\"color: #800000; text-decoration-color: #800000\">│</span>                                                                                                                 <span style=\"color: #800000; text-decoration-color: #800000\">│</span>\n",
       "<span style=\"color: #800000; text-decoration-color: #800000\">│</span> 📖 **Content Preview**:                                                                                         <span style=\"color: #800000; text-decoration-color: #800000\">│</span>\n",
       "<span style=\"color: #800000; text-decoration-color: #800000\">│</span> Agents | 🦜️🔗 LangChain                                                                                         <span style=\"color: #800000; text-decoration-color: #800000\">│</span>\n",
       "<span style=\"color: #800000; text-decoration-color: #800000\">│</span>                                                                                                                 <span style=\"color: #800000; text-decoration-color: #800000\">│</span>\n",
       "<span style=\"color: #800000; text-decoration-color: #800000\">│</span>                                                                                                                 <span style=\"color: #800000; text-decoration-color: #800000\">│</span>\n",
       "<span style=\"color: #800000; text-decoration-color: #800000\">│</span>                                                                                                                 <span style=\"color: #800000; text-decoration-color: #800000\">│</span>\n",
       "<span style=\"color: #800000; text-decoration-color: #800000\">│</span>                                                                                                                 <span style=\"color: #800000; text-decoration-color: #800000\">│</span>\n",
       "<span style=\"color: #800000; text-decoration-color: #800000\">│</span> [Skip to main content](#__docusaurus_skipToContent_fallback)                                                    <span style=\"color: #800000; text-decoration-color: #800000\">│</span>\n",
       "<span style=\"color: #800000; text-decoration-color: #800000\">│</span>                                                                                                                 <span style=\"color: #800000; text-decoration-color: #800000\">│</span>\n",
       "<span style=\"color: #800000; text-decoration-color: #800000\">│</span> **Our [Building Ambient Agents with LangGraph](https://academ...                                                <span style=\"color: #800000; text-decoration-color: #800000\">│</span>\n",
       "<span style=\"color: #800000; text-decoration-color: #800000\">╰─────────────────────────────────────────────────────────────────────────────────────────────────────────────────╯</span>\n",
       "</pre>\n"
      ],
      "text/plain": [
       "\u001b[31m╭─\u001b[0m\u001b[31m───────────────────────────\u001b[0m\u001b[31m 📄 3. https://python.langchain.com/docs/concepts/agents \u001b[0m\u001b[31m───────────────────────────\u001b[0m\u001b[31m─╮\u001b[0m\n",
       "\u001b[31m│\u001b[0m 🔗 **URL**: https://python.langchain.com/docs/concepts/agents                                                   \u001b[31m│\u001b[0m\n",
       "\u001b[31m│\u001b[0m                                                                                                                 \u001b[31m│\u001b[0m\n",
       "\u001b[31m│\u001b[0m 📖 **Content Preview**:                                                                                         \u001b[31m│\u001b[0m\n",
       "\u001b[31m│\u001b[0m Agents | 🦜️🔗 LangChain                                                                                         \u001b[31m│\u001b[0m\n",
       "\u001b[31m│\u001b[0m                                                                                                                 \u001b[31m│\u001b[0m\n",
       "\u001b[31m│\u001b[0m                                                                                                                 \u001b[31m│\u001b[0m\n",
       "\u001b[31m│\u001b[0m                                                                                                                 \u001b[31m│\u001b[0m\n",
       "\u001b[31m│\u001b[0m                                                                                                                 \u001b[31m│\u001b[0m\n",
       "\u001b[31m│\u001b[0m [Skip to main content](#__docusaurus_skipToContent_fallback)                                                    \u001b[31m│\u001b[0m\n",
       "\u001b[31m│\u001b[0m                                                                                                                 \u001b[31m│\u001b[0m\n",
       "\u001b[31m│\u001b[0m **Our [Building Ambient Agents with LangGraph](https://academ...                                                \u001b[31m│\u001b[0m\n",
       "\u001b[31m╰─────────────────────────────────────────────────────────────────────────────────────────────────────────────────╯\u001b[0m\n"
      ]
     },
     "metadata": {},
     "output_type": "display_data"
    },
    {
     "name": "stdout",
     "output_type": "stream",
     "text": [
      "\n"
     ]
    },
    {
     "data": {
      "text/html": [
       "<pre style=\"white-space:pre;overflow-x:auto;line-height:normal;font-family:Menlo,'DejaVu Sans Mono',consolas,'Courier New',monospace\"><span style=\"color: #808000; text-decoration-color: #808000; font-style: italic\">...</span><span style=\"color: #800000; text-decoration-color: #800000; font-style: italic\"> and </span><span style=\"color: #008080; text-decoration-color: #008080; font-weight: bold\">10</span><span style=\"color: #800000; text-decoration-color: #800000; font-style: italic\"> more potentially unfocused results</span>\n",
       "</pre>\n"
      ],
      "text/plain": [
       "\u001b[3;33m...\u001b[0m\u001b[3;31m and \u001b[0m\u001b[1;36m10\u001b[0m\u001b[3;31m more potentially unfocused results\u001b[0m\n"
      ]
     },
     "metadata": {},
     "output_type": "display_data"
    },
    {
     "data": {
      "text/html": [
       "<pre style=\"white-space:pre;overflow-x:auto;line-height:normal;font-family:Menlo,'DejaVu Sans Mono',consolas,'Courier New',monospace\"><span style=\"color: #800000; text-decoration-color: #800000\">⚠️ **Note**: Results might be too general or unfocused</span>\n",
       "</pre>\n"
      ],
      "text/plain": [
       "\u001b[31m⚠️ **Note**: Results might be too general or unfocused\u001b[0m\n"
      ]
     },
     "metadata": {},
     "output_type": "display_data"
    }
   ],
   "source": [
    "# Display results from poor instructions\n",
    "console.print(\"\\n❌ **Results from Poor Instructions:**\\n\", style=\"red\")\n",
    "\n",
    "for i, result in enumerate(bad_results[:3], 1):  # Show first 3 results\n",
    "    title = result.get(\"title\") or result.get(\"url\", \"No URL\")  # Use URL if no title\n",
    "    url = result.get(\"url\", \"No URL\")\n",
    "    content = result.get(\"raw_content\", \"No content\")[:150] + \"...\"\n",
    "    \n",
    "    panel_content = f\"\"\"🔗 **URL**: {url}\n",
    "\n",
    "📖 **Content Preview**:\n",
    "{content}\"\"\"\n",
    "    \n",
    "    console.print(Panel(\n",
    "        panel_content,\n",
    "        title=f\"📄 {i}. {title}\",\n",
    "        border_style=\"red\"\n",
    "    ))\n",
    "    print()\n",
    "\n",
    "console.print(f\"... and {len(bad_results) - 3} more potentially unfocused results\", style=\"italic red\")\n",
    "console.print(\"⚠️ **Note**: Results might be too general or unfocused\", style=\"red\")"
   ]
  },
  {
   "cell_type": "markdown",
   "metadata": {},
   "source": [
    "## ✅ Demo 3: Regular Crawl With Good Instructions\n",
    "\n",
    "Now let's see how TavilyCrawl performs when provided with effective instructions. Good instructions allow the AI to filter and target specific content precisely.\n",
    "\n",
    "### How Good Instructions Help:\n",
    "- Provide clear direction for the crawler\n",
    "- Target specific content types or topics\n",
    "- Enable AI to make intelligent filtering decisions\n",
    "- Reduce manual post-processing work"
   ]
  },
  {
   "cell_type": "markdown",
   "metadata": {},
   "source": [
    "# Demo 3: Crawl with good instructions\n"
   ]
  },
  {
   "cell_type": "code",
   "execution_count": 18,
   "metadata": {},
   "outputs": [
    {
     "data": {
      "text/html": [
       "<pre style=\"white-space:pre;overflow-x:auto;line-height:normal;font-family:Menlo,'DejaVu Sans Mono',consolas,'Courier New',monospace\"><span style=\"color: #008000; text-decoration-color: #008000\">╭────────── Demo 3: Regular Crawl With Good Instructions ───────────╮</span>\n",
       "<span style=\"color: #008000; text-decoration-color: #008000\">│</span> 🎯 **Target**: https://python.langchain.com/ (same as Demo 1 &amp; 2) <span style=\"color: #008000; text-decoration-color: #008000\">│</span>\n",
       "<span style=\"color: #008000; text-decoration-color: #008000\">│</span> 📋 **Instructions**: Find all pages about ai agents               <span style=\"color: #008000; text-decoration-color: #008000\">│</span>\n",
       "<span style=\"color: #008000; text-decoration-color: #008000\">│</span> ✅ **Type**: Good (specific, action-oriented)                     <span style=\"color: #008000; text-decoration-color: #008000\">│</span>\n",
       "<span style=\"color: #008000; text-decoration-color: #008000\">│</span> ⚙️ **Max Depth**: 2                                                <span style=\"color: #008000; text-decoration-color: #008000\">│</span>\n",
       "<span style=\"color: #008000; text-decoration-color: #008000\">│</span> 🎨 **Extract Depth**: advanced                                    <span style=\"color: #008000; text-decoration-color: #008000\">│</span>\n",
       "<span style=\"color: #008000; text-decoration-color: #008000\">╰───────────────────────────────────────────────────────────────────╯</span>\n",
       "</pre>\n"
      ],
      "text/plain": [
       "\u001b[32m╭─\u001b[0m\u001b[32m─────────\u001b[0m\u001b[32m Demo 3: Regular Crawl With Good Instructions \u001b[0m\u001b[32m──────────\u001b[0m\u001b[32m─╮\u001b[0m\n",
       "\u001b[32m│\u001b[0m 🎯 **Target**: https://python.langchain.com/ (same as Demo 1 & 2) \u001b[32m│\u001b[0m\n",
       "\u001b[32m│\u001b[0m 📋 **Instructions**: Find all pages about ai agents               \u001b[32m│\u001b[0m\n",
       "\u001b[32m│\u001b[0m ✅ **Type**: Good (specific, action-oriented)                     \u001b[32m│\u001b[0m\n",
       "\u001b[32m│\u001b[0m ⚙️ **Max Depth**: 2                                                \u001b[32m│\u001b[0m\n",
       "\u001b[32m│\u001b[0m 🎨 **Extract Depth**: advanced                                    \u001b[32m│\u001b[0m\n",
       "\u001b[32m╰───────────────────────────────────────────────────────────────────╯\u001b[0m\n"
      ]
     },
     "metadata": {},
     "output_type": "display_data"
    },
    {
     "data": {
      "text/html": [
       "<pre style=\"white-space:pre;overflow-x:auto;line-height:normal;font-family:Menlo,'DejaVu Sans Mono',consolas,'Courier New',monospace\"><span style=\"color: #008000; text-decoration-color: #008000\">Starting crawl with good instructions</span><span style=\"color: #808000; text-decoration-color: #808000\">...</span>\n",
       "</pre>\n"
      ],
      "text/plain": [
       "\u001b[32mStarting crawl with good instructions\u001b[0m\u001b[33m...\u001b[0m\n"
      ]
     },
     "metadata": {},
     "output_type": "display_data"
    },
    {
     "data": {
      "text/html": [
       "<pre style=\"white-space:pre;overflow-x:auto;line-height:normal;font-family:Menlo,'DejaVu Sans Mono',consolas,'Courier New',monospace\"><span style=\"font-style: italic\">Instructions will guide the AI to target specific content</span>\n",
       "</pre>\n"
      ],
      "text/plain": [
       "\u001b[3mInstructions will guide the AI to target specific content\u001b[0m\n"
      ]
     },
     "metadata": {},
     "output_type": "display_data"
    }
   ],
   "source": [
    "good_instructions = \"Find all pages about ai agents\"\n",
    "\n",
    "console.print(Panel.fit(\n",
    "    f\"🎯 **Target**: {target_url} (same as Demo 1 & 2)\\n📋 **Instructions**: {good_instructions}\\n✅ **Type**: Good (specific, action-oriented)\\n⚙️ **Max Depth**: 2\\n🎨 **Extract Depth**: advanced\",\n",
    "    title=\"Demo 3: Regular Crawl With Good Instructions\", \n",
    "    border_style=\"green\"\n",
    "))\n",
    "\n",
    "console.print(\"Starting crawl with good instructions...\", style=\"green\")\n",
    "console.print(\"Instructions will guide the AI to target specific content\", style=\"italic\")"
   ]
  },
  {
   "cell_type": "code",
   "execution_count": 19,
   "metadata": {},
   "outputs": [
    {
     "data": {
      "text/html": [
       "<pre style=\"white-space:pre;overflow-x:auto;line-height:normal;font-family:Menlo,'DejaVu Sans Mono',consolas,'Courier New',monospace\"><span style=\"color: #008000; text-decoration-color: #008000\">Crawl with good instructions completed</span>\n",
       "</pre>\n"
      ],
      "text/plain": [
       "\u001b[32mCrawl with good instructions completed\u001b[0m\n"
      ]
     },
     "metadata": {},
     "output_type": "display_data"
    },
    {
     "data": {
      "text/html": [
       "<pre style=\"white-space:pre;overflow-x:auto;line-height:normal;font-family:Menlo,'DejaVu Sans Mono',consolas,'Courier New',monospace\">\n",
       "<span style=\"color: #000080; text-decoration-color: #000080\">🎯 **Impact of Good Instructions:**</span>\n",
       "</pre>\n"
      ],
      "text/plain": [
       "\n",
       "\u001b[34m🎯 **Impact of Good Instructions:**\u001b[0m\n"
      ]
     },
     "metadata": {},
     "output_type": "display_data"
    },
    {
     "data": {
      "text/html": [
       "<pre style=\"white-space:pre;overflow-x:auto;line-height:normal;font-family:Menlo,'DejaVu Sans Mono',consolas,'Courier New',monospace\">   📊 Demo <span style=\"color: #008080; text-decoration-color: #008080; font-weight: bold\">1</span> <span style=\"font-weight: bold\">(</span>no instructions<span style=\"font-weight: bold\">)</span>: <span style=\"color: #008080; text-decoration-color: #008080; font-weight: bold\">18</span> mixed pages\n",
       "</pre>\n"
      ],
      "text/plain": [
       "   📊 Demo \u001b[1;36m1\u001b[0m \u001b[1m(\u001b[0mno instructions\u001b[1m)\u001b[0m: \u001b[1;36m18\u001b[0m mixed pages\n"
      ]
     },
     "metadata": {},
     "output_type": "display_data"
    },
    {
     "data": {
      "text/html": [
       "<pre style=\"white-space:pre;overflow-x:auto;line-height:normal;font-family:Menlo,'DejaVu Sans Mono',consolas,'Courier New',monospace\">   ❌ Demo <span style=\"color: #008080; text-decoration-color: #008080; font-weight: bold\">2</span> <span style=\"font-weight: bold\">(</span>poor instructions<span style=\"font-weight: bold\">)</span>: <span style=\"color: #008080; text-decoration-color: #008080; font-weight: bold\">13</span> potentially unfocused pages\n",
       "</pre>\n"
      ],
      "text/plain": [
       "   ❌ Demo \u001b[1;36m2\u001b[0m \u001b[1m(\u001b[0mpoor instructions\u001b[1m)\u001b[0m: \u001b[1;36m13\u001b[0m potentially unfocused pages\n"
      ]
     },
     "metadata": {},
     "output_type": "display_data"
    },
    {
     "data": {
      "text/html": [
       "<pre style=\"white-space:pre;overflow-x:auto;line-height:normal;font-family:Menlo,'DejaVu Sans Mono',consolas,'Courier New',monospace\">   ✅ Demo <span style=\"color: #008080; text-decoration-color: #008080; font-weight: bold\">3</span> <span style=\"font-weight: bold\">(</span>good instructions<span style=\"font-weight: bold\">)</span>: <span style=\"color: #008080; text-decoration-color: #008080; font-weight: bold\">1</span> targeted agent pages\n",
       "</pre>\n"
      ],
      "text/plain": [
       "   ✅ Demo \u001b[1;36m3\u001b[0m \u001b[1m(\u001b[0mgood instructions\u001b[1m)\u001b[0m: \u001b[1;36m1\u001b[0m targeted agent pages\n"
      ]
     },
     "metadata": {},
     "output_type": "display_data"
    },
    {
     "data": {
      "text/html": [
       "<pre style=\"white-space:pre;overflow-x:auto;line-height:normal;font-family:Menlo,'DejaVu Sans Mono',consolas,'Courier New',monospace\"><span style=\"color: #008000; text-decoration-color: #008000\">   📉 **Good instructions reduced noise significantly**</span>\n",
       "</pre>\n"
      ],
      "text/plain": [
       "\u001b[32m   📉 **Good instructions reduced noise significantly**\u001b[0m\n"
      ]
     },
     "metadata": {},
     "output_type": "display_data"
    }
   ],
   "source": [
    "# Execute the crawl with good instructions\n",
    "good_result = tavily_crawl.invoke({\n",
    "    \"url\": target_url,\n",
    "    \"instructions\": good_instructions,\n",
    "    \"max_depth\": 2,\n",
    "    \"extract_depth\": \"advanced\"\n",
    "})\n",
    "\n",
    "console.print(\"Crawl with good instructions completed\", style=\"green\")\n",
    "\n",
    "# Show the results of instruction-based filtering\n",
    "good_results = good_result.get(\"results\", [])\n",
    "\n",
    "# Compare with previous demos\n",
    "console.print(f\"\\n🎯 **Impact of Good Instructions:**\", style=\"blue\")\n",
    "console.print(f\"   📊 Demo 1 (no instructions): {len(basic_results)} mixed pages\")\n",
    "console.print(f\"   ❌ Demo 2 (poor instructions): {len(bad_results)} potentially unfocused pages\")\n",
    "console.print(f\"   ✅ Demo 3 (good instructions): {len(good_results)} targeted agent pages\")\n",
    "console.print(f\"   📉 **Good instructions reduced noise significantly**\", style=\"green\")"
   ]
  },
  {
   "cell_type": "code",
   "execution_count": 20,
   "metadata": {},
   "outputs": [
    {
     "data": {
      "text/html": [
       "<pre style=\"white-space:pre;overflow-x:auto;line-height:normal;font-family:Menlo,'DejaVu Sans Mono',consolas,'Courier New',monospace\">\n",
       "<span style=\"color: #008000; text-decoration-color: #008000\">🎯 **LangChain Agent Documentation Found:**</span>\n",
       "\n",
       "</pre>\n"
      ],
      "text/plain": [
       "\n",
       "\u001b[32m🎯 **LangChain Agent Documentation Found:**\u001b[0m\n",
       "\n"
      ]
     },
     "metadata": {},
     "output_type": "display_data"
    },
    {
     "data": {
      "text/html": [
       "<pre style=\"white-space:pre;overflow-x:auto;line-height:normal;font-family:Menlo,'DejaVu Sans Mono',consolas,'Courier New',monospace\"><span style=\"color: #008000; text-decoration-color: #008000\">╭───────────────────────── 📑 1. https://python.langchain.com/docs/how_to/migrate_agent ──────────────────────────╮</span>\n",
       "<span style=\"color: #008000; text-decoration-color: #008000\">│</span> 🔗 **URL**: https://python.langchain.com/docs/how_to/migrate_agent                                              <span style=\"color: #008000; text-decoration-color: #008000\">│</span>\n",
       "<span style=\"color: #008000; text-decoration-color: #008000\">│</span>                                                                                                                 <span style=\"color: #008000; text-decoration-color: #008000\">│</span>\n",
       "<span style=\"color: #008000; text-decoration-color: #008000\">│</span> 📖 **Content Preview**:                                                                                         <span style=\"color: #008000; text-decoration-color: #008000\">│</span>\n",
       "<span style=\"color: #008000; text-decoration-color: #008000\">│</span> Published Time: Fri, 11 Jul 2025 15:17:55 GMT                                                                   <span style=\"color: #008000; text-decoration-color: #008000\">│</span>\n",
       "<span style=\"color: #008000; text-decoration-color: #008000\">│</span>                                                                                                                 <span style=\"color: #008000; text-decoration-color: #008000\">│</span>\n",
       "<span style=\"color: #008000; text-decoration-color: #008000\">│</span> How to migrate from legacy LangChain agents to LangGraph | 🦜️🔗 LangChain                                       <span style=\"color: #008000; text-decoration-color: #008000\">│</span>\n",
       "<span style=\"color: #008000; text-decoration-color: #008000\">│</span>                                                                                                                 <span style=\"color: #008000; text-decoration-color: #008000\">│</span>\n",
       "<span style=\"color: #008000; text-decoration-color: #008000\">│</span> ===============                                                                                                 <span style=\"color: #008000; text-decoration-color: #008000\">│</span>\n",
       "<span style=\"color: #008000; text-decoration-color: #008000\">│</span>                                                                                                                 <span style=\"color: #008000; text-decoration-color: #008000\">│</span>\n",
       "<span style=\"color: #008000; text-decoration-color: #008000\">│</span> [Skip to main content](https://python.langchain.com/docs/how_t...                                               <span style=\"color: #008000; text-decoration-color: #008000\">│</span>\n",
       "<span style=\"color: #008000; text-decoration-color: #008000\">╰─────────────────────────────────────────────────────────────────────────────────────────────────────────────────╯</span>\n",
       "</pre>\n"
      ],
      "text/plain": [
       "\u001b[32m╭─\u001b[0m\u001b[32m────────────────────────\u001b[0m\u001b[32m 📑 1. https://python.langchain.com/docs/how_to/migrate_agent \u001b[0m\u001b[32m─────────────────────────\u001b[0m\u001b[32m─╮\u001b[0m\n",
       "\u001b[32m│\u001b[0m 🔗 **URL**: https://python.langchain.com/docs/how_to/migrate_agent                                              \u001b[32m│\u001b[0m\n",
       "\u001b[32m│\u001b[0m                                                                                                                 \u001b[32m│\u001b[0m\n",
       "\u001b[32m│\u001b[0m 📖 **Content Preview**:                                                                                         \u001b[32m│\u001b[0m\n",
       "\u001b[32m│\u001b[0m Published Time: Fri, 11 Jul 2025 15:17:55 GMT                                                                   \u001b[32m│\u001b[0m\n",
       "\u001b[32m│\u001b[0m                                                                                                                 \u001b[32m│\u001b[0m\n",
       "\u001b[32m│\u001b[0m How to migrate from legacy LangChain agents to LangGraph | 🦜️🔗 LangChain                                       \u001b[32m│\u001b[0m\n",
       "\u001b[32m│\u001b[0m                                                                                                                 \u001b[32m│\u001b[0m\n",
       "\u001b[32m│\u001b[0m ===============                                                                                                 \u001b[32m│\u001b[0m\n",
       "\u001b[32m│\u001b[0m                                                                                                                 \u001b[32m│\u001b[0m\n",
       "\u001b[32m│\u001b[0m [Skip to main content](https://python.langchain.com/docs/how_t...                                               \u001b[32m│\u001b[0m\n",
       "\u001b[32m╰─────────────────────────────────────────────────────────────────────────────────────────────────────────────────╯\u001b[0m\n"
      ]
     },
     "metadata": {},
     "output_type": "display_data"
    },
    {
     "name": "stdout",
     "output_type": "stream",
     "text": [
      "\n"
     ]
    },
    {
     "data": {
      "text/html": [
       "<pre style=\"white-space:pre;overflow-x:auto;line-height:normal;font-family:Menlo,'DejaVu Sans Mono',consolas,'Courier New',monospace\"><span style=\"color: #008000; text-decoration-color: #008000\">📝 **Note**: All results are specifically about agents in LangChain</span>\n",
       "</pre>\n"
      ],
      "text/plain": [
       "\u001b[32m📝 **Note**: All results are specifically about agents in LangChain\u001b[0m\n"
      ]
     },
     "metadata": {},
     "output_type": "display_data"
    }
   ],
   "source": [
    "# Display the targeted agent documentation found\n",
    "console.print(\"\\n🎯 **LangChain Agent Documentation Found:**\\n\", style=\"green\")\n",
    "\n",
    "for i, result in enumerate(good_results, 1):\n",
    "    title = result.get(\"title\") or result.get(\"url\", \"No URL\")  # Use URL if no title\n",
    "    url = result.get(\"url\", \"No URL\")\n",
    "    content = result.get(\"raw_content\", \"No content\")[:200] + \"...\"\n",
    "    \n",
    "    panel_content = f\"\"\"🔗 **URL**: {url}\n",
    "\n",
    "📖 **Content Preview**:\n",
    "{content}\"\"\"\n",
    "    \n",
    "    console.print(Panel(\n",
    "        panel_content,\n",
    "        title=f\"📑 {i}. {title}\",\n",
    "        border_style=\"green\"\n",
    "    ))\n",
    "    print()\n",
    "\n",
    "console.print(\"📝 **Note**: All results are specifically about agents in LangChain\", style=\"green\")"
   ]
  },
  {
   "cell_type": "markdown",
   "metadata": {},
   "source": [
    "## 📊 Comparison of All Three Approaches\n",
    "\n",
    "Now let's compare all three approaches side by side to understand the impact of instruction quality."
   ]
  },
  {
   "cell_type": "code",
   "execution_count": 21,
   "metadata": {},
   "outputs": [
    {
     "data": {
      "text/html": [
       "<pre style=\"white-space:pre;overflow-x:auto;line-height:normal;font-family:Menlo,'DejaVu Sans Mono',consolas,'Courier New',monospace\"><span style=\"font-style: italic\">                                  📊 TavilyCrawl: Instruction Quality Comparison                                   </span>\n",
       "┏━━━━━━━━━━━━━━━━━━━━━━┳━━━━━━━━━━━━━━━━━━━━━━━━━┳━━━━━━━━━━━━━┳━━━━━━━━━━━━━━━━━━━━━━━┳━━━━━━━━━━━━━━━━━━━━━━━━━━┓\n",
       "┃<span style=\"font-weight: bold\"> Approach             </span>┃<span style=\"font-weight: bold\"> Instructions            </span>┃<span style=\"font-weight: bold\"> Pages Found </span>┃<span style=\"font-weight: bold\"> Content Quality       </span>┃<span style=\"font-weight: bold\"> Usefulness               </span>┃\n",
       "┡━━━━━━━━━━━━━━━━━━━━━━╇━━━━━━━━━━━━━━━━━━━━━━━━━╇━━━━━━━━━━━━━╇━━━━━━━━━━━━━━━━━━━━━━━╇━━━━━━━━━━━━━━━━━━━━━━━━━━┩\n",
       "│<span style=\"color: #008080; text-decoration-color: #008080\"> 🔍 No Instructions   </span>│<span style=\"color: #808000; text-decoration-color: #808000\"> None (baseline)         </span>│<span style=\"color: #000080; text-decoration-color: #000080\"> 18          </span>│<span style=\"color: #008000; text-decoration-color: #008000\"> Mixed (all types)     </span>│<span style=\"color: #800000; text-decoration-color: #800000\"> Low (requires filtering) </span>│\n",
       "│<span style=\"color: #008080; text-decoration-color: #008080\"> ❌ Poor Instructions </span>│<span style=\"color: #808000; text-decoration-color: #808000\"> What is LangChain and   </span>│<span style=\"color: #000080; text-decoration-color: #000080\"> 13          </span>│<span style=\"color: #008000; text-decoration-color: #008000\"> Potentially unfocused </span>│<span style=\"color: #800000; text-decoration-color: #800000\"> Medium (may need         </span>│\n",
       "│<span style=\"color: #008080; text-decoration-color: #008080\">                      </span>│<span style=\"color: #808000; text-decoration-color: #808000\"> how does it work?       </span>│<span style=\"color: #000080; text-decoration-color: #000080\">             </span>│<span style=\"color: #008000; text-decoration-color: #008000\">                       </span>│<span style=\"color: #800000; text-decoration-color: #800000\"> filtering)               </span>│\n",
       "│<span style=\"color: #008080; text-decoration-color: #008080\"> ✅ Good Instructions </span>│<span style=\"color: #808000; text-decoration-color: #808000\"> Find all pages about ai </span>│<span style=\"color: #000080; text-decoration-color: #000080\"> 1           </span>│<span style=\"color: #008000; text-decoration-color: #008000\"> Highly targeted       </span>│<span style=\"color: #800000; text-decoration-color: #800000\"> High (ready to use)      </span>│\n",
       "│<span style=\"color: #008080; text-decoration-color: #008080\">                      </span>│<span style=\"color: #808000; text-decoration-color: #808000\"> agents                  </span>│<span style=\"color: #000080; text-decoration-color: #000080\">             </span>│<span style=\"color: #008000; text-decoration-color: #008000\">                       </span>│<span style=\"color: #800000; text-decoration-color: #800000\">                          </span>│\n",
       "└──────────────────────┴─────────────────────────┴─────────────┴───────────────────────┴──────────────────────────┘\n",
       "</pre>\n"
      ],
      "text/plain": [
       "\u001b[3m                                  📊 TavilyCrawl: Instruction Quality Comparison                                   \u001b[0m\n",
       "┏━━━━━━━━━━━━━━━━━━━━━━┳━━━━━━━━━━━━━━━━━━━━━━━━━┳━━━━━━━━━━━━━┳━━━━━━━━━━━━━━━━━━━━━━━┳━━━━━━━━━━━━━━━━━━━━━━━━━━┓\n",
       "┃\u001b[1m \u001b[0m\u001b[1mApproach            \u001b[0m\u001b[1m \u001b[0m┃\u001b[1m \u001b[0m\u001b[1mInstructions           \u001b[0m\u001b[1m \u001b[0m┃\u001b[1m \u001b[0m\u001b[1mPages Found\u001b[0m\u001b[1m \u001b[0m┃\u001b[1m \u001b[0m\u001b[1mContent Quality      \u001b[0m\u001b[1m \u001b[0m┃\u001b[1m \u001b[0m\u001b[1mUsefulness              \u001b[0m\u001b[1m \u001b[0m┃\n",
       "┡━━━━━━━━━━━━━━━━━━━━━━╇━━━━━━━━━━━━━━━━━━━━━━━━━╇━━━━━━━━━━━━━╇━━━━━━━━━━━━━━━━━━━━━━━╇━━━━━━━━━━━━━━━━━━━━━━━━━━┩\n",
       "│\u001b[36m \u001b[0m\u001b[36m🔍 No Instructions  \u001b[0m\u001b[36m \u001b[0m│\u001b[33m \u001b[0m\u001b[33mNone (baseline)        \u001b[0m\u001b[33m \u001b[0m│\u001b[34m \u001b[0m\u001b[34m18         \u001b[0m\u001b[34m \u001b[0m│\u001b[32m \u001b[0m\u001b[32mMixed (all types)    \u001b[0m\u001b[32m \u001b[0m│\u001b[31m \u001b[0m\u001b[31mLow (requires filtering)\u001b[0m\u001b[31m \u001b[0m│\n",
       "│\u001b[36m \u001b[0m\u001b[36m❌ Poor Instructions\u001b[0m\u001b[36m \u001b[0m│\u001b[33m \u001b[0m\u001b[33mWhat is LangChain and  \u001b[0m\u001b[33m \u001b[0m│\u001b[34m \u001b[0m\u001b[34m13         \u001b[0m\u001b[34m \u001b[0m│\u001b[32m \u001b[0m\u001b[32mPotentially unfocused\u001b[0m\u001b[32m \u001b[0m│\u001b[31m \u001b[0m\u001b[31mMedium (may need        \u001b[0m\u001b[31m \u001b[0m│\n",
       "│\u001b[36m                      \u001b[0m│\u001b[33m \u001b[0m\u001b[33mhow does it work?      \u001b[0m\u001b[33m \u001b[0m│\u001b[34m             \u001b[0m│\u001b[32m                       \u001b[0m│\u001b[31m \u001b[0m\u001b[31mfiltering)              \u001b[0m\u001b[31m \u001b[0m│\n",
       "│\u001b[36m \u001b[0m\u001b[36m✅ Good Instructions\u001b[0m\u001b[36m \u001b[0m│\u001b[33m \u001b[0m\u001b[33mFind all pages about ai\u001b[0m\u001b[33m \u001b[0m│\u001b[34m \u001b[0m\u001b[34m1          \u001b[0m\u001b[34m \u001b[0m│\u001b[32m \u001b[0m\u001b[32mHighly targeted      \u001b[0m\u001b[32m \u001b[0m│\u001b[31m \u001b[0m\u001b[31mHigh (ready to use)     \u001b[0m\u001b[31m \u001b[0m│\n",
       "│\u001b[36m                      \u001b[0m│\u001b[33m \u001b[0m\u001b[33magents                 \u001b[0m\u001b[33m \u001b[0m│\u001b[34m             \u001b[0m│\u001b[32m                       \u001b[0m│\u001b[31m                          \u001b[0m│\n",
       "└──────────────────────┴─────────────────────────┴─────────────┴───────────────────────┴──────────────────────────┘\n"
      ]
     },
     "metadata": {},
     "output_type": "display_data"
    },
    {
     "data": {
      "text/html": [
       "<pre style=\"white-space:pre;overflow-x:auto;line-height:normal;font-family:Menlo,'DejaVu Sans Mono',consolas,'Courier New',monospace\">\n",
       "<span style=\"color: #000080; text-decoration-color: #000080\">🎯 **Key Observations:**</span>\n",
       "</pre>\n"
      ],
      "text/plain": [
       "\n",
       "\u001b[34m🎯 **Key Observations:**\u001b[0m\n"
      ]
     },
     "metadata": {},
     "output_type": "display_data"
    },
    {
     "data": {
      "text/html": [
       "<pre style=\"white-space:pre;overflow-x:auto;line-height:normal;font-family:Menlo,'DejaVu Sans Mono',consolas,'Courier New',monospace\">   🔍 **No instructions** return everything, requiring manual filtering\n",
       "</pre>\n"
      ],
      "text/plain": [
       "   🔍 **No instructions** return everything, requiring manual filtering\n"
      ]
     },
     "metadata": {},
     "output_type": "display_data"
    },
    {
     "data": {
      "text/html": [
       "<pre style=\"white-space:pre;overflow-x:auto;line-height:normal;font-family:Menlo,'DejaVu Sans Mono',consolas,'Courier New',monospace\">   ❌ **Poor instructions** may return unfocused results\n",
       "</pre>\n"
      ],
      "text/plain": [
       "   ❌ **Poor instructions** may return unfocused results\n"
      ]
     },
     "metadata": {},
     "output_type": "display_data"
    },
    {
     "data": {
      "text/html": [
       "<pre style=\"white-space:pre;overflow-x:auto;line-height:normal;font-family:Menlo,'DejaVu Sans Mono',consolas,'Courier New',monospace\">   ✅ **Good instructions** provide highly targeted, ready-to-use results\n",
       "</pre>\n"
      ],
      "text/plain": [
       "   ✅ **Good instructions** provide highly targeted, ready-to-use results\n"
      ]
     },
     "metadata": {},
     "output_type": "display_data"
    },
    {
     "data": {
      "text/html": [
       "<pre style=\"white-space:pre;overflow-x:auto;line-height:normal;font-family:Menlo,'DejaVu Sans Mono',consolas,'Courier New',monospace\">   💡 **Best practice**: Use specific, action-oriented instructions\n",
       "</pre>\n"
      ],
      "text/plain": [
       "   💡 **Best practice**: Use specific, action-oriented instructions\n"
      ]
     },
     "metadata": {},
     "output_type": "display_data"
    },
    {
     "data": {
      "text/html": [
       "<pre style=\"white-space:pre;overflow-x:auto;line-height:normal;font-family:Menlo,'DejaVu Sans Mono',consolas,'Courier New',monospace\">\n",
       "<span style=\"color: #008000; text-decoration-color: #008000\">📈 **Efficiency with Good Instructions:**</span>\n",
       "</pre>\n"
      ],
      "text/plain": [
       "\n",
       "\u001b[32m📈 **Efficiency with Good Instructions:**\u001b[0m\n"
      ]
     },
     "metadata": {},
     "output_type": "display_data"
    },
    {
     "data": {
      "text/html": [
       "<pre style=\"white-space:pre;overflow-x:auto;line-height:normal;font-family:Menlo,'DejaVu Sans Mono',consolas,'Courier New',monospace\">   🎯 Filtering efficiency: <span style=\"color: #008080; text-decoration-color: #008080; font-weight: bold\">94.4</span>% reduction in noise\n",
       "</pre>\n"
      ],
      "text/plain": [
       "   🎯 Filtering efficiency: \u001b[1;36m94.4\u001b[0m% reduction in noise\n"
      ]
     },
     "metadata": {},
     "output_type": "display_data"
    },
    {
     "data": {
      "text/html": [
       "<pre style=\"white-space:pre;overflow-x:auto;line-height:normal;font-family:Menlo,'DejaVu Sans Mono',consolas,'Courier New',monospace\">   ⚡ Time saved: No manual post-processing required\n",
       "</pre>\n"
      ],
      "text/plain": [
       "   ⚡ Time saved: No manual post-processing required\n"
      ]
     },
     "metadata": {},
     "output_type": "display_data"
    },
    {
     "data": {
      "text/html": [
       "<pre style=\"white-space:pre;overflow-x:auto;line-height:normal;font-family:Menlo,'DejaVu Sans Mono',consolas,'Courier New',monospace\">   🧠 AI-powered: Intelligent path selection and content filtering\n",
       "</pre>\n"
      ],
      "text/plain": [
       "   🧠 AI-powered: Intelligent path selection and content filtering\n"
      ]
     },
     "metadata": {},
     "output_type": "display_data"
    }
   ],
   "source": [
    "# Create comparison table\n",
    "comparison_table = Table(title=\"📊 TavilyCrawl: Instruction Quality Comparison\")\n",
    "comparison_table.add_column(\"Approach\", style=\"cyan\", no_wrap=True)\n",
    "comparison_table.add_column(\"Instructions\", style=\"yellow\")\n",
    "comparison_table.add_column(\"Pages Found\", style=\"blue\")\n",
    "comparison_table.add_column(\"Content Quality\", style=\"green\")\n",
    "comparison_table.add_column(\"Usefulness\", style=\"red\")\n",
    "\n",
    "comparison_table.add_row(\n",
    "    \"🔍 No Instructions\",\n",
    "    \"None (baseline)\",\n",
    "    f\"{len(basic_results)}\",\n",
    "    \"Mixed (all types)\",\n",
    "    \"Low (requires filtering)\"\n",
    ")\n",
    "\n",
    "comparison_table.add_row(\n",
    "    \"❌ Poor Instructions\",\n",
    "    bad_instructions,\n",
    "    f\"{len(bad_results)}\",\n",
    "    \"Potentially unfocused\",\n",
    "    \"Medium (may need filtering)\"\n",
    ")\n",
    "\n",
    "comparison_table.add_row(\n",
    "    \"✅ Good Instructions\",\n",
    "    good_instructions,\n",
    "    f\"{len(good_results)}\",\n",
    "    \"Highly targeted\",\n",
    "    \"High (ready to use)\"\n",
    ")\n",
    "\n",
    "console.print(comparison_table)\n",
    "\n",
    "console.print(\"\\n🎯 **Key Observations:**\", style=\"blue\")\n",
    "console.print(\"   🔍 **No instructions** return everything, requiring manual filtering\")\n",
    "console.print(\"   ❌ **Poor instructions** may return unfocused results\")\n",
    "console.print(\"   ✅ **Good instructions** provide highly targeted, ready-to-use results\")\n",
    "console.print(\"   💡 **Best practice**: Use specific, action-oriented instructions\")\n",
    "\n",
    "console.print(f\"\\n📈 **Efficiency with Good Instructions:**\", style=\"green\")\n",
    "console.print(f\"   🎯 Filtering efficiency: {((len(basic_results) - len(good_results)) / len(basic_results) * 100):.1f}% reduction in noise\")\n",
    "console.print(\"   ⚡ Time saved: No manual post-processing required\")\n",
    "console.print(\"   🧠 AI-powered: Intelligent path selection and content filtering\")"
   ]
  }
 ],
 "metadata": {
  "kernelspec": {
   "display_name": "documentation-helper-zmyxh5Q8",
   "language": "python",
   "name": "python3"
  },
  "language_info": {
   "codemirror_mode": {
    "name": "ipython",
    "version": 3
   },
   "file_extension": ".py",
   "mimetype": "text/x-python",
   "name": "python",
   "nbconvert_exporter": "python",
   "pygments_lexer": "ipython3",
   "version": "3.10.11"
  }
 },
 "nbformat": 4,
 "nbformat_minor": 2
}
